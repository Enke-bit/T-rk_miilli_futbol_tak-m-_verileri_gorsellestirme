{
 "cells": [
  {
   "cell_type": "markdown",
   "id": "7c524195",
   "metadata": {},
   "source": [
    "# Biraz Hava Girdim Ve bu çalışmayı yaptım umarım beğenirsiniz :)"
   ]
  },
  {
   "cell_type": "markdown",
   "id": "02b955ff",
   "metadata": {},
   "source": [
    "# 1. Hücre: Kütüphaneleri İçe Aktarma ve Veri Yükleme"
   ]
  },
  {
   "cell_type": "code",
   "execution_count": 52,
   "id": "0936ed9d",
   "metadata": {},
   "outputs": [],
   "source": [
    "import pandas as pd\n",
    "import plotly.graph_objects as go\n",
    "import numpy as np\n",
    "\n",
    "# Dosyayı okuyalım\n",
    "file_path = r'C:\\Users\\realb\\Desktop\\UEFA 24/euro2024_players.csv'\n",
    "data = pd.read_csv(file_path)\n"
   ]
  },
  {
   "cell_type": "markdown",
   "id": "fa38f3bb",
   "metadata": {},
   "source": [
    "# 2. Hücre: Türkiye Milli Takımı Oyuncularını Filtreleme"
   ]
  },
  {
   "cell_type": "code",
   "execution_count": 53,
   "id": "6d831b3b",
   "metadata": {},
   "outputs": [],
   "source": [
    "# Türkiye Milli Takımı oyuncularını filtreleyelim\n",
    "turkey_players = data[data['Country'] == 'Turkiye']"
   ]
  },
  {
   "cell_type": "markdown",
   "id": "0643da30",
   "metadata": {},
   "source": [
    "# 3. Hücre: İlk 11 Oyuncuları ve Koordinatları Belirleme"
   ]
  },
  {
   "cell_type": "code",
   "execution_count": 54,
   "id": "593778b3",
   "metadata": {},
   "outputs": [],
   "source": [
    "# İlk 11 oyuncularını belirleyelim\n",
    "first_eleven = {\n",
    "    'Goalkeeper': 'Mert Günok',\n",
    "    'Left Back': 'Ferdi Kadıoğlu',\n",
    "    'Right Back': 'Mert Müldür',\n",
    "    'Defender': ['Abdülkerim Bardakcı', 'Samet Akaydin'],\n",
    "    'Midfielder': ['Hakan Çalhanoğlu', 'İsmail Yüksek'],\n",
    "    'Right Wing': 'Barış Alper Yılmaz',\n",
    "    'Left Wing': 'Kerem Aktürkoğlu',\n",
    "    'Attacking Midfielder': 'Arda Güler',\n",
    "    'Forward': 'Cenk Tosun'\n",
    "}\n",
    "\n",
    "# Koordinatları belirleyelim\n",
    "positions_coordinates = {\n",
    "    'Goalkeeper': [(5, 50)],\n",
    "    'Left Back': [(20, 20)],\n",
    "    'Right Back': [(20, 80)],\n",
    "    'Defender': [(35, 35), (35, 65)],\n",
    "    'Midfielder': [(50, 30), (50, 70)],\n",
    "    'Right Wing': [(70, 20)],\n",
    "    'Left Wing': [(70, 80)],\n",
    "    'Attacking Midfielder': [(70, 50)],\n",
    "    'Forward': [(90, 50)]\n",
    "}\n",
    "\n",
    "# Koordinatları ekleyelim\n",
    "coordinates = []\n",
    "for position, players in first_eleven.items():\n",
    "    if isinstance(players, list):\n",
    "        for player in players:\n",
    "            coordinates.append((player, positions_coordinates[position].pop(0)))\n",
    "    else:\n",
    "        coordinates.append((players, positions_coordinates[position][0]))\n",
    "\n",
    "# İlk 11 oyuncularını dataframe'e ekleyelim\n",
    "starting_11 = pd.DataFrame(coordinates, columns=['Name', 'Coordinates'])\n",
    "starting_11[['X', 'Y']] = pd.DataFrame(starting_11['Coordinates'].tolist(), index=starting_11.index)\n",
    "starting_11.drop(columns=['Coordinates'], inplace=True)\n"
   ]
  },
  {
   "cell_type": "markdown",
   "id": "489ff155",
   "metadata": {},
   "source": [
    "# 4. Hücre: İlk 11 Oyuncuları ve Yedek Oyuncuları Belirleme"
   ]
  },
  {
   "cell_type": "code",
   "execution_count": 55,
   "id": "599d0f73",
   "metadata": {},
   "outputs": [],
   "source": [
    "# İlk 11 oyuncuları ana veriden çıkaralım\n",
    "remaining_players = turkey_players[~turkey_players['Name'].isin(starting_11['Name'])]"
   ]
  },
  {
   "cell_type": "markdown",
   "id": "8368a468",
   "metadata": {},
   "source": [
    "# 5. Hücre: Futbol Sahası Grafiği Oluşturm"
   ]
  },
  {
   "cell_type": "code",
   "execution_count": 56,
   "id": "aa7c9022",
   "metadata": {},
   "outputs": [
    {
     "data": {
      "application/vnd.plotly.v1+json": {
       "config": {
        "plotlyServerURL": "https://plot.ly"
       },
       "data": [],
       "layout": {
        "shapes": [
         {
          "fillcolor": "rgba(0,0,0,0)",
          "line": {
           "color": "black"
          },
          "type": "rect",
          "x0": 0,
          "x1": 100,
          "y0": 0,
          "y1": 100
         },
         {
          "line": {
           "color": "black"
          },
          "type": "line",
          "x0": 0,
          "x1": 0,
          "y0": 0,
          "y1": 100
         },
         {
          "line": {
           "color": "black"
          },
          "type": "line",
          "x0": 0,
          "x1": 100,
          "y0": 100,
          "y1": 100
         },
         {
          "line": {
           "color": "black"
          },
          "type": "line",
          "x0": 100,
          "x1": 100,
          "y0": 100,
          "y1": 0
         },
         {
          "line": {
           "color": "black"
          },
          "type": "line",
          "x0": 100,
          "x1": 0,
          "y0": 0,
          "y1": 0
         },
         {
          "line": {
           "color": "black"
          },
          "type": "line",
          "x0": 50,
          "x1": 50,
          "y0": 0,
          "y1": 100
         },
         {
          "line": {
           "color": "black"
          },
          "type": "line",
          "x0": 15,
          "x1": 15,
          "y0": 19.5,
          "y1": 80.5
         },
         {
          "line": {
           "color": "black"
          },
          "type": "line",
          "x0": 0,
          "x1": 15,
          "y0": 19.5,
          "y1": 19.5
         },
         {
          "line": {
           "color": "black"
          },
          "type": "line",
          "x0": 15,
          "x1": 0,
          "y0": 80.5,
          "y1": 80.5
         },
         {
          "line": {
           "color": "black"
          },
          "type": "line",
          "x0": 85,
          "x1": 85,
          "y0": 19.5,
          "y1": 80.5
         },
         {
          "line": {
           "color": "black"
          },
          "type": "line",
          "x0": 100,
          "x1": 85,
          "y0": 19.5,
          "y1": 19.5
         },
         {
          "line": {
           "color": "black"
          },
          "type": "line",
          "x0": 85,
          "x1": 100,
          "y0": 80.5,
          "y1": 80.5
         },
         {
          "line": {
           "color": "black"
          },
          "type": "line",
          "x0": 5.5,
          "x1": 5.5,
          "y0": 29.5,
          "y1": 70.5
         },
         {
          "line": {
           "color": "black"
          },
          "type": "line",
          "x0": 0,
          "x1": 5.5,
          "y0": 29.5,
          "y1": 29.5
         },
         {
          "line": {
           "color": "black"
          },
          "type": "line",
          "x0": 5.5,
          "x1": 0,
          "y0": 70.5,
          "y1": 70.5
         },
         {
          "line": {
           "color": "black"
          },
          "type": "line",
          "x0": 94.5,
          "x1": 94.5,
          "y0": 29.5,
          "y1": 70.5
         },
         {
          "line": {
           "color": "black"
          },
          "type": "line",
          "x0": 100,
          "x1": 94.5,
          "y0": 29.5,
          "y1": 29.5
         },
         {
          "line": {
           "color": "black"
          },
          "type": "line",
          "x0": 94.5,
          "x1": 100,
          "y0": 70.5,
          "y1": 70.5
         }
        ],
        "template": {
         "data": {
          "bar": [
           {
            "error_x": {
             "color": "#2a3f5f"
            },
            "error_y": {
             "color": "#2a3f5f"
            },
            "marker": {
             "line": {
              "color": "#E5ECF6",
              "width": 0.5
             },
             "pattern": {
              "fillmode": "overlay",
              "size": 10,
              "solidity": 0.2
             }
            },
            "type": "bar"
           }
          ],
          "barpolar": [
           {
            "marker": {
             "line": {
              "color": "#E5ECF6",
              "width": 0.5
             },
             "pattern": {
              "fillmode": "overlay",
              "size": 10,
              "solidity": 0.2
             }
            },
            "type": "barpolar"
           }
          ],
          "carpet": [
           {
            "aaxis": {
             "endlinecolor": "#2a3f5f",
             "gridcolor": "white",
             "linecolor": "white",
             "minorgridcolor": "white",
             "startlinecolor": "#2a3f5f"
            },
            "baxis": {
             "endlinecolor": "#2a3f5f",
             "gridcolor": "white",
             "linecolor": "white",
             "minorgridcolor": "white",
             "startlinecolor": "#2a3f5f"
            },
            "type": "carpet"
           }
          ],
          "choropleth": [
           {
            "colorbar": {
             "outlinewidth": 0,
             "ticks": ""
            },
            "type": "choropleth"
           }
          ],
          "contour": [
           {
            "colorbar": {
             "outlinewidth": 0,
             "ticks": ""
            },
            "colorscale": [
             [
              0,
              "#0d0887"
             ],
             [
              0.1111111111111111,
              "#46039f"
             ],
             [
              0.2222222222222222,
              "#7201a8"
             ],
             [
              0.3333333333333333,
              "#9c179e"
             ],
             [
              0.4444444444444444,
              "#bd3786"
             ],
             [
              0.5555555555555556,
              "#d8576b"
             ],
             [
              0.6666666666666666,
              "#ed7953"
             ],
             [
              0.7777777777777778,
              "#fb9f3a"
             ],
             [
              0.8888888888888888,
              "#fdca26"
             ],
             [
              1,
              "#f0f921"
             ]
            ],
            "type": "contour"
           }
          ],
          "contourcarpet": [
           {
            "colorbar": {
             "outlinewidth": 0,
             "ticks": ""
            },
            "type": "contourcarpet"
           }
          ],
          "heatmap": [
           {
            "colorbar": {
             "outlinewidth": 0,
             "ticks": ""
            },
            "colorscale": [
             [
              0,
              "#0d0887"
             ],
             [
              0.1111111111111111,
              "#46039f"
             ],
             [
              0.2222222222222222,
              "#7201a8"
             ],
             [
              0.3333333333333333,
              "#9c179e"
             ],
             [
              0.4444444444444444,
              "#bd3786"
             ],
             [
              0.5555555555555556,
              "#d8576b"
             ],
             [
              0.6666666666666666,
              "#ed7953"
             ],
             [
              0.7777777777777778,
              "#fb9f3a"
             ],
             [
              0.8888888888888888,
              "#fdca26"
             ],
             [
              1,
              "#f0f921"
             ]
            ],
            "type": "heatmap"
           }
          ],
          "heatmapgl": [
           {
            "colorbar": {
             "outlinewidth": 0,
             "ticks": ""
            },
            "colorscale": [
             [
              0,
              "#0d0887"
             ],
             [
              0.1111111111111111,
              "#46039f"
             ],
             [
              0.2222222222222222,
              "#7201a8"
             ],
             [
              0.3333333333333333,
              "#9c179e"
             ],
             [
              0.4444444444444444,
              "#bd3786"
             ],
             [
              0.5555555555555556,
              "#d8576b"
             ],
             [
              0.6666666666666666,
              "#ed7953"
             ],
             [
              0.7777777777777778,
              "#fb9f3a"
             ],
             [
              0.8888888888888888,
              "#fdca26"
             ],
             [
              1,
              "#f0f921"
             ]
            ],
            "type": "heatmapgl"
           }
          ],
          "histogram": [
           {
            "marker": {
             "pattern": {
              "fillmode": "overlay",
              "size": 10,
              "solidity": 0.2
             }
            },
            "type": "histogram"
           }
          ],
          "histogram2d": [
           {
            "colorbar": {
             "outlinewidth": 0,
             "ticks": ""
            },
            "colorscale": [
             [
              0,
              "#0d0887"
             ],
             [
              0.1111111111111111,
              "#46039f"
             ],
             [
              0.2222222222222222,
              "#7201a8"
             ],
             [
              0.3333333333333333,
              "#9c179e"
             ],
             [
              0.4444444444444444,
              "#bd3786"
             ],
             [
              0.5555555555555556,
              "#d8576b"
             ],
             [
              0.6666666666666666,
              "#ed7953"
             ],
             [
              0.7777777777777778,
              "#fb9f3a"
             ],
             [
              0.8888888888888888,
              "#fdca26"
             ],
             [
              1,
              "#f0f921"
             ]
            ],
            "type": "histogram2d"
           }
          ],
          "histogram2dcontour": [
           {
            "colorbar": {
             "outlinewidth": 0,
             "ticks": ""
            },
            "colorscale": [
             [
              0,
              "#0d0887"
             ],
             [
              0.1111111111111111,
              "#46039f"
             ],
             [
              0.2222222222222222,
              "#7201a8"
             ],
             [
              0.3333333333333333,
              "#9c179e"
             ],
             [
              0.4444444444444444,
              "#bd3786"
             ],
             [
              0.5555555555555556,
              "#d8576b"
             ],
             [
              0.6666666666666666,
              "#ed7953"
             ],
             [
              0.7777777777777778,
              "#fb9f3a"
             ],
             [
              0.8888888888888888,
              "#fdca26"
             ],
             [
              1,
              "#f0f921"
             ]
            ],
            "type": "histogram2dcontour"
           }
          ],
          "mesh3d": [
           {
            "colorbar": {
             "outlinewidth": 0,
             "ticks": ""
            },
            "type": "mesh3d"
           }
          ],
          "parcoords": [
           {
            "line": {
             "colorbar": {
              "outlinewidth": 0,
              "ticks": ""
             }
            },
            "type": "parcoords"
           }
          ],
          "pie": [
           {
            "automargin": true,
            "type": "pie"
           }
          ],
          "scatter": [
           {
            "fillpattern": {
             "fillmode": "overlay",
             "size": 10,
             "solidity": 0.2
            },
            "type": "scatter"
           }
          ],
          "scatter3d": [
           {
            "line": {
             "colorbar": {
              "outlinewidth": 0,
              "ticks": ""
             }
            },
            "marker": {
             "colorbar": {
              "outlinewidth": 0,
              "ticks": ""
             }
            },
            "type": "scatter3d"
           }
          ],
          "scattercarpet": [
           {
            "marker": {
             "colorbar": {
              "outlinewidth": 0,
              "ticks": ""
             }
            },
            "type": "scattercarpet"
           }
          ],
          "scattergeo": [
           {
            "marker": {
             "colorbar": {
              "outlinewidth": 0,
              "ticks": ""
             }
            },
            "type": "scattergeo"
           }
          ],
          "scattergl": [
           {
            "marker": {
             "colorbar": {
              "outlinewidth": 0,
              "ticks": ""
             }
            },
            "type": "scattergl"
           }
          ],
          "scattermapbox": [
           {
            "marker": {
             "colorbar": {
              "outlinewidth": 0,
              "ticks": ""
             }
            },
            "type": "scattermapbox"
           }
          ],
          "scatterpolar": [
           {
            "marker": {
             "colorbar": {
              "outlinewidth": 0,
              "ticks": ""
             }
            },
            "type": "scatterpolar"
           }
          ],
          "scatterpolargl": [
           {
            "marker": {
             "colorbar": {
              "outlinewidth": 0,
              "ticks": ""
             }
            },
            "type": "scatterpolargl"
           }
          ],
          "scatterternary": [
           {
            "marker": {
             "colorbar": {
              "outlinewidth": 0,
              "ticks": ""
             }
            },
            "type": "scatterternary"
           }
          ],
          "surface": [
           {
            "colorbar": {
             "outlinewidth": 0,
             "ticks": ""
            },
            "colorscale": [
             [
              0,
              "#0d0887"
             ],
             [
              0.1111111111111111,
              "#46039f"
             ],
             [
              0.2222222222222222,
              "#7201a8"
             ],
             [
              0.3333333333333333,
              "#9c179e"
             ],
             [
              0.4444444444444444,
              "#bd3786"
             ],
             [
              0.5555555555555556,
              "#d8576b"
             ],
             [
              0.6666666666666666,
              "#ed7953"
             ],
             [
              0.7777777777777778,
              "#fb9f3a"
             ],
             [
              0.8888888888888888,
              "#fdca26"
             ],
             [
              1,
              "#f0f921"
             ]
            ],
            "type": "surface"
           }
          ],
          "table": [
           {
            "cells": {
             "fill": {
              "color": "#EBF0F8"
             },
             "line": {
              "color": "white"
             }
            },
            "header": {
             "fill": {
              "color": "#C8D4E3"
             },
             "line": {
              "color": "white"
             }
            },
            "type": "table"
           }
          ]
         },
         "layout": {
          "annotationdefaults": {
           "arrowcolor": "#2a3f5f",
           "arrowhead": 0,
           "arrowwidth": 1
          },
          "autotypenumbers": "strict",
          "coloraxis": {
           "colorbar": {
            "outlinewidth": 0,
            "ticks": ""
           }
          },
          "colorscale": {
           "diverging": [
            [
             0,
             "#8e0152"
            ],
            [
             0.1,
             "#c51b7d"
            ],
            [
             0.2,
             "#de77ae"
            ],
            [
             0.3,
             "#f1b6da"
            ],
            [
             0.4,
             "#fde0ef"
            ],
            [
             0.5,
             "#f7f7f7"
            ],
            [
             0.6,
             "#e6f5d0"
            ],
            [
             0.7,
             "#b8e186"
            ],
            [
             0.8,
             "#7fbc41"
            ],
            [
             0.9,
             "#4d9221"
            ],
            [
             1,
             "#276419"
            ]
           ],
           "sequential": [
            [
             0,
             "#0d0887"
            ],
            [
             0.1111111111111111,
             "#46039f"
            ],
            [
             0.2222222222222222,
             "#7201a8"
            ],
            [
             0.3333333333333333,
             "#9c179e"
            ],
            [
             0.4444444444444444,
             "#bd3786"
            ],
            [
             0.5555555555555556,
             "#d8576b"
            ],
            [
             0.6666666666666666,
             "#ed7953"
            ],
            [
             0.7777777777777778,
             "#fb9f3a"
            ],
            [
             0.8888888888888888,
             "#fdca26"
            ],
            [
             1,
             "#f0f921"
            ]
           ],
           "sequentialminus": [
            [
             0,
             "#0d0887"
            ],
            [
             0.1111111111111111,
             "#46039f"
            ],
            [
             0.2222222222222222,
             "#7201a8"
            ],
            [
             0.3333333333333333,
             "#9c179e"
            ],
            [
             0.4444444444444444,
             "#bd3786"
            ],
            [
             0.5555555555555556,
             "#d8576b"
            ],
            [
             0.6666666666666666,
             "#ed7953"
            ],
            [
             0.7777777777777778,
             "#fb9f3a"
            ],
            [
             0.8888888888888888,
             "#fdca26"
            ],
            [
             1,
             "#f0f921"
            ]
           ]
          },
          "colorway": [
           "#636efa",
           "#EF553B",
           "#00cc96",
           "#ab63fa",
           "#FFA15A",
           "#19d3f3",
           "#FF6692",
           "#B6E880",
           "#FF97FF",
           "#FECB52"
          ],
          "font": {
           "color": "#2a3f5f"
          },
          "geo": {
           "bgcolor": "white",
           "lakecolor": "white",
           "landcolor": "#E5ECF6",
           "showlakes": true,
           "showland": true,
           "subunitcolor": "white"
          },
          "hoverlabel": {
           "align": "left"
          },
          "hovermode": "closest",
          "mapbox": {
           "style": "light"
          },
          "paper_bgcolor": "white",
          "plot_bgcolor": "#E5ECF6",
          "polar": {
           "angularaxis": {
            "gridcolor": "white",
            "linecolor": "white",
            "ticks": ""
           },
           "bgcolor": "#E5ECF6",
           "radialaxis": {
            "gridcolor": "white",
            "linecolor": "white",
            "ticks": ""
           }
          },
          "scene": {
           "xaxis": {
            "backgroundcolor": "#E5ECF6",
            "gridcolor": "white",
            "gridwidth": 2,
            "linecolor": "white",
            "showbackground": true,
            "ticks": "",
            "zerolinecolor": "white"
           },
           "yaxis": {
            "backgroundcolor": "#E5ECF6",
            "gridcolor": "white",
            "gridwidth": 2,
            "linecolor": "white",
            "showbackground": true,
            "ticks": "",
            "zerolinecolor": "white"
           },
           "zaxis": {
            "backgroundcolor": "#E5ECF6",
            "gridcolor": "white",
            "gridwidth": 2,
            "linecolor": "white",
            "showbackground": true,
            "ticks": "",
            "zerolinecolor": "white"
           }
          },
          "shapedefaults": {
           "line": {
            "color": "#2a3f5f"
           }
          },
          "ternary": {
           "aaxis": {
            "gridcolor": "white",
            "linecolor": "white",
            "ticks": ""
           },
           "baxis": {
            "gridcolor": "white",
            "linecolor": "white",
            "ticks": ""
           },
           "bgcolor": "#E5ECF6",
           "caxis": {
            "gridcolor": "white",
            "linecolor": "white",
            "ticks": ""
           }
          },
          "title": {
           "x": 0.05
          },
          "xaxis": {
           "automargin": true,
           "gridcolor": "white",
           "linecolor": "white",
           "ticks": "",
           "title": {
            "standoff": 15
           },
           "zerolinecolor": "white",
           "zerolinewidth": 2
          },
          "yaxis": {
           "automargin": true,
           "gridcolor": "white",
           "linecolor": "white",
           "ticks": "",
           "title": {
            "standoff": 15
           },
           "zerolinecolor": "white",
           "zerolinewidth": 2
          }
         }
        }
       }
      },
      "text/html": [
       "<div>                            <div id=\"df86a9ca-06a6-4933-b862-295084b3172a\" class=\"plotly-graph-div\" style=\"height:525px; width:100%;\"></div>            <script type=\"text/javascript\">                require([\"plotly\"], function(Plotly) {                    window.PLOTLYENV=window.PLOTLYENV || {};                                    if (document.getElementById(\"df86a9ca-06a6-4933-b862-295084b3172a\")) {                    Plotly.newPlot(                        \"df86a9ca-06a6-4933-b862-295084b3172a\",                        [],                        {\"template\":{\"data\":{\"histogram2dcontour\":[{\"type\":\"histogram2dcontour\",\"colorbar\":{\"outlinewidth\":0,\"ticks\":\"\"},\"colorscale\":[[0.0,\"#0d0887\"],[0.1111111111111111,\"#46039f\"],[0.2222222222222222,\"#7201a8\"],[0.3333333333333333,\"#9c179e\"],[0.4444444444444444,\"#bd3786\"],[0.5555555555555556,\"#d8576b\"],[0.6666666666666666,\"#ed7953\"],[0.7777777777777778,\"#fb9f3a\"],[0.8888888888888888,\"#fdca26\"],[1.0,\"#f0f921\"]]}],\"choropleth\":[{\"type\":\"choropleth\",\"colorbar\":{\"outlinewidth\":0,\"ticks\":\"\"}}],\"histogram2d\":[{\"type\":\"histogram2d\",\"colorbar\":{\"outlinewidth\":0,\"ticks\":\"\"},\"colorscale\":[[0.0,\"#0d0887\"],[0.1111111111111111,\"#46039f\"],[0.2222222222222222,\"#7201a8\"],[0.3333333333333333,\"#9c179e\"],[0.4444444444444444,\"#bd3786\"],[0.5555555555555556,\"#d8576b\"],[0.6666666666666666,\"#ed7953\"],[0.7777777777777778,\"#fb9f3a\"],[0.8888888888888888,\"#fdca26\"],[1.0,\"#f0f921\"]]}],\"heatmap\":[{\"type\":\"heatmap\",\"colorbar\":{\"outlinewidth\":0,\"ticks\":\"\"},\"colorscale\":[[0.0,\"#0d0887\"],[0.1111111111111111,\"#46039f\"],[0.2222222222222222,\"#7201a8\"],[0.3333333333333333,\"#9c179e\"],[0.4444444444444444,\"#bd3786\"],[0.5555555555555556,\"#d8576b\"],[0.6666666666666666,\"#ed7953\"],[0.7777777777777778,\"#fb9f3a\"],[0.8888888888888888,\"#fdca26\"],[1.0,\"#f0f921\"]]}],\"heatmapgl\":[{\"type\":\"heatmapgl\",\"colorbar\":{\"outlinewidth\":0,\"ticks\":\"\"},\"colorscale\":[[0.0,\"#0d0887\"],[0.1111111111111111,\"#46039f\"],[0.2222222222222222,\"#7201a8\"],[0.3333333333333333,\"#9c179e\"],[0.4444444444444444,\"#bd3786\"],[0.5555555555555556,\"#d8576b\"],[0.6666666666666666,\"#ed7953\"],[0.7777777777777778,\"#fb9f3a\"],[0.8888888888888888,\"#fdca26\"],[1.0,\"#f0f921\"]]}],\"contourcarpet\":[{\"type\":\"contourcarpet\",\"colorbar\":{\"outlinewidth\":0,\"ticks\":\"\"}}],\"contour\":[{\"type\":\"contour\",\"colorbar\":{\"outlinewidth\":0,\"ticks\":\"\"},\"colorscale\":[[0.0,\"#0d0887\"],[0.1111111111111111,\"#46039f\"],[0.2222222222222222,\"#7201a8\"],[0.3333333333333333,\"#9c179e\"],[0.4444444444444444,\"#bd3786\"],[0.5555555555555556,\"#d8576b\"],[0.6666666666666666,\"#ed7953\"],[0.7777777777777778,\"#fb9f3a\"],[0.8888888888888888,\"#fdca26\"],[1.0,\"#f0f921\"]]}],\"surface\":[{\"type\":\"surface\",\"colorbar\":{\"outlinewidth\":0,\"ticks\":\"\"},\"colorscale\":[[0.0,\"#0d0887\"],[0.1111111111111111,\"#46039f\"],[0.2222222222222222,\"#7201a8\"],[0.3333333333333333,\"#9c179e\"],[0.4444444444444444,\"#bd3786\"],[0.5555555555555556,\"#d8576b\"],[0.6666666666666666,\"#ed7953\"],[0.7777777777777778,\"#fb9f3a\"],[0.8888888888888888,\"#fdca26\"],[1.0,\"#f0f921\"]]}],\"mesh3d\":[{\"type\":\"mesh3d\",\"colorbar\":{\"outlinewidth\":0,\"ticks\":\"\"}}],\"scatter\":[{\"fillpattern\":{\"fillmode\":\"overlay\",\"size\":10,\"solidity\":0.2},\"type\":\"scatter\"}],\"parcoords\":[{\"type\":\"parcoords\",\"line\":{\"colorbar\":{\"outlinewidth\":0,\"ticks\":\"\"}}}],\"scatterpolargl\":[{\"type\":\"scatterpolargl\",\"marker\":{\"colorbar\":{\"outlinewidth\":0,\"ticks\":\"\"}}}],\"bar\":[{\"error_x\":{\"color\":\"#2a3f5f\"},\"error_y\":{\"color\":\"#2a3f5f\"},\"marker\":{\"line\":{\"color\":\"#E5ECF6\",\"width\":0.5},\"pattern\":{\"fillmode\":\"overlay\",\"size\":10,\"solidity\":0.2}},\"type\":\"bar\"}],\"scattergeo\":[{\"type\":\"scattergeo\",\"marker\":{\"colorbar\":{\"outlinewidth\":0,\"ticks\":\"\"}}}],\"scatterpolar\":[{\"type\":\"scatterpolar\",\"marker\":{\"colorbar\":{\"outlinewidth\":0,\"ticks\":\"\"}}}],\"histogram\":[{\"marker\":{\"pattern\":{\"fillmode\":\"overlay\",\"size\":10,\"solidity\":0.2}},\"type\":\"histogram\"}],\"scattergl\":[{\"type\":\"scattergl\",\"marker\":{\"colorbar\":{\"outlinewidth\":0,\"ticks\":\"\"}}}],\"scatter3d\":[{\"type\":\"scatter3d\",\"line\":{\"colorbar\":{\"outlinewidth\":0,\"ticks\":\"\"}},\"marker\":{\"colorbar\":{\"outlinewidth\":0,\"ticks\":\"\"}}}],\"scattermapbox\":[{\"type\":\"scattermapbox\",\"marker\":{\"colorbar\":{\"outlinewidth\":0,\"ticks\":\"\"}}}],\"scatterternary\":[{\"type\":\"scatterternary\",\"marker\":{\"colorbar\":{\"outlinewidth\":0,\"ticks\":\"\"}}}],\"scattercarpet\":[{\"type\":\"scattercarpet\",\"marker\":{\"colorbar\":{\"outlinewidth\":0,\"ticks\":\"\"}}}],\"carpet\":[{\"aaxis\":{\"endlinecolor\":\"#2a3f5f\",\"gridcolor\":\"white\",\"linecolor\":\"white\",\"minorgridcolor\":\"white\",\"startlinecolor\":\"#2a3f5f\"},\"baxis\":{\"endlinecolor\":\"#2a3f5f\",\"gridcolor\":\"white\",\"linecolor\":\"white\",\"minorgridcolor\":\"white\",\"startlinecolor\":\"#2a3f5f\"},\"type\":\"carpet\"}],\"table\":[{\"cells\":{\"fill\":{\"color\":\"#EBF0F8\"},\"line\":{\"color\":\"white\"}},\"header\":{\"fill\":{\"color\":\"#C8D4E3\"},\"line\":{\"color\":\"white\"}},\"type\":\"table\"}],\"barpolar\":[{\"marker\":{\"line\":{\"color\":\"#E5ECF6\",\"width\":0.5},\"pattern\":{\"fillmode\":\"overlay\",\"size\":10,\"solidity\":0.2}},\"type\":\"barpolar\"}],\"pie\":[{\"automargin\":true,\"type\":\"pie\"}]},\"layout\":{\"autotypenumbers\":\"strict\",\"colorway\":[\"#636efa\",\"#EF553B\",\"#00cc96\",\"#ab63fa\",\"#FFA15A\",\"#19d3f3\",\"#FF6692\",\"#B6E880\",\"#FF97FF\",\"#FECB52\"],\"font\":{\"color\":\"#2a3f5f\"},\"hovermode\":\"closest\",\"hoverlabel\":{\"align\":\"left\"},\"paper_bgcolor\":\"white\",\"plot_bgcolor\":\"#E5ECF6\",\"polar\":{\"bgcolor\":\"#E5ECF6\",\"angularaxis\":{\"gridcolor\":\"white\",\"linecolor\":\"white\",\"ticks\":\"\"},\"radialaxis\":{\"gridcolor\":\"white\",\"linecolor\":\"white\",\"ticks\":\"\"}},\"ternary\":{\"bgcolor\":\"#E5ECF6\",\"aaxis\":{\"gridcolor\":\"white\",\"linecolor\":\"white\",\"ticks\":\"\"},\"baxis\":{\"gridcolor\":\"white\",\"linecolor\":\"white\",\"ticks\":\"\"},\"caxis\":{\"gridcolor\":\"white\",\"linecolor\":\"white\",\"ticks\":\"\"}},\"coloraxis\":{\"colorbar\":{\"outlinewidth\":0,\"ticks\":\"\"}},\"colorscale\":{\"sequential\":[[0.0,\"#0d0887\"],[0.1111111111111111,\"#46039f\"],[0.2222222222222222,\"#7201a8\"],[0.3333333333333333,\"#9c179e\"],[0.4444444444444444,\"#bd3786\"],[0.5555555555555556,\"#d8576b\"],[0.6666666666666666,\"#ed7953\"],[0.7777777777777778,\"#fb9f3a\"],[0.8888888888888888,\"#fdca26\"],[1.0,\"#f0f921\"]],\"sequentialminus\":[[0.0,\"#0d0887\"],[0.1111111111111111,\"#46039f\"],[0.2222222222222222,\"#7201a8\"],[0.3333333333333333,\"#9c179e\"],[0.4444444444444444,\"#bd3786\"],[0.5555555555555556,\"#d8576b\"],[0.6666666666666666,\"#ed7953\"],[0.7777777777777778,\"#fb9f3a\"],[0.8888888888888888,\"#fdca26\"],[1.0,\"#f0f921\"]],\"diverging\":[[0,\"#8e0152\"],[0.1,\"#c51b7d\"],[0.2,\"#de77ae\"],[0.3,\"#f1b6da\"],[0.4,\"#fde0ef\"],[0.5,\"#f7f7f7\"],[0.6,\"#e6f5d0\"],[0.7,\"#b8e186\"],[0.8,\"#7fbc41\"],[0.9,\"#4d9221\"],[1,\"#276419\"]]},\"xaxis\":{\"gridcolor\":\"white\",\"linecolor\":\"white\",\"ticks\":\"\",\"title\":{\"standoff\":15},\"zerolinecolor\":\"white\",\"automargin\":true,\"zerolinewidth\":2},\"yaxis\":{\"gridcolor\":\"white\",\"linecolor\":\"white\",\"ticks\":\"\",\"title\":{\"standoff\":15},\"zerolinecolor\":\"white\",\"automargin\":true,\"zerolinewidth\":2},\"scene\":{\"xaxis\":{\"backgroundcolor\":\"#E5ECF6\",\"gridcolor\":\"white\",\"linecolor\":\"white\",\"showbackground\":true,\"ticks\":\"\",\"zerolinecolor\":\"white\",\"gridwidth\":2},\"yaxis\":{\"backgroundcolor\":\"#E5ECF6\",\"gridcolor\":\"white\",\"linecolor\":\"white\",\"showbackground\":true,\"ticks\":\"\",\"zerolinecolor\":\"white\",\"gridwidth\":2},\"zaxis\":{\"backgroundcolor\":\"#E5ECF6\",\"gridcolor\":\"white\",\"linecolor\":\"white\",\"showbackground\":true,\"ticks\":\"\",\"zerolinecolor\":\"white\",\"gridwidth\":2}},\"shapedefaults\":{\"line\":{\"color\":\"#2a3f5f\"}},\"annotationdefaults\":{\"arrowcolor\":\"#2a3f5f\",\"arrowhead\":0,\"arrowwidth\":1},\"geo\":{\"bgcolor\":\"white\",\"landcolor\":\"#E5ECF6\",\"subunitcolor\":\"white\",\"showland\":true,\"showlakes\":true,\"lakecolor\":\"white\"},\"title\":{\"x\":0.05},\"mapbox\":{\"style\":\"light\"}}},\"shapes\":[{\"fillcolor\":\"rgba(0,0,0,0)\",\"line\":{\"color\":\"black\"},\"type\":\"rect\",\"x0\":0,\"x1\":100,\"y0\":0,\"y1\":100},{\"line\":{\"color\":\"black\"},\"type\":\"line\",\"x0\":0,\"x1\":0,\"y0\":0,\"y1\":100},{\"line\":{\"color\":\"black\"},\"type\":\"line\",\"x0\":0,\"x1\":100,\"y0\":100,\"y1\":100},{\"line\":{\"color\":\"black\"},\"type\":\"line\",\"x0\":100,\"x1\":100,\"y0\":100,\"y1\":0},{\"line\":{\"color\":\"black\"},\"type\":\"line\",\"x0\":100,\"x1\":0,\"y0\":0,\"y1\":0},{\"line\":{\"color\":\"black\"},\"type\":\"line\",\"x0\":50,\"x1\":50,\"y0\":0,\"y1\":100},{\"line\":{\"color\":\"black\"},\"type\":\"line\",\"x0\":15,\"x1\":15,\"y0\":19.5,\"y1\":80.5},{\"line\":{\"color\":\"black\"},\"type\":\"line\",\"x0\":0,\"x1\":15,\"y0\":19.5,\"y1\":19.5},{\"line\":{\"color\":\"black\"},\"type\":\"line\",\"x0\":15,\"x1\":0,\"y0\":80.5,\"y1\":80.5},{\"line\":{\"color\":\"black\"},\"type\":\"line\",\"x0\":85,\"x1\":85,\"y0\":19.5,\"y1\":80.5},{\"line\":{\"color\":\"black\"},\"type\":\"line\",\"x0\":100,\"x1\":85,\"y0\":19.5,\"y1\":19.5},{\"line\":{\"color\":\"black\"},\"type\":\"line\",\"x0\":85,\"x1\":100,\"y0\":80.5,\"y1\":80.5},{\"line\":{\"color\":\"black\"},\"type\":\"line\",\"x0\":5.5,\"x1\":5.5,\"y0\":29.5,\"y1\":70.5},{\"line\":{\"color\":\"black\"},\"type\":\"line\",\"x0\":0,\"x1\":5.5,\"y0\":29.5,\"y1\":29.5},{\"line\":{\"color\":\"black\"},\"type\":\"line\",\"x0\":5.5,\"x1\":0,\"y0\":70.5,\"y1\":70.5},{\"line\":{\"color\":\"black\"},\"type\":\"line\",\"x0\":94.5,\"x1\":94.5,\"y0\":29.5,\"y1\":70.5},{\"line\":{\"color\":\"black\"},\"type\":\"line\",\"x0\":100,\"x1\":94.5,\"y0\":29.5,\"y1\":29.5},{\"line\":{\"color\":\"black\"},\"type\":\"line\",\"x0\":94.5,\"x1\":100,\"y0\":70.5,\"y1\":70.5}]},                        {\"responsive\": true}                    ).then(function(){\n",
       "                            \n",
       "var gd = document.getElementById('df86a9ca-06a6-4933-b862-295084b3172a');\n",
       "var x = new MutationObserver(function (mutations, observer) {{\n",
       "        var display = window.getComputedStyle(gd).display;\n",
       "        if (!display || display === 'none') {{\n",
       "            console.log([gd, 'removed!']);\n",
       "            Plotly.purge(gd);\n",
       "            observer.disconnect();\n",
       "        }}\n",
       "}});\n",
       "\n",
       "// Listen for the removal of the full notebook cells\n",
       "var notebookContainer = gd.closest('#notebook-container');\n",
       "if (notebookContainer) {{\n",
       "    x.observe(notebookContainer, {childList: true});\n",
       "}}\n",
       "\n",
       "// Listen for the clearing of the current output cell\n",
       "var outputEl = gd.closest('.output');\n",
       "if (outputEl) {{\n",
       "    x.observe(outputEl, {childList: true});\n",
       "}}\n",
       "\n",
       "                        })                };                });            </script>        </div>"
      ]
     },
     "metadata": {},
     "output_type": "display_data"
    }
   ],
   "source": [
    "# Interaktif futbol sahası grafiği oluşturma\n",
    "fig = go.Figure()\n",
    "\n",
    "# Futbol sahasını çizmek için\n",
    "fig.add_shape(\n",
    "    type='rect',\n",
    "    x0=0, y0=0, x1=100, y1=100,\n",
    "    line=dict(color='black'),  # Çizgiler siyah\n",
    "    fillcolor='rgba(0,0,0,0)'  # Şeffaf arka plan\n",
    ")\n",
    "fig.add_shape(\n",
    "    type='line',\n",
    "    x0=0, y0=0, x1=0, y1=100,\n",
    "    line=dict(color='black')  # Çizgiler siyah\n",
    ")\n",
    "fig.add_shape(\n",
    "    type='line',\n",
    "    x0=0, y0=100, x1=100, y1=100,\n",
    "    line=dict(color='black')  # Çizgiler siyah\n",
    ")\n",
    "fig.add_shape(\n",
    "    type='line',\n",
    "    x0=100, y0=100, x1=100, y1=0,\n",
    "    line=dict(color='black')  # Çizgiler siyah\n",
    ")\n",
    "fig.add_shape(\n",
    "    type='line',\n",
    "    x0=100, y0=0, x1=0, y1=0,\n",
    "    line=dict(color='black')  # Çizgiler siyah\n",
    ")\n",
    "fig.add_shape(\n",
    "    type='line',\n",
    "    x0=50, y0=0, x1=50, y1=100,\n",
    "    line=dict(color='black')  # Çizgiler siyah\n",
    ")\n",
    "fig.add_shape(\n",
    "    type='line',\n",
    "    x0=15, y0=19.5, x1=15, y1=80.5,\n",
    "    line=dict(color='black')  # Çizgiler siyah\n",
    ")\n",
    "fig.add_shape(\n",
    "    type='line',\n",
    "    x0=0, y0=19.5, x1=15, y1=19.5,\n",
    "    line=dict(color='black')  # Çizgiler siyah\n",
    ")\n",
    "fig.add_shape(\n",
    "    type='line',\n",
    "    x0=15, y0=80.5, x1=0, y1=80.5,\n",
    "    line=dict(color='black')  # Çizgiler siyah\n",
    ")\n",
    "fig.add_shape(\n",
    "    type='line',\n",
    "    x0=85, y0=19.5, x1=85, y1=80.5,\n",
    "    line=dict(color='black')  # Çizgiler siyah\n",
    ")\n",
    "fig.add_shape(\n",
    "    type='line',\n",
    "    x0=100, y0=19.5, x1=85, y1=19.5,\n",
    "    line=dict(color='black')  # Çizgiler siyah\n",
    ")\n",
    "fig.add_shape(\n",
    "    type='line',\n",
    "    x0=85, y0=80.5, x1=100, y1=80.5,\n",
    "    line=dict(color='black')  # Çizgiler siyah\n",
    ")\n",
    "fig.add_shape(\n",
    "    type='line',\n",
    "    x0=5.5, y0=29.5, x1=5.5, y1=70.5,\n",
    "    line=dict(color='black')  # Çizgiler siyah\n",
    ")\n",
    "fig.add_shape(\n",
    "    type='line',\n",
    "    x0=0, y0=29.5, x1=5.5, y1=29.5,\n",
    "    line=dict(color='black')  # Çizgiler siyah\n",
    ")\n",
    "fig.add_shape(\n",
    "    type='line',\n",
    "    x0=5.5, y0=70.5, x1=0, y1=70.5,\n",
    "    line=dict(color='black')  # Çizgiler siyah\n",
    ")\n",
    "fig.add_shape(\n",
    "    type='line',\n",
    "    x0=94.5, y0=29.5, x1=94.5, y1=70.5,\n",
    "    line=dict(color='black')  # Çizgiler siyah\n",
    ")\n",
    "fig.add_shape(\n",
    "    type='line',\n",
    "    x0=100, y0=29.5, x1=94.5, y1=29.5,\n",
    "    line=dict(color='black')  # Çizgiler siyah\n",
    ")\n",
    "fig.add_shape(\n",
    "    type='line',\n",
    "    x0=94.5, y0=70.5, x1=100, y1=70.5,\n",
    "    line=dict(color='black')  # Çizgiler siyah\n",
    ")\n"
   ]
  },
  {
   "cell_type": "markdown",
   "id": "223fa58c",
   "metadata": {},
   "source": [
    "# 6. Hücre: Oyuncuları ve Yedekleri Grafikte Gösterme"
   ]
  },
  {
   "cell_type": "code",
   "execution_count": 58,
   "id": "4e5a06f6",
   "metadata": {
    "scrolled": false
   },
   "outputs": [
    {
     "data": {
      "application/vnd.plotly.v1+json": {
       "config": {
        "plotlyServerURL": "https://plot.ly"
       },
       "data": [
        {
         "hoverinfo": "text",
         "hovertext": "Name: Mert Günok<br>Age: 35<br>Market Value: 1200000",
         "marker": {
          "color": "red",
          "line": {
           "color": "red",
           "width": 2
          },
          "opacity": 0.7,
          "size": 30
         },
         "mode": "markers+text",
         "text": [
          "Mert Günok"
         ],
         "textfont": {
          "color": "white",
          "size": 12
         },
         "textposition": "bottom center",
         "type": "scatter",
         "x": [
          5
         ],
         "y": [
          50
         ]
        },
        {
         "hoverinfo": "text",
         "hovertext": "Name: Ferdi Kadıoğlu<br>Age: 24<br>Market Value: 21000000",
         "marker": {
          "color": "red",
          "line": {
           "color": "red",
           "width": 2
          },
          "opacity": 0.7,
          "size": 30
         },
         "mode": "markers+text",
         "text": [
          "Ferdi Kadıoğlu"
         ],
         "textfont": {
          "color": "white",
          "size": 12
         },
         "textposition": "bottom center",
         "type": "scatter",
         "x": [
          20
         ],
         "y": [
          20
         ]
        },
        {
         "hoverinfo": "text",
         "hovertext": "Name: Mert Müldür<br>Age: 25<br>Market Value: 4200000",
         "marker": {
          "color": "red",
          "line": {
           "color": "red",
           "width": 2
          },
          "opacity": 0.7,
          "size": 30
         },
         "mode": "markers+text",
         "text": [
          "Mert Müldür"
         ],
         "textfont": {
          "color": "white",
          "size": 12
         },
         "textposition": "bottom center",
         "type": "scatter",
         "x": [
          20
         ],
         "y": [
          80
         ]
        },
        {
         "hoverinfo": "text",
         "hovertext": "Name: Abdülkerim Bardakcı<br>Age: 29<br>Market Value: 9000000",
         "marker": {
          "color": "red",
          "line": {
           "color": "red",
           "width": 2
          },
          "opacity": 0.7,
          "size": 30
         },
         "mode": "markers+text",
         "text": [
          "Abdülkerim Bardakcı"
         ],
         "textfont": {
          "color": "white",
          "size": 12
         },
         "textposition": "bottom center",
         "type": "scatter",
         "x": [
          35
         ],
         "y": [
          35
         ]
        },
        {
         "hoverinfo": "text",
         "hovertext": "Name: Samet Akaydin<br>Age: 30<br>Market Value: 2500000",
         "marker": {
          "color": "red",
          "line": {
           "color": "red",
           "width": 2
          },
          "opacity": 0.7,
          "size": 30
         },
         "mode": "markers+text",
         "text": [
          "Samet Akaydin"
         ],
         "textfont": {
          "color": "white",
          "size": 12
         },
         "textposition": "bottom center",
         "type": "scatter",
         "x": [
          35
         ],
         "y": [
          65
         ]
        },
        {
         "hoverinfo": "text",
         "hovertext": "Name: Hakan Çalhanoğlu<br>Age: 30<br>Market Value: 45000000",
         "marker": {
          "color": "red",
          "line": {
           "color": "red",
           "width": 2
          },
          "opacity": 0.7,
          "size": 30
         },
         "mode": "markers+text",
         "text": [
          "Hakan Çalhanoğlu"
         ],
         "textfont": {
          "color": "white",
          "size": 12
         },
         "textposition": "bottom center",
         "type": "scatter",
         "x": [
          50
         ],
         "y": [
          30
         ]
        },
        {
         "hoverinfo": "text",
         "hovertext": "Name: İsmail Yüksek<br>Age: 25<br>Market Value: 12000000",
         "marker": {
          "color": "red",
          "line": {
           "color": "red",
           "width": 2
          },
          "opacity": 0.7,
          "size": 30
         },
         "mode": "markers+text",
         "text": [
          "İsmail Yüksek"
         ],
         "textfont": {
          "color": "white",
          "size": 12
         },
         "textposition": "bottom center",
         "type": "scatter",
         "x": [
          50
         ],
         "y": [
          70
         ]
        },
        {
         "hoverinfo": "text",
         "hovertext": "Name: Barış Alper Yılmaz<br>Age: 24<br>Market Value: 17000000",
         "marker": {
          "color": "red",
          "line": {
           "color": "red",
           "width": 2
          },
          "opacity": 0.7,
          "size": 30
         },
         "mode": "markers+text",
         "text": [
          "Barış Alper Yılmaz"
         ],
         "textfont": {
          "color": "white",
          "size": 12
         },
         "textposition": "bottom center",
         "type": "scatter",
         "x": [
          70
         ],
         "y": [
          20
         ]
        },
        {
         "hoverinfo": "text",
         "hovertext": "Name: Kerem Aktürkoğlu<br>Age: 25<br>Market Value: 15000000",
         "marker": {
          "color": "red",
          "line": {
           "color": "red",
           "width": 2
          },
          "opacity": 0.7,
          "size": 30
         },
         "mode": "markers+text",
         "text": [
          "Kerem Aktürkoğlu"
         ],
         "textfont": {
          "color": "white",
          "size": 12
         },
         "textposition": "bottom center",
         "type": "scatter",
         "x": [
          70
         ],
         "y": [
          80
         ]
        },
        {
         "hoverinfo": "text",
         "hovertext": "Name: Arda Güler<br>Age: 19<br>Market Value: 30000000",
         "marker": {
          "color": "red",
          "line": {
           "color": "red",
           "width": 2
          },
          "opacity": 0.7,
          "size": 30
         },
         "mode": "markers+text",
         "text": [
          "Arda Güler"
         ],
         "textfont": {
          "color": "white",
          "size": 12
         },
         "textposition": "bottom center",
         "type": "scatter",
         "x": [
          70
         ],
         "y": [
          50
         ]
        },
        {
         "hoverinfo": "text",
         "hovertext": "Name: Cenk Tosun<br>Age: 33<br>Market Value: 2000000",
         "marker": {
          "color": "red",
          "line": {
           "color": "red",
           "width": 2
          },
          "opacity": 0.7,
          "size": 30
         },
         "mode": "markers+text",
         "text": [
          "Cenk Tosun"
         ],
         "textfont": {
          "color": "white",
          "size": 12
         },
         "textposition": "bottom center",
         "type": "scatter",
         "x": [
          90
         ],
         "y": [
          50
         ]
        },
        {
         "hoverinfo": "none",
         "mode": "text",
         "text": "Altay Bayındır",
         "textfont": {
          "color": "blue",
          "size": 10
         },
         "textposition": "top left",
         "type": "scatter",
         "x": [
          125
         ],
         "y": [
          10
         ]
        },
        {
         "hoverinfo": "none",
         "mode": "text",
         "text": "Uğurcan Çakır",
         "textfont": {
          "color": "blue",
          "size": 10
         },
         "textposition": "top left",
         "type": "scatter",
         "x": [
          125
         ],
         "y": [
          15.714285714285715
         ]
        },
        {
         "hoverinfo": "none",
         "mode": "text",
         "text": "Merih Demiral",
         "textfont": {
          "color": "blue",
          "size": 10
         },
         "textposition": "top left",
         "type": "scatter",
         "x": [
          125
         ],
         "y": [
          21.42857142857143
         ]
        },
        {
         "hoverinfo": "none",
         "mode": "text",
         "text": "Ahmetcan Kaplan",
         "textfont": {
          "color": "blue",
          "size": 10
         },
         "textposition": "top left",
         "type": "scatter",
         "x": [
          125
         ],
         "y": [
          27.142857142857142
         ]
        },
        {
         "hoverinfo": "none",
         "mode": "text",
         "text": "Kaan Ayhan",
         "textfont": {
          "color": "blue",
          "size": 10
         },
         "textposition": "top left",
         "type": "scatter",
         "x": [
          125
         ],
         "y": [
          32.85714285714286
         ]
        },
        {
         "hoverinfo": "none",
         "mode": "text",
         "text": "Zeki Çelik",
         "textfont": {
          "color": "blue",
          "size": 10
         },
         "textposition": "top left",
         "type": "scatter",
         "x": [
          125
         ],
         "y": [
          38.57142857142857
         ]
        },
        {
         "hoverinfo": "none",
         "mode": "text",
         "text": "Salih Özcan",
         "textfont": {
          "color": "blue",
          "size": 10
         },
         "textposition": "top left",
         "type": "scatter",
         "x": [
          125
         ],
         "y": [
          44.285714285714285
         ]
        },
        {
         "hoverinfo": "none",
         "mode": "text",
         "text": "Okay Yokuşlu",
         "textfont": {
          "color": "blue",
          "size": 10
         },
         "textposition": "top left",
         "type": "scatter",
         "x": [
          125
         ],
         "y": [
          50
         ]
        },
        {
         "hoverinfo": "none",
         "mode": "text",
         "text": "Orkun Kökçü",
         "textfont": {
          "color": "blue",
          "size": 10
         },
         "textposition": "top left",
         "type": "scatter",
         "x": [
          125
         ],
         "y": [
          55.714285714285715
         ]
        },
        {
         "hoverinfo": "none",
         "mode": "text",
         "text": "Yusuf Yazıcı",
         "textfont": {
          "color": "blue",
          "size": 10
         },
         "textposition": "top left",
         "type": "scatter",
         "x": [
          125
         ],
         "y": [
          61.42857142857143
         ]
        },
        {
         "hoverinfo": "none",
         "mode": "text",
         "text": "İrfan Can Kahveci",
         "textfont": {
          "color": "blue",
          "size": 10
         },
         "textposition": "top left",
         "type": "scatter",
         "x": [
          125
         ],
         "y": [
          67.14285714285714
         ]
        },
        {
         "hoverinfo": "none",
         "mode": "text",
         "text": "Yunus Akgün",
         "textfont": {
          "color": "blue",
          "size": 10
         },
         "textposition": "top left",
         "type": "scatter",
         "x": [
          125
         ],
         "y": [
          72.85714285714286
         ]
        },
        {
         "hoverinfo": "none",
         "mode": "text",
         "text": "Kenan Yıldız",
         "textfont": {
          "color": "blue",
          "size": 10
         },
         "textposition": "top left",
         "type": "scatter",
         "x": [
          125
         ],
         "y": [
          78.57142857142857
         ]
        },
        {
         "hoverinfo": "none",
         "mode": "text",
         "text": "Semih Kılıçsoy",
         "textfont": {
          "color": "blue",
          "size": 10
         },
         "textposition": "top left",
         "type": "scatter",
         "x": [
          125
         ],
         "y": [
          84.28571428571429
         ]
        },
        {
         "hoverinfo": "none",
         "mode": "text",
         "text": "Bertuğ Yıldırım",
         "textfont": {
          "color": "blue",
          "size": 10
         },
         "textposition": "top left",
         "type": "scatter",
         "x": [
          125
         ],
         "y": [
          90
         ]
        },
        {
         "hoverinfo": "none",
         "mode": "text",
         "text": [
          "Teknik Direktör"
         ],
         "textfont": {
          "color": "red",
          "size": 12
         },
         "textposition": "top left",
         "type": "scatter",
         "x": [
          125
         ],
         "y": [
          95
         ]
        },
        {
         "hoverinfo": "text",
         "hovertext": "Name: Mert Günok<br>Age: 35<br>Market Value: 1200000",
         "marker": {
          "color": "red",
          "line": {
           "color": "red",
           "width": 2
          },
          "opacity": 0.7,
          "size": 30
         },
         "mode": "markers+text",
         "text": [
          "Mert Günok"
         ],
         "textfont": {
          "color": "white",
          "size": 12
         },
         "textposition": "bottom center",
         "type": "scatter",
         "x": [
          5
         ],
         "y": [
          50
         ]
        },
        {
         "hoverinfo": "text",
         "hovertext": "Name: Ferdi Kadıoğlu<br>Age: 24<br>Market Value: 21000000",
         "marker": {
          "color": "red",
          "line": {
           "color": "red",
           "width": 2
          },
          "opacity": 0.7,
          "size": 30
         },
         "mode": "markers+text",
         "text": [
          "Ferdi Kadıoğlu"
         ],
         "textfont": {
          "color": "white",
          "size": 12
         },
         "textposition": "bottom center",
         "type": "scatter",
         "x": [
          20
         ],
         "y": [
          20
         ]
        },
        {
         "hoverinfo": "text",
         "hovertext": "Name: Mert Müldür<br>Age: 25<br>Market Value: 4200000",
         "marker": {
          "color": "red",
          "line": {
           "color": "red",
           "width": 2
          },
          "opacity": 0.7,
          "size": 30
         },
         "mode": "markers+text",
         "text": [
          "Mert Müldür"
         ],
         "textfont": {
          "color": "white",
          "size": 12
         },
         "textposition": "bottom center",
         "type": "scatter",
         "x": [
          20
         ],
         "y": [
          80
         ]
        },
        {
         "hoverinfo": "text",
         "hovertext": "Name: Abdülkerim Bardakcı<br>Age: 29<br>Market Value: 9000000",
         "marker": {
          "color": "red",
          "line": {
           "color": "red",
           "width": 2
          },
          "opacity": 0.7,
          "size": 30
         },
         "mode": "markers+text",
         "text": [
          "Abdülkerim Bardakcı"
         ],
         "textfont": {
          "color": "white",
          "size": 12
         },
         "textposition": "bottom center",
         "type": "scatter",
         "x": [
          35
         ],
         "y": [
          35
         ]
        },
        {
         "hoverinfo": "text",
         "hovertext": "Name: Samet Akaydin<br>Age: 30<br>Market Value: 2500000",
         "marker": {
          "color": "red",
          "line": {
           "color": "red",
           "width": 2
          },
          "opacity": 0.7,
          "size": 30
         },
         "mode": "markers+text",
         "text": [
          "Samet Akaydin"
         ],
         "textfont": {
          "color": "white",
          "size": 12
         },
         "textposition": "bottom center",
         "type": "scatter",
         "x": [
          35
         ],
         "y": [
          65
         ]
        },
        {
         "hoverinfo": "text",
         "hovertext": "Name: Hakan Çalhanoğlu<br>Age: 30<br>Market Value: 45000000",
         "marker": {
          "color": "red",
          "line": {
           "color": "red",
           "width": 2
          },
          "opacity": 0.7,
          "size": 30
         },
         "mode": "markers+text",
         "text": [
          "Hakan Çalhanoğlu"
         ],
         "textfont": {
          "color": "white",
          "size": 12
         },
         "textposition": "bottom center",
         "type": "scatter",
         "x": [
          50
         ],
         "y": [
          30
         ]
        },
        {
         "hoverinfo": "text",
         "hovertext": "Name: İsmail Yüksek<br>Age: 25<br>Market Value: 12000000",
         "marker": {
          "color": "red",
          "line": {
           "color": "red",
           "width": 2
          },
          "opacity": 0.7,
          "size": 30
         },
         "mode": "markers+text",
         "text": [
          "İsmail Yüksek"
         ],
         "textfont": {
          "color": "white",
          "size": 12
         },
         "textposition": "bottom center",
         "type": "scatter",
         "x": [
          50
         ],
         "y": [
          70
         ]
        },
        {
         "hoverinfo": "text",
         "hovertext": "Name: Barış Alper Yılmaz<br>Age: 24<br>Market Value: 17000000",
         "marker": {
          "color": "red",
          "line": {
           "color": "red",
           "width": 2
          },
          "opacity": 0.7,
          "size": 30
         },
         "mode": "markers+text",
         "text": [
          "Barış Alper Yılmaz"
         ],
         "textfont": {
          "color": "white",
          "size": 12
         },
         "textposition": "bottom center",
         "type": "scatter",
         "x": [
          70
         ],
         "y": [
          20
         ]
        },
        {
         "hoverinfo": "text",
         "hovertext": "Name: Kerem Aktürkoğlu<br>Age: 25<br>Market Value: 15000000",
         "marker": {
          "color": "red",
          "line": {
           "color": "red",
           "width": 2
          },
          "opacity": 0.7,
          "size": 30
         },
         "mode": "markers+text",
         "text": [
          "Kerem Aktürkoğlu"
         ],
         "textfont": {
          "color": "white",
          "size": 12
         },
         "textposition": "bottom center",
         "type": "scatter",
         "x": [
          70
         ],
         "y": [
          80
         ]
        },
        {
         "hoverinfo": "text",
         "hovertext": "Name: Arda Güler<br>Age: 19<br>Market Value: 30000000",
         "marker": {
          "color": "red",
          "line": {
           "color": "red",
           "width": 2
          },
          "opacity": 0.7,
          "size": 30
         },
         "mode": "markers+text",
         "text": [
          "Arda Güler"
         ],
         "textfont": {
          "color": "white",
          "size": 12
         },
         "textposition": "bottom center",
         "type": "scatter",
         "x": [
          70
         ],
         "y": [
          50
         ]
        },
        {
         "hoverinfo": "text",
         "hovertext": "Name: Cenk Tosun<br>Age: 33<br>Market Value: 2000000",
         "marker": {
          "color": "red",
          "line": {
           "color": "red",
           "width": 2
          },
          "opacity": 0.7,
          "size": 30
         },
         "mode": "markers+text",
         "text": [
          "Cenk Tosun"
         ],
         "textfont": {
          "color": "white",
          "size": 12
         },
         "textposition": "bottom center",
         "type": "scatter",
         "x": [
          90
         ],
         "y": [
          50
         ]
        },
        {
         "hoverinfo": "none",
         "mode": "text",
         "text": "Altay Bayındır",
         "textfont": {
          "color": "blue",
          "size": 10
         },
         "textposition": "top left",
         "type": "scatter",
         "x": [
          125
         ],
         "y": [
          10
         ]
        },
        {
         "hoverinfo": "none",
         "mode": "text",
         "text": "Uğurcan Çakır",
         "textfont": {
          "color": "blue",
          "size": 10
         },
         "textposition": "top left",
         "type": "scatter",
         "x": [
          125
         ],
         "y": [
          15.714285714285715
         ]
        },
        {
         "hoverinfo": "none",
         "mode": "text",
         "text": "Merih Demiral",
         "textfont": {
          "color": "blue",
          "size": 10
         },
         "textposition": "top left",
         "type": "scatter",
         "x": [
          125
         ],
         "y": [
          21.42857142857143
         ]
        },
        {
         "hoverinfo": "none",
         "mode": "text",
         "text": "Ahmetcan Kaplan",
         "textfont": {
          "color": "blue",
          "size": 10
         },
         "textposition": "top left",
         "type": "scatter",
         "x": [
          125
         ],
         "y": [
          27.142857142857142
         ]
        },
        {
         "hoverinfo": "none",
         "mode": "text",
         "text": "Kaan Ayhan",
         "textfont": {
          "color": "blue",
          "size": 10
         },
         "textposition": "top left",
         "type": "scatter",
         "x": [
          125
         ],
         "y": [
          32.85714285714286
         ]
        },
        {
         "hoverinfo": "none",
         "mode": "text",
         "text": "Zeki Çelik",
         "textfont": {
          "color": "blue",
          "size": 10
         },
         "textposition": "top left",
         "type": "scatter",
         "x": [
          125
         ],
         "y": [
          38.57142857142857
         ]
        },
        {
         "hoverinfo": "none",
         "mode": "text",
         "text": "Salih Özcan",
         "textfont": {
          "color": "blue",
          "size": 10
         },
         "textposition": "top left",
         "type": "scatter",
         "x": [
          125
         ],
         "y": [
          44.285714285714285
         ]
        },
        {
         "hoverinfo": "none",
         "mode": "text",
         "text": "Okay Yokuşlu",
         "textfont": {
          "color": "blue",
          "size": 10
         },
         "textposition": "top left",
         "type": "scatter",
         "x": [
          125
         ],
         "y": [
          50
         ]
        },
        {
         "hoverinfo": "none",
         "mode": "text",
         "text": "Orkun Kökçü",
         "textfont": {
          "color": "blue",
          "size": 10
         },
         "textposition": "top left",
         "type": "scatter",
         "x": [
          125
         ],
         "y": [
          55.714285714285715
         ]
        },
        {
         "hoverinfo": "none",
         "mode": "text",
         "text": "Yusuf Yazıcı",
         "textfont": {
          "color": "blue",
          "size": 10
         },
         "textposition": "top left",
         "type": "scatter",
         "x": [
          125
         ],
         "y": [
          61.42857142857143
         ]
        },
        {
         "hoverinfo": "none",
         "mode": "text",
         "text": "İrfan Can Kahveci",
         "textfont": {
          "color": "blue",
          "size": 10
         },
         "textposition": "top left",
         "type": "scatter",
         "x": [
          125
         ],
         "y": [
          67.14285714285714
         ]
        },
        {
         "hoverinfo": "none",
         "mode": "text",
         "text": "Yunus Akgün",
         "textfont": {
          "color": "blue",
          "size": 10
         },
         "textposition": "top left",
         "type": "scatter",
         "x": [
          125
         ],
         "y": [
          72.85714285714286
         ]
        },
        {
         "hoverinfo": "none",
         "mode": "text",
         "text": "Kenan Yıldız",
         "textfont": {
          "color": "blue",
          "size": 10
         },
         "textposition": "top left",
         "type": "scatter",
         "x": [
          125
         ],
         "y": [
          78.57142857142857
         ]
        },
        {
         "hoverinfo": "none",
         "mode": "text",
         "text": "Semih Kılıçsoy",
         "textfont": {
          "color": "blue",
          "size": 10
         },
         "textposition": "top left",
         "type": "scatter",
         "x": [
          125
         ],
         "y": [
          84.28571428571429
         ]
        },
        {
         "hoverinfo": "none",
         "mode": "text",
         "text": "Bertuğ Yıldırım",
         "textfont": {
          "color": "blue",
          "size": 10
         },
         "textposition": "top left",
         "type": "scatter",
         "x": [
          125
         ],
         "y": [
          90
         ]
        },
        {
         "hoverinfo": "none",
         "mode": "text",
         "text": [
          "Teknik Direktör"
         ],
         "textfont": {
          "color": "red",
          "size": 12
         },
         "textposition": "top left",
         "type": "scatter",
         "x": [
          125
         ],
         "y": [
          95
         ]
        }
       ],
       "layout": {
        "shapes": [
         {
          "fillcolor": "rgba(0,0,0,0)",
          "line": {
           "color": "black"
          },
          "type": "rect",
          "x0": 0,
          "x1": 100,
          "y0": 0,
          "y1": 100
         },
         {
          "line": {
           "color": "black"
          },
          "type": "line",
          "x0": 0,
          "x1": 0,
          "y0": 0,
          "y1": 100
         },
         {
          "line": {
           "color": "black"
          },
          "type": "line",
          "x0": 0,
          "x1": 100,
          "y0": 100,
          "y1": 100
         },
         {
          "line": {
           "color": "black"
          },
          "type": "line",
          "x0": 100,
          "x1": 100,
          "y0": 100,
          "y1": 0
         },
         {
          "line": {
           "color": "black"
          },
          "type": "line",
          "x0": 100,
          "x1": 0,
          "y0": 0,
          "y1": 0
         },
         {
          "line": {
           "color": "black"
          },
          "type": "line",
          "x0": 50,
          "x1": 50,
          "y0": 0,
          "y1": 100
         },
         {
          "line": {
           "color": "black"
          },
          "type": "line",
          "x0": 15,
          "x1": 15,
          "y0": 19.5,
          "y1": 80.5
         },
         {
          "line": {
           "color": "black"
          },
          "type": "line",
          "x0": 0,
          "x1": 15,
          "y0": 19.5,
          "y1": 19.5
         },
         {
          "line": {
           "color": "black"
          },
          "type": "line",
          "x0": 15,
          "x1": 0,
          "y0": 80.5,
          "y1": 80.5
         },
         {
          "line": {
           "color": "black"
          },
          "type": "line",
          "x0": 85,
          "x1": 85,
          "y0": 19.5,
          "y1": 80.5
         },
         {
          "line": {
           "color": "black"
          },
          "type": "line",
          "x0": 100,
          "x1": 85,
          "y0": 19.5,
          "y1": 19.5
         },
         {
          "line": {
           "color": "black"
          },
          "type": "line",
          "x0": 85,
          "x1": 100,
          "y0": 80.5,
          "y1": 80.5
         },
         {
          "line": {
           "color": "black"
          },
          "type": "line",
          "x0": 5.5,
          "x1": 5.5,
          "y0": 29.5,
          "y1": 70.5
         },
         {
          "line": {
           "color": "black"
          },
          "type": "line",
          "x0": 0,
          "x1": 5.5,
          "y0": 29.5,
          "y1": 29.5
         },
         {
          "line": {
           "color": "black"
          },
          "type": "line",
          "x0": 5.5,
          "x1": 0,
          "y0": 70.5,
          "y1": 70.5
         },
         {
          "line": {
           "color": "black"
          },
          "type": "line",
          "x0": 94.5,
          "x1": 94.5,
          "y0": 29.5,
          "y1": 70.5
         },
         {
          "line": {
           "color": "black"
          },
          "type": "line",
          "x0": 100,
          "x1": 94.5,
          "y0": 29.5,
          "y1": 29.5
         },
         {
          "line": {
           "color": "black"
          },
          "type": "line",
          "x0": 94.5,
          "x1": 100,
          "y0": 70.5,
          "y1": 70.5
         }
        ],
        "template": {
         "data": {
          "bar": [
           {
            "error_x": {
             "color": "#2a3f5f"
            },
            "error_y": {
             "color": "#2a3f5f"
            },
            "marker": {
             "line": {
              "color": "#E5ECF6",
              "width": 0.5
             },
             "pattern": {
              "fillmode": "overlay",
              "size": 10,
              "solidity": 0.2
             }
            },
            "type": "bar"
           }
          ],
          "barpolar": [
           {
            "marker": {
             "line": {
              "color": "#E5ECF6",
              "width": 0.5
             },
             "pattern": {
              "fillmode": "overlay",
              "size": 10,
              "solidity": 0.2
             }
            },
            "type": "barpolar"
           }
          ],
          "carpet": [
           {
            "aaxis": {
             "endlinecolor": "#2a3f5f",
             "gridcolor": "white",
             "linecolor": "white",
             "minorgridcolor": "white",
             "startlinecolor": "#2a3f5f"
            },
            "baxis": {
             "endlinecolor": "#2a3f5f",
             "gridcolor": "white",
             "linecolor": "white",
             "minorgridcolor": "white",
             "startlinecolor": "#2a3f5f"
            },
            "type": "carpet"
           }
          ],
          "choropleth": [
           {
            "colorbar": {
             "outlinewidth": 0,
             "ticks": ""
            },
            "type": "choropleth"
           }
          ],
          "contour": [
           {
            "colorbar": {
             "outlinewidth": 0,
             "ticks": ""
            },
            "colorscale": [
             [
              0,
              "#0d0887"
             ],
             [
              0.1111111111111111,
              "#46039f"
             ],
             [
              0.2222222222222222,
              "#7201a8"
             ],
             [
              0.3333333333333333,
              "#9c179e"
             ],
             [
              0.4444444444444444,
              "#bd3786"
             ],
             [
              0.5555555555555556,
              "#d8576b"
             ],
             [
              0.6666666666666666,
              "#ed7953"
             ],
             [
              0.7777777777777778,
              "#fb9f3a"
             ],
             [
              0.8888888888888888,
              "#fdca26"
             ],
             [
              1,
              "#f0f921"
             ]
            ],
            "type": "contour"
           }
          ],
          "contourcarpet": [
           {
            "colorbar": {
             "outlinewidth": 0,
             "ticks": ""
            },
            "type": "contourcarpet"
           }
          ],
          "heatmap": [
           {
            "colorbar": {
             "outlinewidth": 0,
             "ticks": ""
            },
            "colorscale": [
             [
              0,
              "#0d0887"
             ],
             [
              0.1111111111111111,
              "#46039f"
             ],
             [
              0.2222222222222222,
              "#7201a8"
             ],
             [
              0.3333333333333333,
              "#9c179e"
             ],
             [
              0.4444444444444444,
              "#bd3786"
             ],
             [
              0.5555555555555556,
              "#d8576b"
             ],
             [
              0.6666666666666666,
              "#ed7953"
             ],
             [
              0.7777777777777778,
              "#fb9f3a"
             ],
             [
              0.8888888888888888,
              "#fdca26"
             ],
             [
              1,
              "#f0f921"
             ]
            ],
            "type": "heatmap"
           }
          ],
          "heatmapgl": [
           {
            "colorbar": {
             "outlinewidth": 0,
             "ticks": ""
            },
            "colorscale": [
             [
              0,
              "#0d0887"
             ],
             [
              0.1111111111111111,
              "#46039f"
             ],
             [
              0.2222222222222222,
              "#7201a8"
             ],
             [
              0.3333333333333333,
              "#9c179e"
             ],
             [
              0.4444444444444444,
              "#bd3786"
             ],
             [
              0.5555555555555556,
              "#d8576b"
             ],
             [
              0.6666666666666666,
              "#ed7953"
             ],
             [
              0.7777777777777778,
              "#fb9f3a"
             ],
             [
              0.8888888888888888,
              "#fdca26"
             ],
             [
              1,
              "#f0f921"
             ]
            ],
            "type": "heatmapgl"
           }
          ],
          "histogram": [
           {
            "marker": {
             "pattern": {
              "fillmode": "overlay",
              "size": 10,
              "solidity": 0.2
             }
            },
            "type": "histogram"
           }
          ],
          "histogram2d": [
           {
            "colorbar": {
             "outlinewidth": 0,
             "ticks": ""
            },
            "colorscale": [
             [
              0,
              "#0d0887"
             ],
             [
              0.1111111111111111,
              "#46039f"
             ],
             [
              0.2222222222222222,
              "#7201a8"
             ],
             [
              0.3333333333333333,
              "#9c179e"
             ],
             [
              0.4444444444444444,
              "#bd3786"
             ],
             [
              0.5555555555555556,
              "#d8576b"
             ],
             [
              0.6666666666666666,
              "#ed7953"
             ],
             [
              0.7777777777777778,
              "#fb9f3a"
             ],
             [
              0.8888888888888888,
              "#fdca26"
             ],
             [
              1,
              "#f0f921"
             ]
            ],
            "type": "histogram2d"
           }
          ],
          "histogram2dcontour": [
           {
            "colorbar": {
             "outlinewidth": 0,
             "ticks": ""
            },
            "colorscale": [
             [
              0,
              "#0d0887"
             ],
             [
              0.1111111111111111,
              "#46039f"
             ],
             [
              0.2222222222222222,
              "#7201a8"
             ],
             [
              0.3333333333333333,
              "#9c179e"
             ],
             [
              0.4444444444444444,
              "#bd3786"
             ],
             [
              0.5555555555555556,
              "#d8576b"
             ],
             [
              0.6666666666666666,
              "#ed7953"
             ],
             [
              0.7777777777777778,
              "#fb9f3a"
             ],
             [
              0.8888888888888888,
              "#fdca26"
             ],
             [
              1,
              "#f0f921"
             ]
            ],
            "type": "histogram2dcontour"
           }
          ],
          "mesh3d": [
           {
            "colorbar": {
             "outlinewidth": 0,
             "ticks": ""
            },
            "type": "mesh3d"
           }
          ],
          "parcoords": [
           {
            "line": {
             "colorbar": {
              "outlinewidth": 0,
              "ticks": ""
             }
            },
            "type": "parcoords"
           }
          ],
          "pie": [
           {
            "automargin": true,
            "type": "pie"
           }
          ],
          "scatter": [
           {
            "fillpattern": {
             "fillmode": "overlay",
             "size": 10,
             "solidity": 0.2
            },
            "type": "scatter"
           }
          ],
          "scatter3d": [
           {
            "line": {
             "colorbar": {
              "outlinewidth": 0,
              "ticks": ""
             }
            },
            "marker": {
             "colorbar": {
              "outlinewidth": 0,
              "ticks": ""
             }
            },
            "type": "scatter3d"
           }
          ],
          "scattercarpet": [
           {
            "marker": {
             "colorbar": {
              "outlinewidth": 0,
              "ticks": ""
             }
            },
            "type": "scattercarpet"
           }
          ],
          "scattergeo": [
           {
            "marker": {
             "colorbar": {
              "outlinewidth": 0,
              "ticks": ""
             }
            },
            "type": "scattergeo"
           }
          ],
          "scattergl": [
           {
            "marker": {
             "colorbar": {
              "outlinewidth": 0,
              "ticks": ""
             }
            },
            "type": "scattergl"
           }
          ],
          "scattermapbox": [
           {
            "marker": {
             "colorbar": {
              "outlinewidth": 0,
              "ticks": ""
             }
            },
            "type": "scattermapbox"
           }
          ],
          "scatterpolar": [
           {
            "marker": {
             "colorbar": {
              "outlinewidth": 0,
              "ticks": ""
             }
            },
            "type": "scatterpolar"
           }
          ],
          "scatterpolargl": [
           {
            "marker": {
             "colorbar": {
              "outlinewidth": 0,
              "ticks": ""
             }
            },
            "type": "scatterpolargl"
           }
          ],
          "scatterternary": [
           {
            "marker": {
             "colorbar": {
              "outlinewidth": 0,
              "ticks": ""
             }
            },
            "type": "scatterternary"
           }
          ],
          "surface": [
           {
            "colorbar": {
             "outlinewidth": 0,
             "ticks": ""
            },
            "colorscale": [
             [
              0,
              "#0d0887"
             ],
             [
              0.1111111111111111,
              "#46039f"
             ],
             [
              0.2222222222222222,
              "#7201a8"
             ],
             [
              0.3333333333333333,
              "#9c179e"
             ],
             [
              0.4444444444444444,
              "#bd3786"
             ],
             [
              0.5555555555555556,
              "#d8576b"
             ],
             [
              0.6666666666666666,
              "#ed7953"
             ],
             [
              0.7777777777777778,
              "#fb9f3a"
             ],
             [
              0.8888888888888888,
              "#fdca26"
             ],
             [
              1,
              "#f0f921"
             ]
            ],
            "type": "surface"
           }
          ],
          "table": [
           {
            "cells": {
             "fill": {
              "color": "#EBF0F8"
             },
             "line": {
              "color": "white"
             }
            },
            "header": {
             "fill": {
              "color": "#C8D4E3"
             },
             "line": {
              "color": "white"
             }
            },
            "type": "table"
           }
          ]
         },
         "layout": {
          "annotationdefaults": {
           "arrowcolor": "#2a3f5f",
           "arrowhead": 0,
           "arrowwidth": 1
          },
          "autotypenumbers": "strict",
          "coloraxis": {
           "colorbar": {
            "outlinewidth": 0,
            "ticks": ""
           }
          },
          "colorscale": {
           "diverging": [
            [
             0,
             "#8e0152"
            ],
            [
             0.1,
             "#c51b7d"
            ],
            [
             0.2,
             "#de77ae"
            ],
            [
             0.3,
             "#f1b6da"
            ],
            [
             0.4,
             "#fde0ef"
            ],
            [
             0.5,
             "#f7f7f7"
            ],
            [
             0.6,
             "#e6f5d0"
            ],
            [
             0.7,
             "#b8e186"
            ],
            [
             0.8,
             "#7fbc41"
            ],
            [
             0.9,
             "#4d9221"
            ],
            [
             1,
             "#276419"
            ]
           ],
           "sequential": [
            [
             0,
             "#0d0887"
            ],
            [
             0.1111111111111111,
             "#46039f"
            ],
            [
             0.2222222222222222,
             "#7201a8"
            ],
            [
             0.3333333333333333,
             "#9c179e"
            ],
            [
             0.4444444444444444,
             "#bd3786"
            ],
            [
             0.5555555555555556,
             "#d8576b"
            ],
            [
             0.6666666666666666,
             "#ed7953"
            ],
            [
             0.7777777777777778,
             "#fb9f3a"
            ],
            [
             0.8888888888888888,
             "#fdca26"
            ],
            [
             1,
             "#f0f921"
            ]
           ],
           "sequentialminus": [
            [
             0,
             "#0d0887"
            ],
            [
             0.1111111111111111,
             "#46039f"
            ],
            [
             0.2222222222222222,
             "#7201a8"
            ],
            [
             0.3333333333333333,
             "#9c179e"
            ],
            [
             0.4444444444444444,
             "#bd3786"
            ],
            [
             0.5555555555555556,
             "#d8576b"
            ],
            [
             0.6666666666666666,
             "#ed7953"
            ],
            [
             0.7777777777777778,
             "#fb9f3a"
            ],
            [
             0.8888888888888888,
             "#fdca26"
            ],
            [
             1,
             "#f0f921"
            ]
           ]
          },
          "colorway": [
           "#636efa",
           "#EF553B",
           "#00cc96",
           "#ab63fa",
           "#FFA15A",
           "#19d3f3",
           "#FF6692",
           "#B6E880",
           "#FF97FF",
           "#FECB52"
          ],
          "font": {
           "color": "#2a3f5f"
          },
          "geo": {
           "bgcolor": "white",
           "lakecolor": "white",
           "landcolor": "#E5ECF6",
           "showlakes": true,
           "showland": true,
           "subunitcolor": "white"
          },
          "hoverlabel": {
           "align": "left"
          },
          "hovermode": "closest",
          "mapbox": {
           "style": "light"
          },
          "paper_bgcolor": "white",
          "plot_bgcolor": "#E5ECF6",
          "polar": {
           "angularaxis": {
            "gridcolor": "white",
            "linecolor": "white",
            "ticks": ""
           },
           "bgcolor": "#E5ECF6",
           "radialaxis": {
            "gridcolor": "white",
            "linecolor": "white",
            "ticks": ""
           }
          },
          "scene": {
           "xaxis": {
            "backgroundcolor": "#E5ECF6",
            "gridcolor": "white",
            "gridwidth": 2,
            "linecolor": "white",
            "showbackground": true,
            "ticks": "",
            "zerolinecolor": "white"
           },
           "yaxis": {
            "backgroundcolor": "#E5ECF6",
            "gridcolor": "white",
            "gridwidth": 2,
            "linecolor": "white",
            "showbackground": true,
            "ticks": "",
            "zerolinecolor": "white"
           },
           "zaxis": {
            "backgroundcolor": "#E5ECF6",
            "gridcolor": "white",
            "gridwidth": 2,
            "linecolor": "white",
            "showbackground": true,
            "ticks": "",
            "zerolinecolor": "white"
           }
          },
          "shapedefaults": {
           "line": {
            "color": "#2a3f5f"
           }
          },
          "ternary": {
           "aaxis": {
            "gridcolor": "white",
            "linecolor": "white",
            "ticks": ""
           },
           "baxis": {
            "gridcolor": "white",
            "linecolor": "white",
            "ticks": ""
           },
           "bgcolor": "#E5ECF6",
           "caxis": {
            "gridcolor": "white",
            "linecolor": "white",
            "ticks": ""
           }
          },
          "title": {
           "x": 0.05
          },
          "xaxis": {
           "automargin": true,
           "gridcolor": "white",
           "linecolor": "white",
           "ticks": "",
           "title": {
            "standoff": 15
           },
           "zerolinecolor": "white",
           "zerolinewidth": 2
          },
          "yaxis": {
           "automargin": true,
           "gridcolor": "white",
           "linecolor": "white",
           "ticks": "",
           "title": {
            "standoff": 15
           },
           "zerolinecolor": "white",
           "zerolinewidth": 2
          }
         }
        }
       }
      },
      "text/html": [
       "<div>                            <div id=\"5712404d-0710-40f8-9f70-c3c47f0b39b9\" class=\"plotly-graph-div\" style=\"height:525px; width:100%;\"></div>            <script type=\"text/javascript\">                require([\"plotly\"], function(Plotly) {                    window.PLOTLYENV=window.PLOTLYENV || {};                                    if (document.getElementById(\"5712404d-0710-40f8-9f70-c3c47f0b39b9\")) {                    Plotly.newPlot(                        \"5712404d-0710-40f8-9f70-c3c47f0b39b9\",                        [{\"hoverinfo\":\"text\",\"hovertext\":\"Name: Mert G\\u00fcnok<br>Age: 35<br>Market Value: 1200000\",\"marker\":{\"color\":\"red\",\"line\":{\"color\":\"red\",\"width\":2},\"opacity\":0.7,\"size\":30},\"mode\":\"markers+text\",\"text\":[\"Mert G\\u00fcnok\"],\"textfont\":{\"color\":\"white\",\"size\":12},\"textposition\":\"bottom center\",\"x\":[5],\"y\":[50],\"type\":\"scatter\"},{\"hoverinfo\":\"text\",\"hovertext\":\"Name: Ferdi Kad\\u0131o\\u011flu<br>Age: 24<br>Market Value: 21000000\",\"marker\":{\"color\":\"red\",\"line\":{\"color\":\"red\",\"width\":2},\"opacity\":0.7,\"size\":30},\"mode\":\"markers+text\",\"text\":[\"Ferdi Kad\\u0131o\\u011flu\"],\"textfont\":{\"color\":\"white\",\"size\":12},\"textposition\":\"bottom center\",\"x\":[20],\"y\":[20],\"type\":\"scatter\"},{\"hoverinfo\":\"text\",\"hovertext\":\"Name: Mert M\\u00fcld\\u00fcr<br>Age: 25<br>Market Value: 4200000\",\"marker\":{\"color\":\"red\",\"line\":{\"color\":\"red\",\"width\":2},\"opacity\":0.7,\"size\":30},\"mode\":\"markers+text\",\"text\":[\"Mert M\\u00fcld\\u00fcr\"],\"textfont\":{\"color\":\"white\",\"size\":12},\"textposition\":\"bottom center\",\"x\":[20],\"y\":[80],\"type\":\"scatter\"},{\"hoverinfo\":\"text\",\"hovertext\":\"Name: Abd\\u00fclkerim Bardakc\\u0131<br>Age: 29<br>Market Value: 9000000\",\"marker\":{\"color\":\"red\",\"line\":{\"color\":\"red\",\"width\":2},\"opacity\":0.7,\"size\":30},\"mode\":\"markers+text\",\"text\":[\"Abd\\u00fclkerim Bardakc\\u0131\"],\"textfont\":{\"color\":\"white\",\"size\":12},\"textposition\":\"bottom center\",\"x\":[35],\"y\":[35],\"type\":\"scatter\"},{\"hoverinfo\":\"text\",\"hovertext\":\"Name: Samet Akaydin<br>Age: 30<br>Market Value: 2500000\",\"marker\":{\"color\":\"red\",\"line\":{\"color\":\"red\",\"width\":2},\"opacity\":0.7,\"size\":30},\"mode\":\"markers+text\",\"text\":[\"Samet Akaydin\"],\"textfont\":{\"color\":\"white\",\"size\":12},\"textposition\":\"bottom center\",\"x\":[35],\"y\":[65],\"type\":\"scatter\"},{\"hoverinfo\":\"text\",\"hovertext\":\"Name: Hakan \\u00c7alhano\\u011flu<br>Age: 30<br>Market Value: 45000000\",\"marker\":{\"color\":\"red\",\"line\":{\"color\":\"red\",\"width\":2},\"opacity\":0.7,\"size\":30},\"mode\":\"markers+text\",\"text\":[\"Hakan \\u00c7alhano\\u011flu\"],\"textfont\":{\"color\":\"white\",\"size\":12},\"textposition\":\"bottom center\",\"x\":[50],\"y\":[30],\"type\":\"scatter\"},{\"hoverinfo\":\"text\",\"hovertext\":\"Name: \\u0130smail Y\\u00fcksek<br>Age: 25<br>Market Value: 12000000\",\"marker\":{\"color\":\"red\",\"line\":{\"color\":\"red\",\"width\":2},\"opacity\":0.7,\"size\":30},\"mode\":\"markers+text\",\"text\":[\"\\u0130smail Y\\u00fcksek\"],\"textfont\":{\"color\":\"white\",\"size\":12},\"textposition\":\"bottom center\",\"x\":[50],\"y\":[70],\"type\":\"scatter\"},{\"hoverinfo\":\"text\",\"hovertext\":\"Name: Bar\\u0131\\u015f Alper Y\\u0131lmaz<br>Age: 24<br>Market Value: 17000000\",\"marker\":{\"color\":\"red\",\"line\":{\"color\":\"red\",\"width\":2},\"opacity\":0.7,\"size\":30},\"mode\":\"markers+text\",\"text\":[\"Bar\\u0131\\u015f Alper Y\\u0131lmaz\"],\"textfont\":{\"color\":\"white\",\"size\":12},\"textposition\":\"bottom center\",\"x\":[70],\"y\":[20],\"type\":\"scatter\"},{\"hoverinfo\":\"text\",\"hovertext\":\"Name: Kerem Akt\\u00fcrko\\u011flu<br>Age: 25<br>Market Value: 15000000\",\"marker\":{\"color\":\"red\",\"line\":{\"color\":\"red\",\"width\":2},\"opacity\":0.7,\"size\":30},\"mode\":\"markers+text\",\"text\":[\"Kerem Akt\\u00fcrko\\u011flu\"],\"textfont\":{\"color\":\"white\",\"size\":12},\"textposition\":\"bottom center\",\"x\":[70],\"y\":[80],\"type\":\"scatter\"},{\"hoverinfo\":\"text\",\"hovertext\":\"Name: Arda G\\u00fcler<br>Age: 19<br>Market Value: 30000000\",\"marker\":{\"color\":\"red\",\"line\":{\"color\":\"red\",\"width\":2},\"opacity\":0.7,\"size\":30},\"mode\":\"markers+text\",\"text\":[\"Arda G\\u00fcler\"],\"textfont\":{\"color\":\"white\",\"size\":12},\"textposition\":\"bottom center\",\"x\":[70],\"y\":[50],\"type\":\"scatter\"},{\"hoverinfo\":\"text\",\"hovertext\":\"Name: Cenk Tosun<br>Age: 33<br>Market Value: 2000000\",\"marker\":{\"color\":\"red\",\"line\":{\"color\":\"red\",\"width\":2},\"opacity\":0.7,\"size\":30},\"mode\":\"markers+text\",\"text\":[\"Cenk Tosun\"],\"textfont\":{\"color\":\"white\",\"size\":12},\"textposition\":\"bottom center\",\"x\":[90],\"y\":[50],\"type\":\"scatter\"},{\"hoverinfo\":\"none\",\"mode\":\"text\",\"text\":\"Altay Bay\\u0131nd\\u0131r\",\"textfont\":{\"color\":\"blue\",\"size\":10},\"textposition\":\"top left\",\"x\":[125],\"y\":[10.0],\"type\":\"scatter\"},{\"hoverinfo\":\"none\",\"mode\":\"text\",\"text\":\"U\\u011furcan \\u00c7ak\\u0131r\",\"textfont\":{\"color\":\"blue\",\"size\":10},\"textposition\":\"top left\",\"x\":[125],\"y\":[15.714285714285715],\"type\":\"scatter\"},{\"hoverinfo\":\"none\",\"mode\":\"text\",\"text\":\"Merih Demiral\",\"textfont\":{\"color\":\"blue\",\"size\":10},\"textposition\":\"top left\",\"x\":[125],\"y\":[21.42857142857143],\"type\":\"scatter\"},{\"hoverinfo\":\"none\",\"mode\":\"text\",\"text\":\"Ahmetcan Kaplan\",\"textfont\":{\"color\":\"blue\",\"size\":10},\"textposition\":\"top left\",\"x\":[125],\"y\":[27.142857142857142],\"type\":\"scatter\"},{\"hoverinfo\":\"none\",\"mode\":\"text\",\"text\":\"Kaan Ayhan\",\"textfont\":{\"color\":\"blue\",\"size\":10},\"textposition\":\"top left\",\"x\":[125],\"y\":[32.85714285714286],\"type\":\"scatter\"},{\"hoverinfo\":\"none\",\"mode\":\"text\",\"text\":\"Zeki \\u00c7elik\",\"textfont\":{\"color\":\"blue\",\"size\":10},\"textposition\":\"top left\",\"x\":[125],\"y\":[38.57142857142857],\"type\":\"scatter\"},{\"hoverinfo\":\"none\",\"mode\":\"text\",\"text\":\"Salih \\u00d6zcan\",\"textfont\":{\"color\":\"blue\",\"size\":10},\"textposition\":\"top left\",\"x\":[125],\"y\":[44.285714285714285],\"type\":\"scatter\"},{\"hoverinfo\":\"none\",\"mode\":\"text\",\"text\":\"Okay Yoku\\u015flu\",\"textfont\":{\"color\":\"blue\",\"size\":10},\"textposition\":\"top left\",\"x\":[125],\"y\":[50.0],\"type\":\"scatter\"},{\"hoverinfo\":\"none\",\"mode\":\"text\",\"text\":\"Orkun K\\u00f6k\\u00e7\\u00fc\",\"textfont\":{\"color\":\"blue\",\"size\":10},\"textposition\":\"top left\",\"x\":[125],\"y\":[55.714285714285715],\"type\":\"scatter\"},{\"hoverinfo\":\"none\",\"mode\":\"text\",\"text\":\"Yusuf Yaz\\u0131c\\u0131\",\"textfont\":{\"color\":\"blue\",\"size\":10},\"textposition\":\"top left\",\"x\":[125],\"y\":[61.42857142857143],\"type\":\"scatter\"},{\"hoverinfo\":\"none\",\"mode\":\"text\",\"text\":\"\\u0130rfan Can Kahveci\",\"textfont\":{\"color\":\"blue\",\"size\":10},\"textposition\":\"top left\",\"x\":[125],\"y\":[67.14285714285714],\"type\":\"scatter\"},{\"hoverinfo\":\"none\",\"mode\":\"text\",\"text\":\"Yunus Akg\\u00fcn\",\"textfont\":{\"color\":\"blue\",\"size\":10},\"textposition\":\"top left\",\"x\":[125],\"y\":[72.85714285714286],\"type\":\"scatter\"},{\"hoverinfo\":\"none\",\"mode\":\"text\",\"text\":\"Kenan Y\\u0131ld\\u0131z\",\"textfont\":{\"color\":\"blue\",\"size\":10},\"textposition\":\"top left\",\"x\":[125],\"y\":[78.57142857142857],\"type\":\"scatter\"},{\"hoverinfo\":\"none\",\"mode\":\"text\",\"text\":\"Semih K\\u0131l\\u0131\\u00e7soy\",\"textfont\":{\"color\":\"blue\",\"size\":10},\"textposition\":\"top left\",\"x\":[125],\"y\":[84.28571428571429],\"type\":\"scatter\"},{\"hoverinfo\":\"none\",\"mode\":\"text\",\"text\":\"Bertu\\u011f Y\\u0131ld\\u0131r\\u0131m\",\"textfont\":{\"color\":\"blue\",\"size\":10},\"textposition\":\"top left\",\"x\":[125],\"y\":[90.0],\"type\":\"scatter\"},{\"hoverinfo\":\"none\",\"mode\":\"text\",\"text\":[\"Teknik Direkt\\u00f6r\"],\"textfont\":{\"color\":\"red\",\"size\":12},\"textposition\":\"top left\",\"x\":[125],\"y\":[95],\"type\":\"scatter\"},{\"hoverinfo\":\"text\",\"hovertext\":\"Name: Mert G\\u00fcnok<br>Age: 35<br>Market Value: 1200000\",\"marker\":{\"color\":\"red\",\"line\":{\"color\":\"red\",\"width\":2},\"opacity\":0.7,\"size\":30},\"mode\":\"markers+text\",\"text\":[\"Mert G\\u00fcnok\"],\"textfont\":{\"color\":\"white\",\"size\":12},\"textposition\":\"bottom center\",\"x\":[5],\"y\":[50],\"type\":\"scatter\"},{\"hoverinfo\":\"text\",\"hovertext\":\"Name: Ferdi Kad\\u0131o\\u011flu<br>Age: 24<br>Market Value: 21000000\",\"marker\":{\"color\":\"red\",\"line\":{\"color\":\"red\",\"width\":2},\"opacity\":0.7,\"size\":30},\"mode\":\"markers+text\",\"text\":[\"Ferdi Kad\\u0131o\\u011flu\"],\"textfont\":{\"color\":\"white\",\"size\":12},\"textposition\":\"bottom center\",\"x\":[20],\"y\":[20],\"type\":\"scatter\"},{\"hoverinfo\":\"text\",\"hovertext\":\"Name: Mert M\\u00fcld\\u00fcr<br>Age: 25<br>Market Value: 4200000\",\"marker\":{\"color\":\"red\",\"line\":{\"color\":\"red\",\"width\":2},\"opacity\":0.7,\"size\":30},\"mode\":\"markers+text\",\"text\":[\"Mert M\\u00fcld\\u00fcr\"],\"textfont\":{\"color\":\"white\",\"size\":12},\"textposition\":\"bottom center\",\"x\":[20],\"y\":[80],\"type\":\"scatter\"},{\"hoverinfo\":\"text\",\"hovertext\":\"Name: Abd\\u00fclkerim Bardakc\\u0131<br>Age: 29<br>Market Value: 9000000\",\"marker\":{\"color\":\"red\",\"line\":{\"color\":\"red\",\"width\":2},\"opacity\":0.7,\"size\":30},\"mode\":\"markers+text\",\"text\":[\"Abd\\u00fclkerim Bardakc\\u0131\"],\"textfont\":{\"color\":\"white\",\"size\":12},\"textposition\":\"bottom center\",\"x\":[35],\"y\":[35],\"type\":\"scatter\"},{\"hoverinfo\":\"text\",\"hovertext\":\"Name: Samet Akaydin<br>Age: 30<br>Market Value: 2500000\",\"marker\":{\"color\":\"red\",\"line\":{\"color\":\"red\",\"width\":2},\"opacity\":0.7,\"size\":30},\"mode\":\"markers+text\",\"text\":[\"Samet Akaydin\"],\"textfont\":{\"color\":\"white\",\"size\":12},\"textposition\":\"bottom center\",\"x\":[35],\"y\":[65],\"type\":\"scatter\"},{\"hoverinfo\":\"text\",\"hovertext\":\"Name: Hakan \\u00c7alhano\\u011flu<br>Age: 30<br>Market Value: 45000000\",\"marker\":{\"color\":\"red\",\"line\":{\"color\":\"red\",\"width\":2},\"opacity\":0.7,\"size\":30},\"mode\":\"markers+text\",\"text\":[\"Hakan \\u00c7alhano\\u011flu\"],\"textfont\":{\"color\":\"white\",\"size\":12},\"textposition\":\"bottom center\",\"x\":[50],\"y\":[30],\"type\":\"scatter\"},{\"hoverinfo\":\"text\",\"hovertext\":\"Name: \\u0130smail Y\\u00fcksek<br>Age: 25<br>Market Value: 12000000\",\"marker\":{\"color\":\"red\",\"line\":{\"color\":\"red\",\"width\":2},\"opacity\":0.7,\"size\":30},\"mode\":\"markers+text\",\"text\":[\"\\u0130smail Y\\u00fcksek\"],\"textfont\":{\"color\":\"white\",\"size\":12},\"textposition\":\"bottom center\",\"x\":[50],\"y\":[70],\"type\":\"scatter\"},{\"hoverinfo\":\"text\",\"hovertext\":\"Name: Bar\\u0131\\u015f Alper Y\\u0131lmaz<br>Age: 24<br>Market Value: 17000000\",\"marker\":{\"color\":\"red\",\"line\":{\"color\":\"red\",\"width\":2},\"opacity\":0.7,\"size\":30},\"mode\":\"markers+text\",\"text\":[\"Bar\\u0131\\u015f Alper Y\\u0131lmaz\"],\"textfont\":{\"color\":\"white\",\"size\":12},\"textposition\":\"bottom center\",\"x\":[70],\"y\":[20],\"type\":\"scatter\"},{\"hoverinfo\":\"text\",\"hovertext\":\"Name: Kerem Akt\\u00fcrko\\u011flu<br>Age: 25<br>Market Value: 15000000\",\"marker\":{\"color\":\"red\",\"line\":{\"color\":\"red\",\"width\":2},\"opacity\":0.7,\"size\":30},\"mode\":\"markers+text\",\"text\":[\"Kerem Akt\\u00fcrko\\u011flu\"],\"textfont\":{\"color\":\"white\",\"size\":12},\"textposition\":\"bottom center\",\"x\":[70],\"y\":[80],\"type\":\"scatter\"},{\"hoverinfo\":\"text\",\"hovertext\":\"Name: Arda G\\u00fcler<br>Age: 19<br>Market Value: 30000000\",\"marker\":{\"color\":\"red\",\"line\":{\"color\":\"red\",\"width\":2},\"opacity\":0.7,\"size\":30},\"mode\":\"markers+text\",\"text\":[\"Arda G\\u00fcler\"],\"textfont\":{\"color\":\"white\",\"size\":12},\"textposition\":\"bottom center\",\"x\":[70],\"y\":[50],\"type\":\"scatter\"},{\"hoverinfo\":\"text\",\"hovertext\":\"Name: Cenk Tosun<br>Age: 33<br>Market Value: 2000000\",\"marker\":{\"color\":\"red\",\"line\":{\"color\":\"red\",\"width\":2},\"opacity\":0.7,\"size\":30},\"mode\":\"markers+text\",\"text\":[\"Cenk Tosun\"],\"textfont\":{\"color\":\"white\",\"size\":12},\"textposition\":\"bottom center\",\"x\":[90],\"y\":[50],\"type\":\"scatter\"},{\"hoverinfo\":\"none\",\"mode\":\"text\",\"text\":\"Altay Bay\\u0131nd\\u0131r\",\"textfont\":{\"color\":\"blue\",\"size\":10},\"textposition\":\"top left\",\"x\":[125],\"y\":[10.0],\"type\":\"scatter\"},{\"hoverinfo\":\"none\",\"mode\":\"text\",\"text\":\"U\\u011furcan \\u00c7ak\\u0131r\",\"textfont\":{\"color\":\"blue\",\"size\":10},\"textposition\":\"top left\",\"x\":[125],\"y\":[15.714285714285715],\"type\":\"scatter\"},{\"hoverinfo\":\"none\",\"mode\":\"text\",\"text\":\"Merih Demiral\",\"textfont\":{\"color\":\"blue\",\"size\":10},\"textposition\":\"top left\",\"x\":[125],\"y\":[21.42857142857143],\"type\":\"scatter\"},{\"hoverinfo\":\"none\",\"mode\":\"text\",\"text\":\"Ahmetcan Kaplan\",\"textfont\":{\"color\":\"blue\",\"size\":10},\"textposition\":\"top left\",\"x\":[125],\"y\":[27.142857142857142],\"type\":\"scatter\"},{\"hoverinfo\":\"none\",\"mode\":\"text\",\"text\":\"Kaan Ayhan\",\"textfont\":{\"color\":\"blue\",\"size\":10},\"textposition\":\"top left\",\"x\":[125],\"y\":[32.85714285714286],\"type\":\"scatter\"},{\"hoverinfo\":\"none\",\"mode\":\"text\",\"text\":\"Zeki \\u00c7elik\",\"textfont\":{\"color\":\"blue\",\"size\":10},\"textposition\":\"top left\",\"x\":[125],\"y\":[38.57142857142857],\"type\":\"scatter\"},{\"hoverinfo\":\"none\",\"mode\":\"text\",\"text\":\"Salih \\u00d6zcan\",\"textfont\":{\"color\":\"blue\",\"size\":10},\"textposition\":\"top left\",\"x\":[125],\"y\":[44.285714285714285],\"type\":\"scatter\"},{\"hoverinfo\":\"none\",\"mode\":\"text\",\"text\":\"Okay Yoku\\u015flu\",\"textfont\":{\"color\":\"blue\",\"size\":10},\"textposition\":\"top left\",\"x\":[125],\"y\":[50.0],\"type\":\"scatter\"},{\"hoverinfo\":\"none\",\"mode\":\"text\",\"text\":\"Orkun K\\u00f6k\\u00e7\\u00fc\",\"textfont\":{\"color\":\"blue\",\"size\":10},\"textposition\":\"top left\",\"x\":[125],\"y\":[55.714285714285715],\"type\":\"scatter\"},{\"hoverinfo\":\"none\",\"mode\":\"text\",\"text\":\"Yusuf Yaz\\u0131c\\u0131\",\"textfont\":{\"color\":\"blue\",\"size\":10},\"textposition\":\"top left\",\"x\":[125],\"y\":[61.42857142857143],\"type\":\"scatter\"},{\"hoverinfo\":\"none\",\"mode\":\"text\",\"text\":\"\\u0130rfan Can Kahveci\",\"textfont\":{\"color\":\"blue\",\"size\":10},\"textposition\":\"top left\",\"x\":[125],\"y\":[67.14285714285714],\"type\":\"scatter\"},{\"hoverinfo\":\"none\",\"mode\":\"text\",\"text\":\"Yunus Akg\\u00fcn\",\"textfont\":{\"color\":\"blue\",\"size\":10},\"textposition\":\"top left\",\"x\":[125],\"y\":[72.85714285714286],\"type\":\"scatter\"},{\"hoverinfo\":\"none\",\"mode\":\"text\",\"text\":\"Kenan Y\\u0131ld\\u0131z\",\"textfont\":{\"color\":\"blue\",\"size\":10},\"textposition\":\"top left\",\"x\":[125],\"y\":[78.57142857142857],\"type\":\"scatter\"},{\"hoverinfo\":\"none\",\"mode\":\"text\",\"text\":\"Semih K\\u0131l\\u0131\\u00e7soy\",\"textfont\":{\"color\":\"blue\",\"size\":10},\"textposition\":\"top left\",\"x\":[125],\"y\":[84.28571428571429],\"type\":\"scatter\"},{\"hoverinfo\":\"none\",\"mode\":\"text\",\"text\":\"Bertu\\u011f Y\\u0131ld\\u0131r\\u0131m\",\"textfont\":{\"color\":\"blue\",\"size\":10},\"textposition\":\"top left\",\"x\":[125],\"y\":[90.0],\"type\":\"scatter\"},{\"hoverinfo\":\"none\",\"mode\":\"text\",\"text\":[\"Teknik Direkt\\u00f6r\"],\"textfont\":{\"color\":\"red\",\"size\":12},\"textposition\":\"top left\",\"x\":[125],\"y\":[95],\"type\":\"scatter\"}],                        {\"template\":{\"data\":{\"histogram2dcontour\":[{\"type\":\"histogram2dcontour\",\"colorbar\":{\"outlinewidth\":0,\"ticks\":\"\"},\"colorscale\":[[0.0,\"#0d0887\"],[0.1111111111111111,\"#46039f\"],[0.2222222222222222,\"#7201a8\"],[0.3333333333333333,\"#9c179e\"],[0.4444444444444444,\"#bd3786\"],[0.5555555555555556,\"#d8576b\"],[0.6666666666666666,\"#ed7953\"],[0.7777777777777778,\"#fb9f3a\"],[0.8888888888888888,\"#fdca26\"],[1.0,\"#f0f921\"]]}],\"choropleth\":[{\"type\":\"choropleth\",\"colorbar\":{\"outlinewidth\":0,\"ticks\":\"\"}}],\"histogram2d\":[{\"type\":\"histogram2d\",\"colorbar\":{\"outlinewidth\":0,\"ticks\":\"\"},\"colorscale\":[[0.0,\"#0d0887\"],[0.1111111111111111,\"#46039f\"],[0.2222222222222222,\"#7201a8\"],[0.3333333333333333,\"#9c179e\"],[0.4444444444444444,\"#bd3786\"],[0.5555555555555556,\"#d8576b\"],[0.6666666666666666,\"#ed7953\"],[0.7777777777777778,\"#fb9f3a\"],[0.8888888888888888,\"#fdca26\"],[1.0,\"#f0f921\"]]}],\"heatmap\":[{\"type\":\"heatmap\",\"colorbar\":{\"outlinewidth\":0,\"ticks\":\"\"},\"colorscale\":[[0.0,\"#0d0887\"],[0.1111111111111111,\"#46039f\"],[0.2222222222222222,\"#7201a8\"],[0.3333333333333333,\"#9c179e\"],[0.4444444444444444,\"#bd3786\"],[0.5555555555555556,\"#d8576b\"],[0.6666666666666666,\"#ed7953\"],[0.7777777777777778,\"#fb9f3a\"],[0.8888888888888888,\"#fdca26\"],[1.0,\"#f0f921\"]]}],\"heatmapgl\":[{\"type\":\"heatmapgl\",\"colorbar\":{\"outlinewidth\":0,\"ticks\":\"\"},\"colorscale\":[[0.0,\"#0d0887\"],[0.1111111111111111,\"#46039f\"],[0.2222222222222222,\"#7201a8\"],[0.3333333333333333,\"#9c179e\"],[0.4444444444444444,\"#bd3786\"],[0.5555555555555556,\"#d8576b\"],[0.6666666666666666,\"#ed7953\"],[0.7777777777777778,\"#fb9f3a\"],[0.8888888888888888,\"#fdca26\"],[1.0,\"#f0f921\"]]}],\"contourcarpet\":[{\"type\":\"contourcarpet\",\"colorbar\":{\"outlinewidth\":0,\"ticks\":\"\"}}],\"contour\":[{\"type\":\"contour\",\"colorbar\":{\"outlinewidth\":0,\"ticks\":\"\"},\"colorscale\":[[0.0,\"#0d0887\"],[0.1111111111111111,\"#46039f\"],[0.2222222222222222,\"#7201a8\"],[0.3333333333333333,\"#9c179e\"],[0.4444444444444444,\"#bd3786\"],[0.5555555555555556,\"#d8576b\"],[0.6666666666666666,\"#ed7953\"],[0.7777777777777778,\"#fb9f3a\"],[0.8888888888888888,\"#fdca26\"],[1.0,\"#f0f921\"]]}],\"surface\":[{\"type\":\"surface\",\"colorbar\":{\"outlinewidth\":0,\"ticks\":\"\"},\"colorscale\":[[0.0,\"#0d0887\"],[0.1111111111111111,\"#46039f\"],[0.2222222222222222,\"#7201a8\"],[0.3333333333333333,\"#9c179e\"],[0.4444444444444444,\"#bd3786\"],[0.5555555555555556,\"#d8576b\"],[0.6666666666666666,\"#ed7953\"],[0.7777777777777778,\"#fb9f3a\"],[0.8888888888888888,\"#fdca26\"],[1.0,\"#f0f921\"]]}],\"mesh3d\":[{\"type\":\"mesh3d\",\"colorbar\":{\"outlinewidth\":0,\"ticks\":\"\"}}],\"scatter\":[{\"fillpattern\":{\"fillmode\":\"overlay\",\"size\":10,\"solidity\":0.2},\"type\":\"scatter\"}],\"parcoords\":[{\"type\":\"parcoords\",\"line\":{\"colorbar\":{\"outlinewidth\":0,\"ticks\":\"\"}}}],\"scatterpolargl\":[{\"type\":\"scatterpolargl\",\"marker\":{\"colorbar\":{\"outlinewidth\":0,\"ticks\":\"\"}}}],\"bar\":[{\"error_x\":{\"color\":\"#2a3f5f\"},\"error_y\":{\"color\":\"#2a3f5f\"},\"marker\":{\"line\":{\"color\":\"#E5ECF6\",\"width\":0.5},\"pattern\":{\"fillmode\":\"overlay\",\"size\":10,\"solidity\":0.2}},\"type\":\"bar\"}],\"scattergeo\":[{\"type\":\"scattergeo\",\"marker\":{\"colorbar\":{\"outlinewidth\":0,\"ticks\":\"\"}}}],\"scatterpolar\":[{\"type\":\"scatterpolar\",\"marker\":{\"colorbar\":{\"outlinewidth\":0,\"ticks\":\"\"}}}],\"histogram\":[{\"marker\":{\"pattern\":{\"fillmode\":\"overlay\",\"size\":10,\"solidity\":0.2}},\"type\":\"histogram\"}],\"scattergl\":[{\"type\":\"scattergl\",\"marker\":{\"colorbar\":{\"outlinewidth\":0,\"ticks\":\"\"}}}],\"scatter3d\":[{\"type\":\"scatter3d\",\"line\":{\"colorbar\":{\"outlinewidth\":0,\"ticks\":\"\"}},\"marker\":{\"colorbar\":{\"outlinewidth\":0,\"ticks\":\"\"}}}],\"scattermapbox\":[{\"type\":\"scattermapbox\",\"marker\":{\"colorbar\":{\"outlinewidth\":0,\"ticks\":\"\"}}}],\"scatterternary\":[{\"type\":\"scatterternary\",\"marker\":{\"colorbar\":{\"outlinewidth\":0,\"ticks\":\"\"}}}],\"scattercarpet\":[{\"type\":\"scattercarpet\",\"marker\":{\"colorbar\":{\"outlinewidth\":0,\"ticks\":\"\"}}}],\"carpet\":[{\"aaxis\":{\"endlinecolor\":\"#2a3f5f\",\"gridcolor\":\"white\",\"linecolor\":\"white\",\"minorgridcolor\":\"white\",\"startlinecolor\":\"#2a3f5f\"},\"baxis\":{\"endlinecolor\":\"#2a3f5f\",\"gridcolor\":\"white\",\"linecolor\":\"white\",\"minorgridcolor\":\"white\",\"startlinecolor\":\"#2a3f5f\"},\"type\":\"carpet\"}],\"table\":[{\"cells\":{\"fill\":{\"color\":\"#EBF0F8\"},\"line\":{\"color\":\"white\"}},\"header\":{\"fill\":{\"color\":\"#C8D4E3\"},\"line\":{\"color\":\"white\"}},\"type\":\"table\"}],\"barpolar\":[{\"marker\":{\"line\":{\"color\":\"#E5ECF6\",\"width\":0.5},\"pattern\":{\"fillmode\":\"overlay\",\"size\":10,\"solidity\":0.2}},\"type\":\"barpolar\"}],\"pie\":[{\"automargin\":true,\"type\":\"pie\"}]},\"layout\":{\"autotypenumbers\":\"strict\",\"colorway\":[\"#636efa\",\"#EF553B\",\"#00cc96\",\"#ab63fa\",\"#FFA15A\",\"#19d3f3\",\"#FF6692\",\"#B6E880\",\"#FF97FF\",\"#FECB52\"],\"font\":{\"color\":\"#2a3f5f\"},\"hovermode\":\"closest\",\"hoverlabel\":{\"align\":\"left\"},\"paper_bgcolor\":\"white\",\"plot_bgcolor\":\"#E5ECF6\",\"polar\":{\"bgcolor\":\"#E5ECF6\",\"angularaxis\":{\"gridcolor\":\"white\",\"linecolor\":\"white\",\"ticks\":\"\"},\"radialaxis\":{\"gridcolor\":\"white\",\"linecolor\":\"white\",\"ticks\":\"\"}},\"ternary\":{\"bgcolor\":\"#E5ECF6\",\"aaxis\":{\"gridcolor\":\"white\",\"linecolor\":\"white\",\"ticks\":\"\"},\"baxis\":{\"gridcolor\":\"white\",\"linecolor\":\"white\",\"ticks\":\"\"},\"caxis\":{\"gridcolor\":\"white\",\"linecolor\":\"white\",\"ticks\":\"\"}},\"coloraxis\":{\"colorbar\":{\"outlinewidth\":0,\"ticks\":\"\"}},\"colorscale\":{\"sequential\":[[0.0,\"#0d0887\"],[0.1111111111111111,\"#46039f\"],[0.2222222222222222,\"#7201a8\"],[0.3333333333333333,\"#9c179e\"],[0.4444444444444444,\"#bd3786\"],[0.5555555555555556,\"#d8576b\"],[0.6666666666666666,\"#ed7953\"],[0.7777777777777778,\"#fb9f3a\"],[0.8888888888888888,\"#fdca26\"],[1.0,\"#f0f921\"]],\"sequentialminus\":[[0.0,\"#0d0887\"],[0.1111111111111111,\"#46039f\"],[0.2222222222222222,\"#7201a8\"],[0.3333333333333333,\"#9c179e\"],[0.4444444444444444,\"#bd3786\"],[0.5555555555555556,\"#d8576b\"],[0.6666666666666666,\"#ed7953\"],[0.7777777777777778,\"#fb9f3a\"],[0.8888888888888888,\"#fdca26\"],[1.0,\"#f0f921\"]],\"diverging\":[[0,\"#8e0152\"],[0.1,\"#c51b7d\"],[0.2,\"#de77ae\"],[0.3,\"#f1b6da\"],[0.4,\"#fde0ef\"],[0.5,\"#f7f7f7\"],[0.6,\"#e6f5d0\"],[0.7,\"#b8e186\"],[0.8,\"#7fbc41\"],[0.9,\"#4d9221\"],[1,\"#276419\"]]},\"xaxis\":{\"gridcolor\":\"white\",\"linecolor\":\"white\",\"ticks\":\"\",\"title\":{\"standoff\":15},\"zerolinecolor\":\"white\",\"automargin\":true,\"zerolinewidth\":2},\"yaxis\":{\"gridcolor\":\"white\",\"linecolor\":\"white\",\"ticks\":\"\",\"title\":{\"standoff\":15},\"zerolinecolor\":\"white\",\"automargin\":true,\"zerolinewidth\":2},\"scene\":{\"xaxis\":{\"backgroundcolor\":\"#E5ECF6\",\"gridcolor\":\"white\",\"linecolor\":\"white\",\"showbackground\":true,\"ticks\":\"\",\"zerolinecolor\":\"white\",\"gridwidth\":2},\"yaxis\":{\"backgroundcolor\":\"#E5ECF6\",\"gridcolor\":\"white\",\"linecolor\":\"white\",\"showbackground\":true,\"ticks\":\"\",\"zerolinecolor\":\"white\",\"gridwidth\":2},\"zaxis\":{\"backgroundcolor\":\"#E5ECF6\",\"gridcolor\":\"white\",\"linecolor\":\"white\",\"showbackground\":true,\"ticks\":\"\",\"zerolinecolor\":\"white\",\"gridwidth\":2}},\"shapedefaults\":{\"line\":{\"color\":\"#2a3f5f\"}},\"annotationdefaults\":{\"arrowcolor\":\"#2a3f5f\",\"arrowhead\":0,\"arrowwidth\":1},\"geo\":{\"bgcolor\":\"white\",\"landcolor\":\"#E5ECF6\",\"subunitcolor\":\"white\",\"showland\":true,\"showlakes\":true,\"lakecolor\":\"white\"},\"title\":{\"x\":0.05},\"mapbox\":{\"style\":\"light\"}}},\"shapes\":[{\"fillcolor\":\"rgba(0,0,0,0)\",\"line\":{\"color\":\"black\"},\"type\":\"rect\",\"x0\":0,\"x1\":100,\"y0\":0,\"y1\":100},{\"line\":{\"color\":\"black\"},\"type\":\"line\",\"x0\":0,\"x1\":0,\"y0\":0,\"y1\":100},{\"line\":{\"color\":\"black\"},\"type\":\"line\",\"x0\":0,\"x1\":100,\"y0\":100,\"y1\":100},{\"line\":{\"color\":\"black\"},\"type\":\"line\",\"x0\":100,\"x1\":100,\"y0\":100,\"y1\":0},{\"line\":{\"color\":\"black\"},\"type\":\"line\",\"x0\":100,\"x1\":0,\"y0\":0,\"y1\":0},{\"line\":{\"color\":\"black\"},\"type\":\"line\",\"x0\":50,\"x1\":50,\"y0\":0,\"y1\":100},{\"line\":{\"color\":\"black\"},\"type\":\"line\",\"x0\":15,\"x1\":15,\"y0\":19.5,\"y1\":80.5},{\"line\":{\"color\":\"black\"},\"type\":\"line\",\"x0\":0,\"x1\":15,\"y0\":19.5,\"y1\":19.5},{\"line\":{\"color\":\"black\"},\"type\":\"line\",\"x0\":15,\"x1\":0,\"y0\":80.5,\"y1\":80.5},{\"line\":{\"color\":\"black\"},\"type\":\"line\",\"x0\":85,\"x1\":85,\"y0\":19.5,\"y1\":80.5},{\"line\":{\"color\":\"black\"},\"type\":\"line\",\"x0\":100,\"x1\":85,\"y0\":19.5,\"y1\":19.5},{\"line\":{\"color\":\"black\"},\"type\":\"line\",\"x0\":85,\"x1\":100,\"y0\":80.5,\"y1\":80.5},{\"line\":{\"color\":\"black\"},\"type\":\"line\",\"x0\":5.5,\"x1\":5.5,\"y0\":29.5,\"y1\":70.5},{\"line\":{\"color\":\"black\"},\"type\":\"line\",\"x0\":0,\"x1\":5.5,\"y0\":29.5,\"y1\":29.5},{\"line\":{\"color\":\"black\"},\"type\":\"line\",\"x0\":5.5,\"x1\":0,\"y0\":70.5,\"y1\":70.5},{\"line\":{\"color\":\"black\"},\"type\":\"line\",\"x0\":94.5,\"x1\":94.5,\"y0\":29.5,\"y1\":70.5},{\"line\":{\"color\":\"black\"},\"type\":\"line\",\"x0\":100,\"x1\":94.5,\"y0\":29.5,\"y1\":29.5},{\"line\":{\"color\":\"black\"},\"type\":\"line\",\"x0\":94.5,\"x1\":100,\"y0\":70.5,\"y1\":70.5}]},                        {\"responsive\": true}                    ).then(function(){\n",
       "                            \n",
       "var gd = document.getElementById('5712404d-0710-40f8-9f70-c3c47f0b39b9');\n",
       "var x = new MutationObserver(function (mutations, observer) {{\n",
       "        var display = window.getComputedStyle(gd).display;\n",
       "        if (!display || display === 'none') {{\n",
       "            console.log([gd, 'removed!']);\n",
       "            Plotly.purge(gd);\n",
       "            observer.disconnect();\n",
       "        }}\n",
       "}});\n",
       "\n",
       "// Listen for the removal of the full notebook cells\n",
       "var notebookContainer = gd.closest('#notebook-container');\n",
       "if (notebookContainer) {{\n",
       "    x.observe(notebookContainer, {childList: true});\n",
       "}}\n",
       "\n",
       "// Listen for the clearing of the current output cell\n",
       "var outputEl = gd.closest('.output');\n",
       "if (outputEl) {{\n",
       "    x.observe(outputEl, {childList: true});\n",
       "}}\n",
       "\n",
       "                        })                };                });            </script>        </div>"
      ]
     },
     "metadata": {},
     "output_type": "display_data"
    }
   ],
   "source": [
    "# Oyuncuları grafikte göster\n",
    "for index, row in starting_11.iterrows():\n",
    "    fig.add_trace(\n",
    "        go.Scatter(\n",
    "            x=[row['X']],\n",
    "            y=[row['Y']],\n",
    "            mode='markers+text',\n",
    "            text=[row['Name']],\n",
    "            textposition='bottom center',\n",
    "            textfont=dict(size=12, color='white'),\n",
    "            marker=dict(\n",
    "                size=30,\n",
    "                color='red',\n",
    "                opacity=0.7,\n",
    "                line=dict(width=2, color='red')\n",
    "            ),\n",
    "            hovertext=f\"Name: {row['Name']}<br>Age: {turkey_players[turkey_players['Name'] == row['Name']]['Age'].values[0]}<br>Market Value: {turkey_players[turkey_players['Name'] == row['Name']]['MarketValue'].values[0]}\",\n",
    "            hoverinfo='text'\n",
    "        )\n",
    "    )\n",
    "\n",
    "# Yedek oyuncuları sahadaki kenarda listeleyelim, daha sağa taşındı\n",
    "sub_x = 125\n",
    "sub_y = np.linspace(10, 90, len(remaining_players))\n",
    "\n",
    "for (index, sub), y in zip(remaining_players.iterrows(), sub_y):\n",
    "    fig.add_trace(\n",
    "        go.Scatter(\n",
    "            x=[sub_x],\n",
    "            y=[y],\n",
    "            mode='text',\n",
    "            text=sub['Name'],\n",
    "            textposition='top left',\n",
    "            textfont=dict(size=10, color='blue'),\n",
    "            hoverinfo='none'\n",
    "        )\n",
    "    )\n",
    "\n",
    "# Teknik direktörü sahaya ekleyelim, daha sağa taşındı\n",
    "fig.add_trace(\n",
    "    go.Scatter(\n",
    "        x=[125],\n",
    "        y=[95],\n",
    "        mode='text',\n",
    "        text=['Teknik Direktör'],\n",
    "        textposition='top left',\n",
    "        textfont=dict(size=12, color='red'),\n",
    "        hoverinfo='none'\n",
    "    )\n",
    ")\n"
   ]
  },
  {
   "cell_type": "markdown",
   "id": "1834f824",
   "metadata": {},
   "source": [
    "# 7. Hücre: Grafiği Düzenleme ve Gösterme"
   ]
  },
  {
   "cell_type": "code",
   "execution_count": 59,
   "id": "fe7a532a",
   "metadata": {},
   "outputs": [
    {
     "data": {
      "application/vnd.plotly.v1+json": {
       "config": {
        "plotlyServerURL": "https://plot.ly"
       },
       "data": [
        {
         "hoverinfo": "text",
         "hovertext": "Name: Mert Günok<br>Age: 35<br>Market Value: 1200000",
         "marker": {
          "color": "red",
          "line": {
           "color": "red",
           "width": 2
          },
          "opacity": 0.7,
          "size": 30
         },
         "mode": "markers+text",
         "text": [
          "Mert Günok"
         ],
         "textfont": {
          "color": "white",
          "size": 12
         },
         "textposition": "bottom center",
         "type": "scatter",
         "x": [
          5
         ],
         "y": [
          50
         ]
        },
        {
         "hoverinfo": "text",
         "hovertext": "Name: Ferdi Kadıoğlu<br>Age: 24<br>Market Value: 21000000",
         "marker": {
          "color": "red",
          "line": {
           "color": "red",
           "width": 2
          },
          "opacity": 0.7,
          "size": 30
         },
         "mode": "markers+text",
         "text": [
          "Ferdi Kadıoğlu"
         ],
         "textfont": {
          "color": "white",
          "size": 12
         },
         "textposition": "bottom center",
         "type": "scatter",
         "x": [
          20
         ],
         "y": [
          20
         ]
        },
        {
         "hoverinfo": "text",
         "hovertext": "Name: Mert Müldür<br>Age: 25<br>Market Value: 4200000",
         "marker": {
          "color": "red",
          "line": {
           "color": "red",
           "width": 2
          },
          "opacity": 0.7,
          "size": 30
         },
         "mode": "markers+text",
         "text": [
          "Mert Müldür"
         ],
         "textfont": {
          "color": "white",
          "size": 12
         },
         "textposition": "bottom center",
         "type": "scatter",
         "x": [
          20
         ],
         "y": [
          80
         ]
        },
        {
         "hoverinfo": "text",
         "hovertext": "Name: Abdülkerim Bardakcı<br>Age: 29<br>Market Value: 9000000",
         "marker": {
          "color": "red",
          "line": {
           "color": "red",
           "width": 2
          },
          "opacity": 0.7,
          "size": 30
         },
         "mode": "markers+text",
         "text": [
          "Abdülkerim Bardakcı"
         ],
         "textfont": {
          "color": "white",
          "size": 12
         },
         "textposition": "bottom center",
         "type": "scatter",
         "x": [
          35
         ],
         "y": [
          35
         ]
        },
        {
         "hoverinfo": "text",
         "hovertext": "Name: Samet Akaydin<br>Age: 30<br>Market Value: 2500000",
         "marker": {
          "color": "red",
          "line": {
           "color": "red",
           "width": 2
          },
          "opacity": 0.7,
          "size": 30
         },
         "mode": "markers+text",
         "text": [
          "Samet Akaydin"
         ],
         "textfont": {
          "color": "white",
          "size": 12
         },
         "textposition": "bottom center",
         "type": "scatter",
         "x": [
          35
         ],
         "y": [
          65
         ]
        },
        {
         "hoverinfo": "text",
         "hovertext": "Name: Hakan Çalhanoğlu<br>Age: 30<br>Market Value: 45000000",
         "marker": {
          "color": "red",
          "line": {
           "color": "red",
           "width": 2
          },
          "opacity": 0.7,
          "size": 30
         },
         "mode": "markers+text",
         "text": [
          "Hakan Çalhanoğlu"
         ],
         "textfont": {
          "color": "white",
          "size": 12
         },
         "textposition": "bottom center",
         "type": "scatter",
         "x": [
          50
         ],
         "y": [
          30
         ]
        },
        {
         "hoverinfo": "text",
         "hovertext": "Name: İsmail Yüksek<br>Age: 25<br>Market Value: 12000000",
         "marker": {
          "color": "red",
          "line": {
           "color": "red",
           "width": 2
          },
          "opacity": 0.7,
          "size": 30
         },
         "mode": "markers+text",
         "text": [
          "İsmail Yüksek"
         ],
         "textfont": {
          "color": "white",
          "size": 12
         },
         "textposition": "bottom center",
         "type": "scatter",
         "x": [
          50
         ],
         "y": [
          70
         ]
        },
        {
         "hoverinfo": "text",
         "hovertext": "Name: Barış Alper Yılmaz<br>Age: 24<br>Market Value: 17000000",
         "marker": {
          "color": "red",
          "line": {
           "color": "red",
           "width": 2
          },
          "opacity": 0.7,
          "size": 30
         },
         "mode": "markers+text",
         "text": [
          "Barış Alper Yılmaz"
         ],
         "textfont": {
          "color": "white",
          "size": 12
         },
         "textposition": "bottom center",
         "type": "scatter",
         "x": [
          70
         ],
         "y": [
          20
         ]
        },
        {
         "hoverinfo": "text",
         "hovertext": "Name: Kerem Aktürkoğlu<br>Age: 25<br>Market Value: 15000000",
         "marker": {
          "color": "red",
          "line": {
           "color": "red",
           "width": 2
          },
          "opacity": 0.7,
          "size": 30
         },
         "mode": "markers+text",
         "text": [
          "Kerem Aktürkoğlu"
         ],
         "textfont": {
          "color": "white",
          "size": 12
         },
         "textposition": "bottom center",
         "type": "scatter",
         "x": [
          70
         ],
         "y": [
          80
         ]
        },
        {
         "hoverinfo": "text",
         "hovertext": "Name: Arda Güler<br>Age: 19<br>Market Value: 30000000",
         "marker": {
          "color": "red",
          "line": {
           "color": "red",
           "width": 2
          },
          "opacity": 0.7,
          "size": 30
         },
         "mode": "markers+text",
         "text": [
          "Arda Güler"
         ],
         "textfont": {
          "color": "white",
          "size": 12
         },
         "textposition": "bottom center",
         "type": "scatter",
         "x": [
          70
         ],
         "y": [
          50
         ]
        },
        {
         "hoverinfo": "text",
         "hovertext": "Name: Cenk Tosun<br>Age: 33<br>Market Value: 2000000",
         "marker": {
          "color": "red",
          "line": {
           "color": "red",
           "width": 2
          },
          "opacity": 0.7,
          "size": 30
         },
         "mode": "markers+text",
         "text": [
          "Cenk Tosun"
         ],
         "textfont": {
          "color": "white",
          "size": 12
         },
         "textposition": "bottom center",
         "type": "scatter",
         "x": [
          90
         ],
         "y": [
          50
         ]
        },
        {
         "hoverinfo": "none",
         "mode": "text",
         "text": "Altay Bayındır",
         "textfont": {
          "color": "blue",
          "size": 10
         },
         "textposition": "top left",
         "type": "scatter",
         "x": [
          125
         ],
         "y": [
          10
         ]
        },
        {
         "hoverinfo": "none",
         "mode": "text",
         "text": "Uğurcan Çakır",
         "textfont": {
          "color": "blue",
          "size": 10
         },
         "textposition": "top left",
         "type": "scatter",
         "x": [
          125
         ],
         "y": [
          15.714285714285715
         ]
        },
        {
         "hoverinfo": "none",
         "mode": "text",
         "text": "Merih Demiral",
         "textfont": {
          "color": "blue",
          "size": 10
         },
         "textposition": "top left",
         "type": "scatter",
         "x": [
          125
         ],
         "y": [
          21.42857142857143
         ]
        },
        {
         "hoverinfo": "none",
         "mode": "text",
         "text": "Ahmetcan Kaplan",
         "textfont": {
          "color": "blue",
          "size": 10
         },
         "textposition": "top left",
         "type": "scatter",
         "x": [
          125
         ],
         "y": [
          27.142857142857142
         ]
        },
        {
         "hoverinfo": "none",
         "mode": "text",
         "text": "Kaan Ayhan",
         "textfont": {
          "color": "blue",
          "size": 10
         },
         "textposition": "top left",
         "type": "scatter",
         "x": [
          125
         ],
         "y": [
          32.85714285714286
         ]
        },
        {
         "hoverinfo": "none",
         "mode": "text",
         "text": "Zeki Çelik",
         "textfont": {
          "color": "blue",
          "size": 10
         },
         "textposition": "top left",
         "type": "scatter",
         "x": [
          125
         ],
         "y": [
          38.57142857142857
         ]
        },
        {
         "hoverinfo": "none",
         "mode": "text",
         "text": "Salih Özcan",
         "textfont": {
          "color": "blue",
          "size": 10
         },
         "textposition": "top left",
         "type": "scatter",
         "x": [
          125
         ],
         "y": [
          44.285714285714285
         ]
        },
        {
         "hoverinfo": "none",
         "mode": "text",
         "text": "Okay Yokuşlu",
         "textfont": {
          "color": "blue",
          "size": 10
         },
         "textposition": "top left",
         "type": "scatter",
         "x": [
          125
         ],
         "y": [
          50
         ]
        },
        {
         "hoverinfo": "none",
         "mode": "text",
         "text": "Orkun Kökçü",
         "textfont": {
          "color": "blue",
          "size": 10
         },
         "textposition": "top left",
         "type": "scatter",
         "x": [
          125
         ],
         "y": [
          55.714285714285715
         ]
        },
        {
         "hoverinfo": "none",
         "mode": "text",
         "text": "Yusuf Yazıcı",
         "textfont": {
          "color": "blue",
          "size": 10
         },
         "textposition": "top left",
         "type": "scatter",
         "x": [
          125
         ],
         "y": [
          61.42857142857143
         ]
        },
        {
         "hoverinfo": "none",
         "mode": "text",
         "text": "İrfan Can Kahveci",
         "textfont": {
          "color": "blue",
          "size": 10
         },
         "textposition": "top left",
         "type": "scatter",
         "x": [
          125
         ],
         "y": [
          67.14285714285714
         ]
        },
        {
         "hoverinfo": "none",
         "mode": "text",
         "text": "Yunus Akgün",
         "textfont": {
          "color": "blue",
          "size": 10
         },
         "textposition": "top left",
         "type": "scatter",
         "x": [
          125
         ],
         "y": [
          72.85714285714286
         ]
        },
        {
         "hoverinfo": "none",
         "mode": "text",
         "text": "Kenan Yıldız",
         "textfont": {
          "color": "blue",
          "size": 10
         },
         "textposition": "top left",
         "type": "scatter",
         "x": [
          125
         ],
         "y": [
          78.57142857142857
         ]
        },
        {
         "hoverinfo": "none",
         "mode": "text",
         "text": "Semih Kılıçsoy",
         "textfont": {
          "color": "blue",
          "size": 10
         },
         "textposition": "top left",
         "type": "scatter",
         "x": [
          125
         ],
         "y": [
          84.28571428571429
         ]
        },
        {
         "hoverinfo": "none",
         "mode": "text",
         "text": "Bertuğ Yıldırım",
         "textfont": {
          "color": "blue",
          "size": 10
         },
         "textposition": "top left",
         "type": "scatter",
         "x": [
          125
         ],
         "y": [
          90
         ]
        },
        {
         "hoverinfo": "none",
         "mode": "text",
         "text": [
          "Teknik Direktör"
         ],
         "textfont": {
          "color": "red",
          "size": 12
         },
         "textposition": "top left",
         "type": "scatter",
         "x": [
          125
         ],
         "y": [
          95
         ]
        },
        {
         "hoverinfo": "text",
         "hovertext": "Name: Mert Günok<br>Age: 35<br>Market Value: 1200000",
         "marker": {
          "color": "red",
          "line": {
           "color": "red",
           "width": 2
          },
          "opacity": 0.7,
          "size": 30
         },
         "mode": "markers+text",
         "text": [
          "Mert Günok"
         ],
         "textfont": {
          "color": "white",
          "size": 12
         },
         "textposition": "bottom center",
         "type": "scatter",
         "x": [
          5
         ],
         "y": [
          50
         ]
        },
        {
         "hoverinfo": "text",
         "hovertext": "Name: Ferdi Kadıoğlu<br>Age: 24<br>Market Value: 21000000",
         "marker": {
          "color": "red",
          "line": {
           "color": "red",
           "width": 2
          },
          "opacity": 0.7,
          "size": 30
         },
         "mode": "markers+text",
         "text": [
          "Ferdi Kadıoğlu"
         ],
         "textfont": {
          "color": "white",
          "size": 12
         },
         "textposition": "bottom center",
         "type": "scatter",
         "x": [
          20
         ],
         "y": [
          20
         ]
        },
        {
         "hoverinfo": "text",
         "hovertext": "Name: Mert Müldür<br>Age: 25<br>Market Value: 4200000",
         "marker": {
          "color": "red",
          "line": {
           "color": "red",
           "width": 2
          },
          "opacity": 0.7,
          "size": 30
         },
         "mode": "markers+text",
         "text": [
          "Mert Müldür"
         ],
         "textfont": {
          "color": "white",
          "size": 12
         },
         "textposition": "bottom center",
         "type": "scatter",
         "x": [
          20
         ],
         "y": [
          80
         ]
        },
        {
         "hoverinfo": "text",
         "hovertext": "Name: Abdülkerim Bardakcı<br>Age: 29<br>Market Value: 9000000",
         "marker": {
          "color": "red",
          "line": {
           "color": "red",
           "width": 2
          },
          "opacity": 0.7,
          "size": 30
         },
         "mode": "markers+text",
         "text": [
          "Abdülkerim Bardakcı"
         ],
         "textfont": {
          "color": "white",
          "size": 12
         },
         "textposition": "bottom center",
         "type": "scatter",
         "x": [
          35
         ],
         "y": [
          35
         ]
        },
        {
         "hoverinfo": "text",
         "hovertext": "Name: Samet Akaydin<br>Age: 30<br>Market Value: 2500000",
         "marker": {
          "color": "red",
          "line": {
           "color": "red",
           "width": 2
          },
          "opacity": 0.7,
          "size": 30
         },
         "mode": "markers+text",
         "text": [
          "Samet Akaydin"
         ],
         "textfont": {
          "color": "white",
          "size": 12
         },
         "textposition": "bottom center",
         "type": "scatter",
         "x": [
          35
         ],
         "y": [
          65
         ]
        },
        {
         "hoverinfo": "text",
         "hovertext": "Name: Hakan Çalhanoğlu<br>Age: 30<br>Market Value: 45000000",
         "marker": {
          "color": "red",
          "line": {
           "color": "red",
           "width": 2
          },
          "opacity": 0.7,
          "size": 30
         },
         "mode": "markers+text",
         "text": [
          "Hakan Çalhanoğlu"
         ],
         "textfont": {
          "color": "white",
          "size": 12
         },
         "textposition": "bottom center",
         "type": "scatter",
         "x": [
          50
         ],
         "y": [
          30
         ]
        },
        {
         "hoverinfo": "text",
         "hovertext": "Name: İsmail Yüksek<br>Age: 25<br>Market Value: 12000000",
         "marker": {
          "color": "red",
          "line": {
           "color": "red",
           "width": 2
          },
          "opacity": 0.7,
          "size": 30
         },
         "mode": "markers+text",
         "text": [
          "İsmail Yüksek"
         ],
         "textfont": {
          "color": "white",
          "size": 12
         },
         "textposition": "bottom center",
         "type": "scatter",
         "x": [
          50
         ],
         "y": [
          70
         ]
        },
        {
         "hoverinfo": "text",
         "hovertext": "Name: Barış Alper Yılmaz<br>Age: 24<br>Market Value: 17000000",
         "marker": {
          "color": "red",
          "line": {
           "color": "red",
           "width": 2
          },
          "opacity": 0.7,
          "size": 30
         },
         "mode": "markers+text",
         "text": [
          "Barış Alper Yılmaz"
         ],
         "textfont": {
          "color": "white",
          "size": 12
         },
         "textposition": "bottom center",
         "type": "scatter",
         "x": [
          70
         ],
         "y": [
          20
         ]
        },
        {
         "hoverinfo": "text",
         "hovertext": "Name: Kerem Aktürkoğlu<br>Age: 25<br>Market Value: 15000000",
         "marker": {
          "color": "red",
          "line": {
           "color": "red",
           "width": 2
          },
          "opacity": 0.7,
          "size": 30
         },
         "mode": "markers+text",
         "text": [
          "Kerem Aktürkoğlu"
         ],
         "textfont": {
          "color": "white",
          "size": 12
         },
         "textposition": "bottom center",
         "type": "scatter",
         "x": [
          70
         ],
         "y": [
          80
         ]
        },
        {
         "hoverinfo": "text",
         "hovertext": "Name: Arda Güler<br>Age: 19<br>Market Value: 30000000",
         "marker": {
          "color": "red",
          "line": {
           "color": "red",
           "width": 2
          },
          "opacity": 0.7,
          "size": 30
         },
         "mode": "markers+text",
         "text": [
          "Arda Güler"
         ],
         "textfont": {
          "color": "white",
          "size": 12
         },
         "textposition": "bottom center",
         "type": "scatter",
         "x": [
          70
         ],
         "y": [
          50
         ]
        },
        {
         "hoverinfo": "text",
         "hovertext": "Name: Cenk Tosun<br>Age: 33<br>Market Value: 2000000",
         "marker": {
          "color": "red",
          "line": {
           "color": "red",
           "width": 2
          },
          "opacity": 0.7,
          "size": 30
         },
         "mode": "markers+text",
         "text": [
          "Cenk Tosun"
         ],
         "textfont": {
          "color": "white",
          "size": 12
         },
         "textposition": "bottom center",
         "type": "scatter",
         "x": [
          90
         ],
         "y": [
          50
         ]
        },
        {
         "hoverinfo": "none",
         "mode": "text",
         "text": "Altay Bayındır",
         "textfont": {
          "color": "blue",
          "size": 10
         },
         "textposition": "top left",
         "type": "scatter",
         "x": [
          125
         ],
         "y": [
          10
         ]
        },
        {
         "hoverinfo": "none",
         "mode": "text",
         "text": "Uğurcan Çakır",
         "textfont": {
          "color": "blue",
          "size": 10
         },
         "textposition": "top left",
         "type": "scatter",
         "x": [
          125
         ],
         "y": [
          15.714285714285715
         ]
        },
        {
         "hoverinfo": "none",
         "mode": "text",
         "text": "Merih Demiral",
         "textfont": {
          "color": "blue",
          "size": 10
         },
         "textposition": "top left",
         "type": "scatter",
         "x": [
          125
         ],
         "y": [
          21.42857142857143
         ]
        },
        {
         "hoverinfo": "none",
         "mode": "text",
         "text": "Ahmetcan Kaplan",
         "textfont": {
          "color": "blue",
          "size": 10
         },
         "textposition": "top left",
         "type": "scatter",
         "x": [
          125
         ],
         "y": [
          27.142857142857142
         ]
        },
        {
         "hoverinfo": "none",
         "mode": "text",
         "text": "Kaan Ayhan",
         "textfont": {
          "color": "blue",
          "size": 10
         },
         "textposition": "top left",
         "type": "scatter",
         "x": [
          125
         ],
         "y": [
          32.85714285714286
         ]
        },
        {
         "hoverinfo": "none",
         "mode": "text",
         "text": "Zeki Çelik",
         "textfont": {
          "color": "blue",
          "size": 10
         },
         "textposition": "top left",
         "type": "scatter",
         "x": [
          125
         ],
         "y": [
          38.57142857142857
         ]
        },
        {
         "hoverinfo": "none",
         "mode": "text",
         "text": "Salih Özcan",
         "textfont": {
          "color": "blue",
          "size": 10
         },
         "textposition": "top left",
         "type": "scatter",
         "x": [
          125
         ],
         "y": [
          44.285714285714285
         ]
        },
        {
         "hoverinfo": "none",
         "mode": "text",
         "text": "Okay Yokuşlu",
         "textfont": {
          "color": "blue",
          "size": 10
         },
         "textposition": "top left",
         "type": "scatter",
         "x": [
          125
         ],
         "y": [
          50
         ]
        },
        {
         "hoverinfo": "none",
         "mode": "text",
         "text": "Orkun Kökçü",
         "textfont": {
          "color": "blue",
          "size": 10
         },
         "textposition": "top left",
         "type": "scatter",
         "x": [
          125
         ],
         "y": [
          55.714285714285715
         ]
        },
        {
         "hoverinfo": "none",
         "mode": "text",
         "text": "Yusuf Yazıcı",
         "textfont": {
          "color": "blue",
          "size": 10
         },
         "textposition": "top left",
         "type": "scatter",
         "x": [
          125
         ],
         "y": [
          61.42857142857143
         ]
        },
        {
         "hoverinfo": "none",
         "mode": "text",
         "text": "İrfan Can Kahveci",
         "textfont": {
          "color": "blue",
          "size": 10
         },
         "textposition": "top left",
         "type": "scatter",
         "x": [
          125
         ],
         "y": [
          67.14285714285714
         ]
        },
        {
         "hoverinfo": "none",
         "mode": "text",
         "text": "Yunus Akgün",
         "textfont": {
          "color": "blue",
          "size": 10
         },
         "textposition": "top left",
         "type": "scatter",
         "x": [
          125
         ],
         "y": [
          72.85714285714286
         ]
        },
        {
         "hoverinfo": "none",
         "mode": "text",
         "text": "Kenan Yıldız",
         "textfont": {
          "color": "blue",
          "size": 10
         },
         "textposition": "top left",
         "type": "scatter",
         "x": [
          125
         ],
         "y": [
          78.57142857142857
         ]
        },
        {
         "hoverinfo": "none",
         "mode": "text",
         "text": "Semih Kılıçsoy",
         "textfont": {
          "color": "blue",
          "size": 10
         },
         "textposition": "top left",
         "type": "scatter",
         "x": [
          125
         ],
         "y": [
          84.28571428571429
         ]
        },
        {
         "hoverinfo": "none",
         "mode": "text",
         "text": "Bertuğ Yıldırım",
         "textfont": {
          "color": "blue",
          "size": 10
         },
         "textposition": "top left",
         "type": "scatter",
         "x": [
          125
         ],
         "y": [
          90
         ]
        },
        {
         "hoverinfo": "none",
         "mode": "text",
         "text": [
          "Teknik Direktör"
         ],
         "textfont": {
          "color": "red",
          "size": 12
         },
         "textposition": "top left",
         "type": "scatter",
         "x": [
          125
         ],
         "y": [
          95
         ]
        }
       ],
       "layout": {
        "paper_bgcolor": "rgba(0,0,0,0)",
        "plot_bgcolor": "rgba(0,0,0,0)",
        "shapes": [
         {
          "fillcolor": "rgba(0,0,0,0)",
          "line": {
           "color": "black"
          },
          "type": "rect",
          "x0": 0,
          "x1": 100,
          "y0": 0,
          "y1": 100
         },
         {
          "line": {
           "color": "black"
          },
          "type": "line",
          "x0": 0,
          "x1": 0,
          "y0": 0,
          "y1": 100
         },
         {
          "line": {
           "color": "black"
          },
          "type": "line",
          "x0": 0,
          "x1": 100,
          "y0": 100,
          "y1": 100
         },
         {
          "line": {
           "color": "black"
          },
          "type": "line",
          "x0": 100,
          "x1": 100,
          "y0": 100,
          "y1": 0
         },
         {
          "line": {
           "color": "black"
          },
          "type": "line",
          "x0": 100,
          "x1": 0,
          "y0": 0,
          "y1": 0
         },
         {
          "line": {
           "color": "black"
          },
          "type": "line",
          "x0": 50,
          "x1": 50,
          "y0": 0,
          "y1": 100
         },
         {
          "line": {
           "color": "black"
          },
          "type": "line",
          "x0": 15,
          "x1": 15,
          "y0": 19.5,
          "y1": 80.5
         },
         {
          "line": {
           "color": "black"
          },
          "type": "line",
          "x0": 0,
          "x1": 15,
          "y0": 19.5,
          "y1": 19.5
         },
         {
          "line": {
           "color": "black"
          },
          "type": "line",
          "x0": 15,
          "x1": 0,
          "y0": 80.5,
          "y1": 80.5
         },
         {
          "line": {
           "color": "black"
          },
          "type": "line",
          "x0": 85,
          "x1": 85,
          "y0": 19.5,
          "y1": 80.5
         },
         {
          "line": {
           "color": "black"
          },
          "type": "line",
          "x0": 100,
          "x1": 85,
          "y0": 19.5,
          "y1": 19.5
         },
         {
          "line": {
           "color": "black"
          },
          "type": "line",
          "x0": 85,
          "x1": 100,
          "y0": 80.5,
          "y1": 80.5
         },
         {
          "line": {
           "color": "black"
          },
          "type": "line",
          "x0": 5.5,
          "x1": 5.5,
          "y0": 29.5,
          "y1": 70.5
         },
         {
          "line": {
           "color": "black"
          },
          "type": "line",
          "x0": 0,
          "x1": 5.5,
          "y0": 29.5,
          "y1": 29.5
         },
         {
          "line": {
           "color": "black"
          },
          "type": "line",
          "x0": 5.5,
          "x1": 0,
          "y0": 70.5,
          "y1": 70.5
         },
         {
          "line": {
           "color": "black"
          },
          "type": "line",
          "x0": 94.5,
          "x1": 94.5,
          "y0": 29.5,
          "y1": 70.5
         },
         {
          "line": {
           "color": "black"
          },
          "type": "line",
          "x0": 100,
          "x1": 94.5,
          "y0": 29.5,
          "y1": 29.5
         },
         {
          "line": {
           "color": "black"
          },
          "type": "line",
          "x0": 94.5,
          "x1": 100,
          "y0": 70.5,
          "y1": 70.5
         }
        ],
        "showlegend": false,
        "template": {
         "data": {
          "bar": [
           {
            "error_x": {
             "color": "#2a3f5f"
            },
            "error_y": {
             "color": "#2a3f5f"
            },
            "marker": {
             "line": {
              "color": "#E5ECF6",
              "width": 0.5
             },
             "pattern": {
              "fillmode": "overlay",
              "size": 10,
              "solidity": 0.2
             }
            },
            "type": "bar"
           }
          ],
          "barpolar": [
           {
            "marker": {
             "line": {
              "color": "#E5ECF6",
              "width": 0.5
             },
             "pattern": {
              "fillmode": "overlay",
              "size": 10,
              "solidity": 0.2
             }
            },
            "type": "barpolar"
           }
          ],
          "carpet": [
           {
            "aaxis": {
             "endlinecolor": "#2a3f5f",
             "gridcolor": "white",
             "linecolor": "white",
             "minorgridcolor": "white",
             "startlinecolor": "#2a3f5f"
            },
            "baxis": {
             "endlinecolor": "#2a3f5f",
             "gridcolor": "white",
             "linecolor": "white",
             "minorgridcolor": "white",
             "startlinecolor": "#2a3f5f"
            },
            "type": "carpet"
           }
          ],
          "choropleth": [
           {
            "colorbar": {
             "outlinewidth": 0,
             "ticks": ""
            },
            "type": "choropleth"
           }
          ],
          "contour": [
           {
            "colorbar": {
             "outlinewidth": 0,
             "ticks": ""
            },
            "colorscale": [
             [
              0,
              "#0d0887"
             ],
             [
              0.1111111111111111,
              "#46039f"
             ],
             [
              0.2222222222222222,
              "#7201a8"
             ],
             [
              0.3333333333333333,
              "#9c179e"
             ],
             [
              0.4444444444444444,
              "#bd3786"
             ],
             [
              0.5555555555555556,
              "#d8576b"
             ],
             [
              0.6666666666666666,
              "#ed7953"
             ],
             [
              0.7777777777777778,
              "#fb9f3a"
             ],
             [
              0.8888888888888888,
              "#fdca26"
             ],
             [
              1,
              "#f0f921"
             ]
            ],
            "type": "contour"
           }
          ],
          "contourcarpet": [
           {
            "colorbar": {
             "outlinewidth": 0,
             "ticks": ""
            },
            "type": "contourcarpet"
           }
          ],
          "heatmap": [
           {
            "colorbar": {
             "outlinewidth": 0,
             "ticks": ""
            },
            "colorscale": [
             [
              0,
              "#0d0887"
             ],
             [
              0.1111111111111111,
              "#46039f"
             ],
             [
              0.2222222222222222,
              "#7201a8"
             ],
             [
              0.3333333333333333,
              "#9c179e"
             ],
             [
              0.4444444444444444,
              "#bd3786"
             ],
             [
              0.5555555555555556,
              "#d8576b"
             ],
             [
              0.6666666666666666,
              "#ed7953"
             ],
             [
              0.7777777777777778,
              "#fb9f3a"
             ],
             [
              0.8888888888888888,
              "#fdca26"
             ],
             [
              1,
              "#f0f921"
             ]
            ],
            "type": "heatmap"
           }
          ],
          "heatmapgl": [
           {
            "colorbar": {
             "outlinewidth": 0,
             "ticks": ""
            },
            "colorscale": [
             [
              0,
              "#0d0887"
             ],
             [
              0.1111111111111111,
              "#46039f"
             ],
             [
              0.2222222222222222,
              "#7201a8"
             ],
             [
              0.3333333333333333,
              "#9c179e"
             ],
             [
              0.4444444444444444,
              "#bd3786"
             ],
             [
              0.5555555555555556,
              "#d8576b"
             ],
             [
              0.6666666666666666,
              "#ed7953"
             ],
             [
              0.7777777777777778,
              "#fb9f3a"
             ],
             [
              0.8888888888888888,
              "#fdca26"
             ],
             [
              1,
              "#f0f921"
             ]
            ],
            "type": "heatmapgl"
           }
          ],
          "histogram": [
           {
            "marker": {
             "pattern": {
              "fillmode": "overlay",
              "size": 10,
              "solidity": 0.2
             }
            },
            "type": "histogram"
           }
          ],
          "histogram2d": [
           {
            "colorbar": {
             "outlinewidth": 0,
             "ticks": ""
            },
            "colorscale": [
             [
              0,
              "#0d0887"
             ],
             [
              0.1111111111111111,
              "#46039f"
             ],
             [
              0.2222222222222222,
              "#7201a8"
             ],
             [
              0.3333333333333333,
              "#9c179e"
             ],
             [
              0.4444444444444444,
              "#bd3786"
             ],
             [
              0.5555555555555556,
              "#d8576b"
             ],
             [
              0.6666666666666666,
              "#ed7953"
             ],
             [
              0.7777777777777778,
              "#fb9f3a"
             ],
             [
              0.8888888888888888,
              "#fdca26"
             ],
             [
              1,
              "#f0f921"
             ]
            ],
            "type": "histogram2d"
           }
          ],
          "histogram2dcontour": [
           {
            "colorbar": {
             "outlinewidth": 0,
             "ticks": ""
            },
            "colorscale": [
             [
              0,
              "#0d0887"
             ],
             [
              0.1111111111111111,
              "#46039f"
             ],
             [
              0.2222222222222222,
              "#7201a8"
             ],
             [
              0.3333333333333333,
              "#9c179e"
             ],
             [
              0.4444444444444444,
              "#bd3786"
             ],
             [
              0.5555555555555556,
              "#d8576b"
             ],
             [
              0.6666666666666666,
              "#ed7953"
             ],
             [
              0.7777777777777778,
              "#fb9f3a"
             ],
             [
              0.8888888888888888,
              "#fdca26"
             ],
             [
              1,
              "#f0f921"
             ]
            ],
            "type": "histogram2dcontour"
           }
          ],
          "mesh3d": [
           {
            "colorbar": {
             "outlinewidth": 0,
             "ticks": ""
            },
            "type": "mesh3d"
           }
          ],
          "parcoords": [
           {
            "line": {
             "colorbar": {
              "outlinewidth": 0,
              "ticks": ""
             }
            },
            "type": "parcoords"
           }
          ],
          "pie": [
           {
            "automargin": true,
            "type": "pie"
           }
          ],
          "scatter": [
           {
            "fillpattern": {
             "fillmode": "overlay",
             "size": 10,
             "solidity": 0.2
            },
            "type": "scatter"
           }
          ],
          "scatter3d": [
           {
            "line": {
             "colorbar": {
              "outlinewidth": 0,
              "ticks": ""
             }
            },
            "marker": {
             "colorbar": {
              "outlinewidth": 0,
              "ticks": ""
             }
            },
            "type": "scatter3d"
           }
          ],
          "scattercarpet": [
           {
            "marker": {
             "colorbar": {
              "outlinewidth": 0,
              "ticks": ""
             }
            },
            "type": "scattercarpet"
           }
          ],
          "scattergeo": [
           {
            "marker": {
             "colorbar": {
              "outlinewidth": 0,
              "ticks": ""
             }
            },
            "type": "scattergeo"
           }
          ],
          "scattergl": [
           {
            "marker": {
             "colorbar": {
              "outlinewidth": 0,
              "ticks": ""
             }
            },
            "type": "scattergl"
           }
          ],
          "scattermapbox": [
           {
            "marker": {
             "colorbar": {
              "outlinewidth": 0,
              "ticks": ""
             }
            },
            "type": "scattermapbox"
           }
          ],
          "scatterpolar": [
           {
            "marker": {
             "colorbar": {
              "outlinewidth": 0,
              "ticks": ""
             }
            },
            "type": "scatterpolar"
           }
          ],
          "scatterpolargl": [
           {
            "marker": {
             "colorbar": {
              "outlinewidth": 0,
              "ticks": ""
             }
            },
            "type": "scatterpolargl"
           }
          ],
          "scatterternary": [
           {
            "marker": {
             "colorbar": {
              "outlinewidth": 0,
              "ticks": ""
             }
            },
            "type": "scatterternary"
           }
          ],
          "surface": [
           {
            "colorbar": {
             "outlinewidth": 0,
             "ticks": ""
            },
            "colorscale": [
             [
              0,
              "#0d0887"
             ],
             [
              0.1111111111111111,
              "#46039f"
             ],
             [
              0.2222222222222222,
              "#7201a8"
             ],
             [
              0.3333333333333333,
              "#9c179e"
             ],
             [
              0.4444444444444444,
              "#bd3786"
             ],
             [
              0.5555555555555556,
              "#d8576b"
             ],
             [
              0.6666666666666666,
              "#ed7953"
             ],
             [
              0.7777777777777778,
              "#fb9f3a"
             ],
             [
              0.8888888888888888,
              "#fdca26"
             ],
             [
              1,
              "#f0f921"
             ]
            ],
            "type": "surface"
           }
          ],
          "table": [
           {
            "cells": {
             "fill": {
              "color": "#EBF0F8"
             },
             "line": {
              "color": "white"
             }
            },
            "header": {
             "fill": {
              "color": "#C8D4E3"
             },
             "line": {
              "color": "white"
             }
            },
            "type": "table"
           }
          ]
         },
         "layout": {
          "annotationdefaults": {
           "arrowcolor": "#2a3f5f",
           "arrowhead": 0,
           "arrowwidth": 1
          },
          "autotypenumbers": "strict",
          "coloraxis": {
           "colorbar": {
            "outlinewidth": 0,
            "ticks": ""
           }
          },
          "colorscale": {
           "diverging": [
            [
             0,
             "#8e0152"
            ],
            [
             0.1,
             "#c51b7d"
            ],
            [
             0.2,
             "#de77ae"
            ],
            [
             0.3,
             "#f1b6da"
            ],
            [
             0.4,
             "#fde0ef"
            ],
            [
             0.5,
             "#f7f7f7"
            ],
            [
             0.6,
             "#e6f5d0"
            ],
            [
             0.7,
             "#b8e186"
            ],
            [
             0.8,
             "#7fbc41"
            ],
            [
             0.9,
             "#4d9221"
            ],
            [
             1,
             "#276419"
            ]
           ],
           "sequential": [
            [
             0,
             "#0d0887"
            ],
            [
             0.1111111111111111,
             "#46039f"
            ],
            [
             0.2222222222222222,
             "#7201a8"
            ],
            [
             0.3333333333333333,
             "#9c179e"
            ],
            [
             0.4444444444444444,
             "#bd3786"
            ],
            [
             0.5555555555555556,
             "#d8576b"
            ],
            [
             0.6666666666666666,
             "#ed7953"
            ],
            [
             0.7777777777777778,
             "#fb9f3a"
            ],
            [
             0.8888888888888888,
             "#fdca26"
            ],
            [
             1,
             "#f0f921"
            ]
           ],
           "sequentialminus": [
            [
             0,
             "#0d0887"
            ],
            [
             0.1111111111111111,
             "#46039f"
            ],
            [
             0.2222222222222222,
             "#7201a8"
            ],
            [
             0.3333333333333333,
             "#9c179e"
            ],
            [
             0.4444444444444444,
             "#bd3786"
            ],
            [
             0.5555555555555556,
             "#d8576b"
            ],
            [
             0.6666666666666666,
             "#ed7953"
            ],
            [
             0.7777777777777778,
             "#fb9f3a"
            ],
            [
             0.8888888888888888,
             "#fdca26"
            ],
            [
             1,
             "#f0f921"
            ]
           ]
          },
          "colorway": [
           "#636efa",
           "#EF553B",
           "#00cc96",
           "#ab63fa",
           "#FFA15A",
           "#19d3f3",
           "#FF6692",
           "#B6E880",
           "#FF97FF",
           "#FECB52"
          ],
          "font": {
           "color": "#2a3f5f"
          },
          "geo": {
           "bgcolor": "white",
           "lakecolor": "white",
           "landcolor": "#E5ECF6",
           "showlakes": true,
           "showland": true,
           "subunitcolor": "white"
          },
          "hoverlabel": {
           "align": "left"
          },
          "hovermode": "closest",
          "mapbox": {
           "style": "light"
          },
          "paper_bgcolor": "white",
          "plot_bgcolor": "#E5ECF6",
          "polar": {
           "angularaxis": {
            "gridcolor": "white",
            "linecolor": "white",
            "ticks": ""
           },
           "bgcolor": "#E5ECF6",
           "radialaxis": {
            "gridcolor": "white",
            "linecolor": "white",
            "ticks": ""
           }
          },
          "scene": {
           "xaxis": {
            "backgroundcolor": "#E5ECF6",
            "gridcolor": "white",
            "gridwidth": 2,
            "linecolor": "white",
            "showbackground": true,
            "ticks": "",
            "zerolinecolor": "white"
           },
           "yaxis": {
            "backgroundcolor": "#E5ECF6",
            "gridcolor": "white",
            "gridwidth": 2,
            "linecolor": "white",
            "showbackground": true,
            "ticks": "",
            "zerolinecolor": "white"
           },
           "zaxis": {
            "backgroundcolor": "#E5ECF6",
            "gridcolor": "white",
            "gridwidth": 2,
            "linecolor": "white",
            "showbackground": true,
            "ticks": "",
            "zerolinecolor": "white"
           }
          },
          "shapedefaults": {
           "line": {
            "color": "#2a3f5f"
           }
          },
          "ternary": {
           "aaxis": {
            "gridcolor": "white",
            "linecolor": "white",
            "ticks": ""
           },
           "baxis": {
            "gridcolor": "white",
            "linecolor": "white",
            "ticks": ""
           },
           "bgcolor": "#E5ECF6",
           "caxis": {
            "gridcolor": "white",
            "linecolor": "white",
            "ticks": ""
           }
          },
          "title": {
           "x": 0.05
          },
          "xaxis": {
           "automargin": true,
           "gridcolor": "white",
           "linecolor": "white",
           "ticks": "",
           "title": {
            "standoff": 15
           },
           "zerolinecolor": "white",
           "zerolinewidth": 2
          },
          "yaxis": {
           "automargin": true,
           "gridcolor": "white",
           "linecolor": "white",
           "ticks": "",
           "title": {
            "standoff": 15
           },
           "zerolinecolor": "white",
           "zerolinewidth": 2
          }
         }
        },
        "title": {
         "font": {
          "size": 16
         },
         "text": "Turkish National Team Tactics"
        },
        "xaxis": {
         "range": [
          0,
          130
         ],
         "showgrid": false,
         "title": {
          "text": "X Coordinate"
         },
         "zeroline": false
        },
        "yaxis": {
         "range": [
          0,
          100
         ],
         "showgrid": false,
         "title": {
          "text": "Y Coordinate"
         },
         "zeroline": false
        }
       }
      },
      "text/html": [
       "<div>                            <div id=\"4e3b7ed3-aecc-427d-8a77-5d977d65f259\" class=\"plotly-graph-div\" style=\"height:525px; width:100%;\"></div>            <script type=\"text/javascript\">                require([\"plotly\"], function(Plotly) {                    window.PLOTLYENV=window.PLOTLYENV || {};                                    if (document.getElementById(\"4e3b7ed3-aecc-427d-8a77-5d977d65f259\")) {                    Plotly.newPlot(                        \"4e3b7ed3-aecc-427d-8a77-5d977d65f259\",                        [{\"hoverinfo\":\"text\",\"hovertext\":\"Name: Mert G\\u00fcnok<br>Age: 35<br>Market Value: 1200000\",\"marker\":{\"color\":\"red\",\"line\":{\"color\":\"red\",\"width\":2},\"opacity\":0.7,\"size\":30},\"mode\":\"markers+text\",\"text\":[\"Mert G\\u00fcnok\"],\"textfont\":{\"color\":\"white\",\"size\":12},\"textposition\":\"bottom center\",\"x\":[5],\"y\":[50],\"type\":\"scatter\"},{\"hoverinfo\":\"text\",\"hovertext\":\"Name: Ferdi Kad\\u0131o\\u011flu<br>Age: 24<br>Market Value: 21000000\",\"marker\":{\"color\":\"red\",\"line\":{\"color\":\"red\",\"width\":2},\"opacity\":0.7,\"size\":30},\"mode\":\"markers+text\",\"text\":[\"Ferdi Kad\\u0131o\\u011flu\"],\"textfont\":{\"color\":\"white\",\"size\":12},\"textposition\":\"bottom center\",\"x\":[20],\"y\":[20],\"type\":\"scatter\"},{\"hoverinfo\":\"text\",\"hovertext\":\"Name: Mert M\\u00fcld\\u00fcr<br>Age: 25<br>Market Value: 4200000\",\"marker\":{\"color\":\"red\",\"line\":{\"color\":\"red\",\"width\":2},\"opacity\":0.7,\"size\":30},\"mode\":\"markers+text\",\"text\":[\"Mert M\\u00fcld\\u00fcr\"],\"textfont\":{\"color\":\"white\",\"size\":12},\"textposition\":\"bottom center\",\"x\":[20],\"y\":[80],\"type\":\"scatter\"},{\"hoverinfo\":\"text\",\"hovertext\":\"Name: Abd\\u00fclkerim Bardakc\\u0131<br>Age: 29<br>Market Value: 9000000\",\"marker\":{\"color\":\"red\",\"line\":{\"color\":\"red\",\"width\":2},\"opacity\":0.7,\"size\":30},\"mode\":\"markers+text\",\"text\":[\"Abd\\u00fclkerim Bardakc\\u0131\"],\"textfont\":{\"color\":\"white\",\"size\":12},\"textposition\":\"bottom center\",\"x\":[35],\"y\":[35],\"type\":\"scatter\"},{\"hoverinfo\":\"text\",\"hovertext\":\"Name: Samet Akaydin<br>Age: 30<br>Market Value: 2500000\",\"marker\":{\"color\":\"red\",\"line\":{\"color\":\"red\",\"width\":2},\"opacity\":0.7,\"size\":30},\"mode\":\"markers+text\",\"text\":[\"Samet Akaydin\"],\"textfont\":{\"color\":\"white\",\"size\":12},\"textposition\":\"bottom center\",\"x\":[35],\"y\":[65],\"type\":\"scatter\"},{\"hoverinfo\":\"text\",\"hovertext\":\"Name: Hakan \\u00c7alhano\\u011flu<br>Age: 30<br>Market Value: 45000000\",\"marker\":{\"color\":\"red\",\"line\":{\"color\":\"red\",\"width\":2},\"opacity\":0.7,\"size\":30},\"mode\":\"markers+text\",\"text\":[\"Hakan \\u00c7alhano\\u011flu\"],\"textfont\":{\"color\":\"white\",\"size\":12},\"textposition\":\"bottom center\",\"x\":[50],\"y\":[30],\"type\":\"scatter\"},{\"hoverinfo\":\"text\",\"hovertext\":\"Name: \\u0130smail Y\\u00fcksek<br>Age: 25<br>Market Value: 12000000\",\"marker\":{\"color\":\"red\",\"line\":{\"color\":\"red\",\"width\":2},\"opacity\":0.7,\"size\":30},\"mode\":\"markers+text\",\"text\":[\"\\u0130smail Y\\u00fcksek\"],\"textfont\":{\"color\":\"white\",\"size\":12},\"textposition\":\"bottom center\",\"x\":[50],\"y\":[70],\"type\":\"scatter\"},{\"hoverinfo\":\"text\",\"hovertext\":\"Name: Bar\\u0131\\u015f Alper Y\\u0131lmaz<br>Age: 24<br>Market Value: 17000000\",\"marker\":{\"color\":\"red\",\"line\":{\"color\":\"red\",\"width\":2},\"opacity\":0.7,\"size\":30},\"mode\":\"markers+text\",\"text\":[\"Bar\\u0131\\u015f Alper Y\\u0131lmaz\"],\"textfont\":{\"color\":\"white\",\"size\":12},\"textposition\":\"bottom center\",\"x\":[70],\"y\":[20],\"type\":\"scatter\"},{\"hoverinfo\":\"text\",\"hovertext\":\"Name: Kerem Akt\\u00fcrko\\u011flu<br>Age: 25<br>Market Value: 15000000\",\"marker\":{\"color\":\"red\",\"line\":{\"color\":\"red\",\"width\":2},\"opacity\":0.7,\"size\":30},\"mode\":\"markers+text\",\"text\":[\"Kerem Akt\\u00fcrko\\u011flu\"],\"textfont\":{\"color\":\"white\",\"size\":12},\"textposition\":\"bottom center\",\"x\":[70],\"y\":[80],\"type\":\"scatter\"},{\"hoverinfo\":\"text\",\"hovertext\":\"Name: Arda G\\u00fcler<br>Age: 19<br>Market Value: 30000000\",\"marker\":{\"color\":\"red\",\"line\":{\"color\":\"red\",\"width\":2},\"opacity\":0.7,\"size\":30},\"mode\":\"markers+text\",\"text\":[\"Arda G\\u00fcler\"],\"textfont\":{\"color\":\"white\",\"size\":12},\"textposition\":\"bottom center\",\"x\":[70],\"y\":[50],\"type\":\"scatter\"},{\"hoverinfo\":\"text\",\"hovertext\":\"Name: Cenk Tosun<br>Age: 33<br>Market Value: 2000000\",\"marker\":{\"color\":\"red\",\"line\":{\"color\":\"red\",\"width\":2},\"opacity\":0.7,\"size\":30},\"mode\":\"markers+text\",\"text\":[\"Cenk Tosun\"],\"textfont\":{\"color\":\"white\",\"size\":12},\"textposition\":\"bottom center\",\"x\":[90],\"y\":[50],\"type\":\"scatter\"},{\"hoverinfo\":\"none\",\"mode\":\"text\",\"text\":\"Altay Bay\\u0131nd\\u0131r\",\"textfont\":{\"color\":\"blue\",\"size\":10},\"textposition\":\"top left\",\"x\":[125],\"y\":[10.0],\"type\":\"scatter\"},{\"hoverinfo\":\"none\",\"mode\":\"text\",\"text\":\"U\\u011furcan \\u00c7ak\\u0131r\",\"textfont\":{\"color\":\"blue\",\"size\":10},\"textposition\":\"top left\",\"x\":[125],\"y\":[15.714285714285715],\"type\":\"scatter\"},{\"hoverinfo\":\"none\",\"mode\":\"text\",\"text\":\"Merih Demiral\",\"textfont\":{\"color\":\"blue\",\"size\":10},\"textposition\":\"top left\",\"x\":[125],\"y\":[21.42857142857143],\"type\":\"scatter\"},{\"hoverinfo\":\"none\",\"mode\":\"text\",\"text\":\"Ahmetcan Kaplan\",\"textfont\":{\"color\":\"blue\",\"size\":10},\"textposition\":\"top left\",\"x\":[125],\"y\":[27.142857142857142],\"type\":\"scatter\"},{\"hoverinfo\":\"none\",\"mode\":\"text\",\"text\":\"Kaan Ayhan\",\"textfont\":{\"color\":\"blue\",\"size\":10},\"textposition\":\"top left\",\"x\":[125],\"y\":[32.85714285714286],\"type\":\"scatter\"},{\"hoverinfo\":\"none\",\"mode\":\"text\",\"text\":\"Zeki \\u00c7elik\",\"textfont\":{\"color\":\"blue\",\"size\":10},\"textposition\":\"top left\",\"x\":[125],\"y\":[38.57142857142857],\"type\":\"scatter\"},{\"hoverinfo\":\"none\",\"mode\":\"text\",\"text\":\"Salih \\u00d6zcan\",\"textfont\":{\"color\":\"blue\",\"size\":10},\"textposition\":\"top left\",\"x\":[125],\"y\":[44.285714285714285],\"type\":\"scatter\"},{\"hoverinfo\":\"none\",\"mode\":\"text\",\"text\":\"Okay Yoku\\u015flu\",\"textfont\":{\"color\":\"blue\",\"size\":10},\"textposition\":\"top left\",\"x\":[125],\"y\":[50.0],\"type\":\"scatter\"},{\"hoverinfo\":\"none\",\"mode\":\"text\",\"text\":\"Orkun K\\u00f6k\\u00e7\\u00fc\",\"textfont\":{\"color\":\"blue\",\"size\":10},\"textposition\":\"top left\",\"x\":[125],\"y\":[55.714285714285715],\"type\":\"scatter\"},{\"hoverinfo\":\"none\",\"mode\":\"text\",\"text\":\"Yusuf Yaz\\u0131c\\u0131\",\"textfont\":{\"color\":\"blue\",\"size\":10},\"textposition\":\"top left\",\"x\":[125],\"y\":[61.42857142857143],\"type\":\"scatter\"},{\"hoverinfo\":\"none\",\"mode\":\"text\",\"text\":\"\\u0130rfan Can Kahveci\",\"textfont\":{\"color\":\"blue\",\"size\":10},\"textposition\":\"top left\",\"x\":[125],\"y\":[67.14285714285714],\"type\":\"scatter\"},{\"hoverinfo\":\"none\",\"mode\":\"text\",\"text\":\"Yunus Akg\\u00fcn\",\"textfont\":{\"color\":\"blue\",\"size\":10},\"textposition\":\"top left\",\"x\":[125],\"y\":[72.85714285714286],\"type\":\"scatter\"},{\"hoverinfo\":\"none\",\"mode\":\"text\",\"text\":\"Kenan Y\\u0131ld\\u0131z\",\"textfont\":{\"color\":\"blue\",\"size\":10},\"textposition\":\"top left\",\"x\":[125],\"y\":[78.57142857142857],\"type\":\"scatter\"},{\"hoverinfo\":\"none\",\"mode\":\"text\",\"text\":\"Semih K\\u0131l\\u0131\\u00e7soy\",\"textfont\":{\"color\":\"blue\",\"size\":10},\"textposition\":\"top left\",\"x\":[125],\"y\":[84.28571428571429],\"type\":\"scatter\"},{\"hoverinfo\":\"none\",\"mode\":\"text\",\"text\":\"Bertu\\u011f Y\\u0131ld\\u0131r\\u0131m\",\"textfont\":{\"color\":\"blue\",\"size\":10},\"textposition\":\"top left\",\"x\":[125],\"y\":[90.0],\"type\":\"scatter\"},{\"hoverinfo\":\"none\",\"mode\":\"text\",\"text\":[\"Teknik Direkt\\u00f6r\"],\"textfont\":{\"color\":\"red\",\"size\":12},\"textposition\":\"top left\",\"x\":[125],\"y\":[95],\"type\":\"scatter\"},{\"hoverinfo\":\"text\",\"hovertext\":\"Name: Mert G\\u00fcnok<br>Age: 35<br>Market Value: 1200000\",\"marker\":{\"color\":\"red\",\"line\":{\"color\":\"red\",\"width\":2},\"opacity\":0.7,\"size\":30},\"mode\":\"markers+text\",\"text\":[\"Mert G\\u00fcnok\"],\"textfont\":{\"color\":\"white\",\"size\":12},\"textposition\":\"bottom center\",\"x\":[5],\"y\":[50],\"type\":\"scatter\"},{\"hoverinfo\":\"text\",\"hovertext\":\"Name: Ferdi Kad\\u0131o\\u011flu<br>Age: 24<br>Market Value: 21000000\",\"marker\":{\"color\":\"red\",\"line\":{\"color\":\"red\",\"width\":2},\"opacity\":0.7,\"size\":30},\"mode\":\"markers+text\",\"text\":[\"Ferdi Kad\\u0131o\\u011flu\"],\"textfont\":{\"color\":\"white\",\"size\":12},\"textposition\":\"bottom center\",\"x\":[20],\"y\":[20],\"type\":\"scatter\"},{\"hoverinfo\":\"text\",\"hovertext\":\"Name: Mert M\\u00fcld\\u00fcr<br>Age: 25<br>Market Value: 4200000\",\"marker\":{\"color\":\"red\",\"line\":{\"color\":\"red\",\"width\":2},\"opacity\":0.7,\"size\":30},\"mode\":\"markers+text\",\"text\":[\"Mert M\\u00fcld\\u00fcr\"],\"textfont\":{\"color\":\"white\",\"size\":12},\"textposition\":\"bottom center\",\"x\":[20],\"y\":[80],\"type\":\"scatter\"},{\"hoverinfo\":\"text\",\"hovertext\":\"Name: Abd\\u00fclkerim Bardakc\\u0131<br>Age: 29<br>Market Value: 9000000\",\"marker\":{\"color\":\"red\",\"line\":{\"color\":\"red\",\"width\":2},\"opacity\":0.7,\"size\":30},\"mode\":\"markers+text\",\"text\":[\"Abd\\u00fclkerim Bardakc\\u0131\"],\"textfont\":{\"color\":\"white\",\"size\":12},\"textposition\":\"bottom center\",\"x\":[35],\"y\":[35],\"type\":\"scatter\"},{\"hoverinfo\":\"text\",\"hovertext\":\"Name: Samet Akaydin<br>Age: 30<br>Market Value: 2500000\",\"marker\":{\"color\":\"red\",\"line\":{\"color\":\"red\",\"width\":2},\"opacity\":0.7,\"size\":30},\"mode\":\"markers+text\",\"text\":[\"Samet Akaydin\"],\"textfont\":{\"color\":\"white\",\"size\":12},\"textposition\":\"bottom center\",\"x\":[35],\"y\":[65],\"type\":\"scatter\"},{\"hoverinfo\":\"text\",\"hovertext\":\"Name: Hakan \\u00c7alhano\\u011flu<br>Age: 30<br>Market Value: 45000000\",\"marker\":{\"color\":\"red\",\"line\":{\"color\":\"red\",\"width\":2},\"opacity\":0.7,\"size\":30},\"mode\":\"markers+text\",\"text\":[\"Hakan \\u00c7alhano\\u011flu\"],\"textfont\":{\"color\":\"white\",\"size\":12},\"textposition\":\"bottom center\",\"x\":[50],\"y\":[30],\"type\":\"scatter\"},{\"hoverinfo\":\"text\",\"hovertext\":\"Name: \\u0130smail Y\\u00fcksek<br>Age: 25<br>Market Value: 12000000\",\"marker\":{\"color\":\"red\",\"line\":{\"color\":\"red\",\"width\":2},\"opacity\":0.7,\"size\":30},\"mode\":\"markers+text\",\"text\":[\"\\u0130smail Y\\u00fcksek\"],\"textfont\":{\"color\":\"white\",\"size\":12},\"textposition\":\"bottom center\",\"x\":[50],\"y\":[70],\"type\":\"scatter\"},{\"hoverinfo\":\"text\",\"hovertext\":\"Name: Bar\\u0131\\u015f Alper Y\\u0131lmaz<br>Age: 24<br>Market Value: 17000000\",\"marker\":{\"color\":\"red\",\"line\":{\"color\":\"red\",\"width\":2},\"opacity\":0.7,\"size\":30},\"mode\":\"markers+text\",\"text\":[\"Bar\\u0131\\u015f Alper Y\\u0131lmaz\"],\"textfont\":{\"color\":\"white\",\"size\":12},\"textposition\":\"bottom center\",\"x\":[70],\"y\":[20],\"type\":\"scatter\"},{\"hoverinfo\":\"text\",\"hovertext\":\"Name: Kerem Akt\\u00fcrko\\u011flu<br>Age: 25<br>Market Value: 15000000\",\"marker\":{\"color\":\"red\",\"line\":{\"color\":\"red\",\"width\":2},\"opacity\":0.7,\"size\":30},\"mode\":\"markers+text\",\"text\":[\"Kerem Akt\\u00fcrko\\u011flu\"],\"textfont\":{\"color\":\"white\",\"size\":12},\"textposition\":\"bottom center\",\"x\":[70],\"y\":[80],\"type\":\"scatter\"},{\"hoverinfo\":\"text\",\"hovertext\":\"Name: Arda G\\u00fcler<br>Age: 19<br>Market Value: 30000000\",\"marker\":{\"color\":\"red\",\"line\":{\"color\":\"red\",\"width\":2},\"opacity\":0.7,\"size\":30},\"mode\":\"markers+text\",\"text\":[\"Arda G\\u00fcler\"],\"textfont\":{\"color\":\"white\",\"size\":12},\"textposition\":\"bottom center\",\"x\":[70],\"y\":[50],\"type\":\"scatter\"},{\"hoverinfo\":\"text\",\"hovertext\":\"Name: Cenk Tosun<br>Age: 33<br>Market Value: 2000000\",\"marker\":{\"color\":\"red\",\"line\":{\"color\":\"red\",\"width\":2},\"opacity\":0.7,\"size\":30},\"mode\":\"markers+text\",\"text\":[\"Cenk Tosun\"],\"textfont\":{\"color\":\"white\",\"size\":12},\"textposition\":\"bottom center\",\"x\":[90],\"y\":[50],\"type\":\"scatter\"},{\"hoverinfo\":\"none\",\"mode\":\"text\",\"text\":\"Altay Bay\\u0131nd\\u0131r\",\"textfont\":{\"color\":\"blue\",\"size\":10},\"textposition\":\"top left\",\"x\":[125],\"y\":[10.0],\"type\":\"scatter\"},{\"hoverinfo\":\"none\",\"mode\":\"text\",\"text\":\"U\\u011furcan \\u00c7ak\\u0131r\",\"textfont\":{\"color\":\"blue\",\"size\":10},\"textposition\":\"top left\",\"x\":[125],\"y\":[15.714285714285715],\"type\":\"scatter\"},{\"hoverinfo\":\"none\",\"mode\":\"text\",\"text\":\"Merih Demiral\",\"textfont\":{\"color\":\"blue\",\"size\":10},\"textposition\":\"top left\",\"x\":[125],\"y\":[21.42857142857143],\"type\":\"scatter\"},{\"hoverinfo\":\"none\",\"mode\":\"text\",\"text\":\"Ahmetcan Kaplan\",\"textfont\":{\"color\":\"blue\",\"size\":10},\"textposition\":\"top left\",\"x\":[125],\"y\":[27.142857142857142],\"type\":\"scatter\"},{\"hoverinfo\":\"none\",\"mode\":\"text\",\"text\":\"Kaan Ayhan\",\"textfont\":{\"color\":\"blue\",\"size\":10},\"textposition\":\"top left\",\"x\":[125],\"y\":[32.85714285714286],\"type\":\"scatter\"},{\"hoverinfo\":\"none\",\"mode\":\"text\",\"text\":\"Zeki \\u00c7elik\",\"textfont\":{\"color\":\"blue\",\"size\":10},\"textposition\":\"top left\",\"x\":[125],\"y\":[38.57142857142857],\"type\":\"scatter\"},{\"hoverinfo\":\"none\",\"mode\":\"text\",\"text\":\"Salih \\u00d6zcan\",\"textfont\":{\"color\":\"blue\",\"size\":10},\"textposition\":\"top left\",\"x\":[125],\"y\":[44.285714285714285],\"type\":\"scatter\"},{\"hoverinfo\":\"none\",\"mode\":\"text\",\"text\":\"Okay Yoku\\u015flu\",\"textfont\":{\"color\":\"blue\",\"size\":10},\"textposition\":\"top left\",\"x\":[125],\"y\":[50.0],\"type\":\"scatter\"},{\"hoverinfo\":\"none\",\"mode\":\"text\",\"text\":\"Orkun K\\u00f6k\\u00e7\\u00fc\",\"textfont\":{\"color\":\"blue\",\"size\":10},\"textposition\":\"top left\",\"x\":[125],\"y\":[55.714285714285715],\"type\":\"scatter\"},{\"hoverinfo\":\"none\",\"mode\":\"text\",\"text\":\"Yusuf Yaz\\u0131c\\u0131\",\"textfont\":{\"color\":\"blue\",\"size\":10},\"textposition\":\"top left\",\"x\":[125],\"y\":[61.42857142857143],\"type\":\"scatter\"},{\"hoverinfo\":\"none\",\"mode\":\"text\",\"text\":\"\\u0130rfan Can Kahveci\",\"textfont\":{\"color\":\"blue\",\"size\":10},\"textposition\":\"top left\",\"x\":[125],\"y\":[67.14285714285714],\"type\":\"scatter\"},{\"hoverinfo\":\"none\",\"mode\":\"text\",\"text\":\"Yunus Akg\\u00fcn\",\"textfont\":{\"color\":\"blue\",\"size\":10},\"textposition\":\"top left\",\"x\":[125],\"y\":[72.85714285714286],\"type\":\"scatter\"},{\"hoverinfo\":\"none\",\"mode\":\"text\",\"text\":\"Kenan Y\\u0131ld\\u0131z\",\"textfont\":{\"color\":\"blue\",\"size\":10},\"textposition\":\"top left\",\"x\":[125],\"y\":[78.57142857142857],\"type\":\"scatter\"},{\"hoverinfo\":\"none\",\"mode\":\"text\",\"text\":\"Semih K\\u0131l\\u0131\\u00e7soy\",\"textfont\":{\"color\":\"blue\",\"size\":10},\"textposition\":\"top left\",\"x\":[125],\"y\":[84.28571428571429],\"type\":\"scatter\"},{\"hoverinfo\":\"none\",\"mode\":\"text\",\"text\":\"Bertu\\u011f Y\\u0131ld\\u0131r\\u0131m\",\"textfont\":{\"color\":\"blue\",\"size\":10},\"textposition\":\"top left\",\"x\":[125],\"y\":[90.0],\"type\":\"scatter\"},{\"hoverinfo\":\"none\",\"mode\":\"text\",\"text\":[\"Teknik Direkt\\u00f6r\"],\"textfont\":{\"color\":\"red\",\"size\":12},\"textposition\":\"top left\",\"x\":[125],\"y\":[95],\"type\":\"scatter\"}],                        {\"template\":{\"data\":{\"histogram2dcontour\":[{\"type\":\"histogram2dcontour\",\"colorbar\":{\"outlinewidth\":0,\"ticks\":\"\"},\"colorscale\":[[0.0,\"#0d0887\"],[0.1111111111111111,\"#46039f\"],[0.2222222222222222,\"#7201a8\"],[0.3333333333333333,\"#9c179e\"],[0.4444444444444444,\"#bd3786\"],[0.5555555555555556,\"#d8576b\"],[0.6666666666666666,\"#ed7953\"],[0.7777777777777778,\"#fb9f3a\"],[0.8888888888888888,\"#fdca26\"],[1.0,\"#f0f921\"]]}],\"choropleth\":[{\"type\":\"choropleth\",\"colorbar\":{\"outlinewidth\":0,\"ticks\":\"\"}}],\"histogram2d\":[{\"type\":\"histogram2d\",\"colorbar\":{\"outlinewidth\":0,\"ticks\":\"\"},\"colorscale\":[[0.0,\"#0d0887\"],[0.1111111111111111,\"#46039f\"],[0.2222222222222222,\"#7201a8\"],[0.3333333333333333,\"#9c179e\"],[0.4444444444444444,\"#bd3786\"],[0.5555555555555556,\"#d8576b\"],[0.6666666666666666,\"#ed7953\"],[0.7777777777777778,\"#fb9f3a\"],[0.8888888888888888,\"#fdca26\"],[1.0,\"#f0f921\"]]}],\"heatmap\":[{\"type\":\"heatmap\",\"colorbar\":{\"outlinewidth\":0,\"ticks\":\"\"},\"colorscale\":[[0.0,\"#0d0887\"],[0.1111111111111111,\"#46039f\"],[0.2222222222222222,\"#7201a8\"],[0.3333333333333333,\"#9c179e\"],[0.4444444444444444,\"#bd3786\"],[0.5555555555555556,\"#d8576b\"],[0.6666666666666666,\"#ed7953\"],[0.7777777777777778,\"#fb9f3a\"],[0.8888888888888888,\"#fdca26\"],[1.0,\"#f0f921\"]]}],\"heatmapgl\":[{\"type\":\"heatmapgl\",\"colorbar\":{\"outlinewidth\":0,\"ticks\":\"\"},\"colorscale\":[[0.0,\"#0d0887\"],[0.1111111111111111,\"#46039f\"],[0.2222222222222222,\"#7201a8\"],[0.3333333333333333,\"#9c179e\"],[0.4444444444444444,\"#bd3786\"],[0.5555555555555556,\"#d8576b\"],[0.6666666666666666,\"#ed7953\"],[0.7777777777777778,\"#fb9f3a\"],[0.8888888888888888,\"#fdca26\"],[1.0,\"#f0f921\"]]}],\"contourcarpet\":[{\"type\":\"contourcarpet\",\"colorbar\":{\"outlinewidth\":0,\"ticks\":\"\"}}],\"contour\":[{\"type\":\"contour\",\"colorbar\":{\"outlinewidth\":0,\"ticks\":\"\"},\"colorscale\":[[0.0,\"#0d0887\"],[0.1111111111111111,\"#46039f\"],[0.2222222222222222,\"#7201a8\"],[0.3333333333333333,\"#9c179e\"],[0.4444444444444444,\"#bd3786\"],[0.5555555555555556,\"#d8576b\"],[0.6666666666666666,\"#ed7953\"],[0.7777777777777778,\"#fb9f3a\"],[0.8888888888888888,\"#fdca26\"],[1.0,\"#f0f921\"]]}],\"surface\":[{\"type\":\"surface\",\"colorbar\":{\"outlinewidth\":0,\"ticks\":\"\"},\"colorscale\":[[0.0,\"#0d0887\"],[0.1111111111111111,\"#46039f\"],[0.2222222222222222,\"#7201a8\"],[0.3333333333333333,\"#9c179e\"],[0.4444444444444444,\"#bd3786\"],[0.5555555555555556,\"#d8576b\"],[0.6666666666666666,\"#ed7953\"],[0.7777777777777778,\"#fb9f3a\"],[0.8888888888888888,\"#fdca26\"],[1.0,\"#f0f921\"]]}],\"mesh3d\":[{\"type\":\"mesh3d\",\"colorbar\":{\"outlinewidth\":0,\"ticks\":\"\"}}],\"scatter\":[{\"fillpattern\":{\"fillmode\":\"overlay\",\"size\":10,\"solidity\":0.2},\"type\":\"scatter\"}],\"parcoords\":[{\"type\":\"parcoords\",\"line\":{\"colorbar\":{\"outlinewidth\":0,\"ticks\":\"\"}}}],\"scatterpolargl\":[{\"type\":\"scatterpolargl\",\"marker\":{\"colorbar\":{\"outlinewidth\":0,\"ticks\":\"\"}}}],\"bar\":[{\"error_x\":{\"color\":\"#2a3f5f\"},\"error_y\":{\"color\":\"#2a3f5f\"},\"marker\":{\"line\":{\"color\":\"#E5ECF6\",\"width\":0.5},\"pattern\":{\"fillmode\":\"overlay\",\"size\":10,\"solidity\":0.2}},\"type\":\"bar\"}],\"scattergeo\":[{\"type\":\"scattergeo\",\"marker\":{\"colorbar\":{\"outlinewidth\":0,\"ticks\":\"\"}}}],\"scatterpolar\":[{\"type\":\"scatterpolar\",\"marker\":{\"colorbar\":{\"outlinewidth\":0,\"ticks\":\"\"}}}],\"histogram\":[{\"marker\":{\"pattern\":{\"fillmode\":\"overlay\",\"size\":10,\"solidity\":0.2}},\"type\":\"histogram\"}],\"scattergl\":[{\"type\":\"scattergl\",\"marker\":{\"colorbar\":{\"outlinewidth\":0,\"ticks\":\"\"}}}],\"scatter3d\":[{\"type\":\"scatter3d\",\"line\":{\"colorbar\":{\"outlinewidth\":0,\"ticks\":\"\"}},\"marker\":{\"colorbar\":{\"outlinewidth\":0,\"ticks\":\"\"}}}],\"scattermapbox\":[{\"type\":\"scattermapbox\",\"marker\":{\"colorbar\":{\"outlinewidth\":0,\"ticks\":\"\"}}}],\"scatterternary\":[{\"type\":\"scatterternary\",\"marker\":{\"colorbar\":{\"outlinewidth\":0,\"ticks\":\"\"}}}],\"scattercarpet\":[{\"type\":\"scattercarpet\",\"marker\":{\"colorbar\":{\"outlinewidth\":0,\"ticks\":\"\"}}}],\"carpet\":[{\"aaxis\":{\"endlinecolor\":\"#2a3f5f\",\"gridcolor\":\"white\",\"linecolor\":\"white\",\"minorgridcolor\":\"white\",\"startlinecolor\":\"#2a3f5f\"},\"baxis\":{\"endlinecolor\":\"#2a3f5f\",\"gridcolor\":\"white\",\"linecolor\":\"white\",\"minorgridcolor\":\"white\",\"startlinecolor\":\"#2a3f5f\"},\"type\":\"carpet\"}],\"table\":[{\"cells\":{\"fill\":{\"color\":\"#EBF0F8\"},\"line\":{\"color\":\"white\"}},\"header\":{\"fill\":{\"color\":\"#C8D4E3\"},\"line\":{\"color\":\"white\"}},\"type\":\"table\"}],\"barpolar\":[{\"marker\":{\"line\":{\"color\":\"#E5ECF6\",\"width\":0.5},\"pattern\":{\"fillmode\":\"overlay\",\"size\":10,\"solidity\":0.2}},\"type\":\"barpolar\"}],\"pie\":[{\"automargin\":true,\"type\":\"pie\"}]},\"layout\":{\"autotypenumbers\":\"strict\",\"colorway\":[\"#636efa\",\"#EF553B\",\"#00cc96\",\"#ab63fa\",\"#FFA15A\",\"#19d3f3\",\"#FF6692\",\"#B6E880\",\"#FF97FF\",\"#FECB52\"],\"font\":{\"color\":\"#2a3f5f\"},\"hovermode\":\"closest\",\"hoverlabel\":{\"align\":\"left\"},\"paper_bgcolor\":\"white\",\"plot_bgcolor\":\"#E5ECF6\",\"polar\":{\"bgcolor\":\"#E5ECF6\",\"angularaxis\":{\"gridcolor\":\"white\",\"linecolor\":\"white\",\"ticks\":\"\"},\"radialaxis\":{\"gridcolor\":\"white\",\"linecolor\":\"white\",\"ticks\":\"\"}},\"ternary\":{\"bgcolor\":\"#E5ECF6\",\"aaxis\":{\"gridcolor\":\"white\",\"linecolor\":\"white\",\"ticks\":\"\"},\"baxis\":{\"gridcolor\":\"white\",\"linecolor\":\"white\",\"ticks\":\"\"},\"caxis\":{\"gridcolor\":\"white\",\"linecolor\":\"white\",\"ticks\":\"\"}},\"coloraxis\":{\"colorbar\":{\"outlinewidth\":0,\"ticks\":\"\"}},\"colorscale\":{\"sequential\":[[0.0,\"#0d0887\"],[0.1111111111111111,\"#46039f\"],[0.2222222222222222,\"#7201a8\"],[0.3333333333333333,\"#9c179e\"],[0.4444444444444444,\"#bd3786\"],[0.5555555555555556,\"#d8576b\"],[0.6666666666666666,\"#ed7953\"],[0.7777777777777778,\"#fb9f3a\"],[0.8888888888888888,\"#fdca26\"],[1.0,\"#f0f921\"]],\"sequentialminus\":[[0.0,\"#0d0887\"],[0.1111111111111111,\"#46039f\"],[0.2222222222222222,\"#7201a8\"],[0.3333333333333333,\"#9c179e\"],[0.4444444444444444,\"#bd3786\"],[0.5555555555555556,\"#d8576b\"],[0.6666666666666666,\"#ed7953\"],[0.7777777777777778,\"#fb9f3a\"],[0.8888888888888888,\"#fdca26\"],[1.0,\"#f0f921\"]],\"diverging\":[[0,\"#8e0152\"],[0.1,\"#c51b7d\"],[0.2,\"#de77ae\"],[0.3,\"#f1b6da\"],[0.4,\"#fde0ef\"],[0.5,\"#f7f7f7\"],[0.6,\"#e6f5d0\"],[0.7,\"#b8e186\"],[0.8,\"#7fbc41\"],[0.9,\"#4d9221\"],[1,\"#276419\"]]},\"xaxis\":{\"gridcolor\":\"white\",\"linecolor\":\"white\",\"ticks\":\"\",\"title\":{\"standoff\":15},\"zerolinecolor\":\"white\",\"automargin\":true,\"zerolinewidth\":2},\"yaxis\":{\"gridcolor\":\"white\",\"linecolor\":\"white\",\"ticks\":\"\",\"title\":{\"standoff\":15},\"zerolinecolor\":\"white\",\"automargin\":true,\"zerolinewidth\":2},\"scene\":{\"xaxis\":{\"backgroundcolor\":\"#E5ECF6\",\"gridcolor\":\"white\",\"linecolor\":\"white\",\"showbackground\":true,\"ticks\":\"\",\"zerolinecolor\":\"white\",\"gridwidth\":2},\"yaxis\":{\"backgroundcolor\":\"#E5ECF6\",\"gridcolor\":\"white\",\"linecolor\":\"white\",\"showbackground\":true,\"ticks\":\"\",\"zerolinecolor\":\"white\",\"gridwidth\":2},\"zaxis\":{\"backgroundcolor\":\"#E5ECF6\",\"gridcolor\":\"white\",\"linecolor\":\"white\",\"showbackground\":true,\"ticks\":\"\",\"zerolinecolor\":\"white\",\"gridwidth\":2}},\"shapedefaults\":{\"line\":{\"color\":\"#2a3f5f\"}},\"annotationdefaults\":{\"arrowcolor\":\"#2a3f5f\",\"arrowhead\":0,\"arrowwidth\":1},\"geo\":{\"bgcolor\":\"white\",\"landcolor\":\"#E5ECF6\",\"subunitcolor\":\"white\",\"showland\":true,\"showlakes\":true,\"lakecolor\":\"white\"},\"title\":{\"x\":0.05},\"mapbox\":{\"style\":\"light\"}}},\"shapes\":[{\"fillcolor\":\"rgba(0,0,0,0)\",\"line\":{\"color\":\"black\"},\"type\":\"rect\",\"x0\":0,\"x1\":100,\"y0\":0,\"y1\":100},{\"line\":{\"color\":\"black\"},\"type\":\"line\",\"x0\":0,\"x1\":0,\"y0\":0,\"y1\":100},{\"line\":{\"color\":\"black\"},\"type\":\"line\",\"x0\":0,\"x1\":100,\"y0\":100,\"y1\":100},{\"line\":{\"color\":\"black\"},\"type\":\"line\",\"x0\":100,\"x1\":100,\"y0\":100,\"y1\":0},{\"line\":{\"color\":\"black\"},\"type\":\"line\",\"x0\":100,\"x1\":0,\"y0\":0,\"y1\":0},{\"line\":{\"color\":\"black\"},\"type\":\"line\",\"x0\":50,\"x1\":50,\"y0\":0,\"y1\":100},{\"line\":{\"color\":\"black\"},\"type\":\"line\",\"x0\":15,\"x1\":15,\"y0\":19.5,\"y1\":80.5},{\"line\":{\"color\":\"black\"},\"type\":\"line\",\"x0\":0,\"x1\":15,\"y0\":19.5,\"y1\":19.5},{\"line\":{\"color\":\"black\"},\"type\":\"line\",\"x0\":15,\"x1\":0,\"y0\":80.5,\"y1\":80.5},{\"line\":{\"color\":\"black\"},\"type\":\"line\",\"x0\":85,\"x1\":85,\"y0\":19.5,\"y1\":80.5},{\"line\":{\"color\":\"black\"},\"type\":\"line\",\"x0\":100,\"x1\":85,\"y0\":19.5,\"y1\":19.5},{\"line\":{\"color\":\"black\"},\"type\":\"line\",\"x0\":85,\"x1\":100,\"y0\":80.5,\"y1\":80.5},{\"line\":{\"color\":\"black\"},\"type\":\"line\",\"x0\":5.5,\"x1\":5.5,\"y0\":29.5,\"y1\":70.5},{\"line\":{\"color\":\"black\"},\"type\":\"line\",\"x0\":0,\"x1\":5.5,\"y0\":29.5,\"y1\":29.5},{\"line\":{\"color\":\"black\"},\"type\":\"line\",\"x0\":5.5,\"x1\":0,\"y0\":70.5,\"y1\":70.5},{\"line\":{\"color\":\"black\"},\"type\":\"line\",\"x0\":94.5,\"x1\":94.5,\"y0\":29.5,\"y1\":70.5},{\"line\":{\"color\":\"black\"},\"type\":\"line\",\"x0\":100,\"x1\":94.5,\"y0\":29.5,\"y1\":29.5},{\"line\":{\"color\":\"black\"},\"type\":\"line\",\"x0\":94.5,\"x1\":100,\"y0\":70.5,\"y1\":70.5}],\"title\":{\"text\":\"Turkish National Team Tactics\",\"font\":{\"size\":16}},\"xaxis\":{\"title\":{\"text\":\"X Coordinate\"},\"range\":[0,130],\"showgrid\":false,\"zeroline\":false},\"yaxis\":{\"title\":{\"text\":\"Y Coordinate\"},\"range\":[0,100],\"showgrid\":false,\"zeroline\":false},\"plot_bgcolor\":\"rgba(0,0,0,0)\",\"paper_bgcolor\":\"rgba(0,0,0,0)\",\"showlegend\":false},                        {\"responsive\": true}                    ).then(function(){\n",
       "                            \n",
       "var gd = document.getElementById('4e3b7ed3-aecc-427d-8a77-5d977d65f259');\n",
       "var x = new MutationObserver(function (mutations, observer) {{\n",
       "        var display = window.getComputedStyle(gd).display;\n",
       "        if (!display || display === 'none') {{\n",
       "            console.log([gd, 'removed!']);\n",
       "            Plotly.purge(gd);\n",
       "            observer.disconnect();\n",
       "        }}\n",
       "}});\n",
       "\n",
       "// Listen for the removal of the full notebook cells\n",
       "var notebookContainer = gd.closest('#notebook-container');\n",
       "if (notebookContainer) {{\n",
       "    x.observe(notebookContainer, {childList: true});\n",
       "}}\n",
       "\n",
       "// Listen for the clearing of the current output cell\n",
       "var outputEl = gd.closest('.output');\n",
       "if (outputEl) {{\n",
       "    x.observe(outputEl, {childList: true});\n",
       "}}\n",
       "\n",
       "                        })                };                });            </script>        </div>"
      ]
     },
     "metadata": {},
     "output_type": "display_data"
    }
   ],
   "source": [
    "fig.update_layout(\n",
    "    title='Turkish National Team Tactics',\n",
    "    title_font_size=16,\n",
    "    xaxis_title='X Coordinate',\n",
    "    yaxis_title='Y Coordinate',\n",
    "    xaxis=dict(\n",
    "        range=[0, 130],\n",
    "        showgrid=False,\n",
    "        zeroline=False\n",
    "    ),\n",
    "    yaxis=dict(\n",
    "        range=[0, 100],\n",
    "        showgrid=False,\n",
    "        zeroline=False\n",
    "    ),\n",
    "    plot_bgcolor='rgba(0,0,0,0)',  # Şeffaf arka plan\n",
    "    paper_bgcolor='rgba(0,0,0,0)',  # Şeffaf arka plan\n",
    "    showlegend=False  # Legend'i kapatıyoruz çünkü oyuncu isimleri zaten grafikte var\n",
    ")\n",
    "\n",
    "# Grafiği göster\n",
    "fig.show()\n"
   ]
  }
 ],
 "metadata": {
  "kernelspec": {
   "display_name": "Python 3 (ipykernel)",
   "language": "python",
   "name": "python3"
  },
  "language_info": {
   "codemirror_mode": {
    "name": "ipython",
    "version": 3
   },
   "file_extension": ".py",
   "mimetype": "text/x-python",
   "name": "python",
   "nbconvert_exporter": "python",
   "pygments_lexer": "ipython3",
   "version": "3.11.5"
  }
 },
 "nbformat": 4,
 "nbformat_minor": 5
}
